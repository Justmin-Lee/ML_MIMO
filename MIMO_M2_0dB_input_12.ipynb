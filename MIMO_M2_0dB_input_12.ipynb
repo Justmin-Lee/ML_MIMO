{
 "cells": [
  {
   "cell_type": "code",
   "execution_count": 1,
   "id": "39878172",
   "metadata": {},
   "outputs": [],
   "source": [
    "import numpy as np\n",
    "import random\n",
    "import matplotlib.pyplot as plt\n",
    "import tensorflow as tf\n",
    "from sklearn.model_selection import train_test_split\n",
    "from sklearn.preprocessing import LabelEncoder\n",
    "\n",
    "random.seed(777)  # for reproducibility\n",
    "learning_rate = 0.001\n",
    "batch_size = 10000\n",
    "training_epochs = 200\n",
    "nb_classes = 4\n",
    "drop_rate = 0.3"
   ]
  },
  {
   "cell_type": "code",
   "execution_count": 2,
   "id": "6a28f0ed",
   "metadata": {
    "scrolled": false
   },
   "outputs": [
    {
     "name": "stdout",
     "output_type": "stream",
     "text": [
      "(400000, 12) (400000, 4)\n",
      "[[ 3.985979    2.9266756  -1.4389254  ... -0.9246753  -0.30659586\n",
      "   0.24227208]\n",
      " [-0.16229424 -2.2363117   0.46064845 ...  1.0533752   0.99633783\n",
      "   1.0021063 ]\n",
      " [-1.4659348   1.0638415  -1.7712959  ... -0.556693    0.6281906\n",
      "  -0.8111011 ]\n",
      " ...\n",
      " [-0.6823769   1.5280095  -0.04487954 ...  0.4623038  -0.16403863\n",
      "   0.66769725]\n",
      " [ 0.9017219   0.17446594 -0.03713961 ... -0.63819283 -0.5459519\n",
      "   0.48846105]\n",
      " [-0.7833187  -1.8923963   1.1181778  ... -0.30434546  0.33093032\n",
      "  -1.3220665 ]]\n"
     ]
    }
   ],
   "source": [
    "xy = np.loadtxt('MIMO_2_0dB.csv', delimiter=',', dtype=np.float32)\n",
    "x_data = xy[:, 1:13]\n",
    "y_data = xy[:, -4:]\n",
    "\n",
    "print(x_data.shape, y_data.shape)\n",
    "print(x_data)"
   ]
  },
  {
   "cell_type": "code",
   "execution_count": 3,
   "id": "ee73316f",
   "metadata": {},
   "outputs": [
    {
     "name": "stdout",
     "output_type": "stream",
     "text": [
      "[[1]\n",
      " [1]\n",
      " [1]\n",
      " ...\n",
      " [2]\n",
      " [2]\n",
      " [2]]\n"
     ]
    }
   ],
   "source": [
    "# Convert y_data to y_bit\n",
    "i=1\n",
    "y_merge = []\n",
    "while i <= y_data.shape[0]:\n",
    "    temp = \"\".join(str(_) for _ in y_data[i-1,:])\n",
    "    y_merge.append(temp)\n",
    "    i = i + 1\n",
    "\n",
    "encoder = LabelEncoder()\n",
    "encoder.fit(y_merge)\n",
    "y_bit = encoder.transform(y_merge)\n",
    "y_bit = y_bit.reshape(-1, 1)\n",
    "print(y_bit)"
   ]
  },
  {
   "cell_type": "code",
   "execution_count": 4,
   "id": "633ea46e",
   "metadata": {},
   "outputs": [
    {
     "name": "stdout",
     "output_type": "stream",
     "text": [
      "one_hot: [[0. 1. 0. 0.]\n",
      " [0. 1. 0. 0.]\n",
      " [0. 1. 0. 0.]\n",
      " ...\n",
      " [0. 0. 1. 0.]\n",
      " [0. 0. 1. 0.]\n",
      " [0. 0. 1. 0.]]\n"
     ]
    }
   ],
   "source": [
    "# Convert y_data to one_hot\n",
    "y_one_hot = tf.keras.utils.to_categorical(y_bit, nb_classes)\n",
    "print(\"one_hot:\", y_one_hot)"
   ]
  },
  {
   "cell_type": "code",
   "execution_count": 5,
   "id": "d6f44f52",
   "metadata": {},
   "outputs": [],
   "source": [
    "tf.model = tf.keras.Sequential()\n",
    "# Glorot normal initializer, also called Xavier normal initializer.\n",
    "# see https://www.tensorflow.org/api_docs/python/tf/initializers"
   ]
  },
  {
   "cell_type": "code",
   "execution_count": 6,
   "id": "9e58a9ba",
   "metadata": {},
   "outputs": [
    {
     "name": "stdout",
     "output_type": "stream",
     "text": [
      "Model: \"sequential\"\n",
      "_________________________________________________________________\n",
      "Layer (type)                 Output Shape              Param #   \n",
      "=================================================================\n",
      "dense (Dense)                (None, 384)               4992      \n",
      "_________________________________________________________________\n",
      "dropout (Dropout)            (None, 384)               0         \n",
      "_________________________________________________________________\n",
      "dense_1 (Dense)              (None, 192)               73920     \n",
      "_________________________________________________________________\n",
      "dropout_1 (Dropout)          (None, 192)               0         \n",
      "_________________________________________________________________\n",
      "dense_2 (Dense)              (None, 4)                 772       \n",
      "=================================================================\n",
      "Total params: 79,684\n",
      "Trainable params: 79,684\n",
      "Non-trainable params: 0\n",
      "_________________________________________________________________\n"
     ]
    }
   ],
   "source": [
    "tf.model.add(tf.keras.layers.Dense(input_dim=x_data.shape[1], units=384, kernel_regularizer=tf.keras.regularizers.l2(0.001), activation='relu'))\n",
    "tf.model.add(tf.keras.layers.Dropout(drop_rate))\n",
    "tf.model.add(tf.keras.layers.Dense(units=192, kernel_regularizer=tf.keras.regularizers.l2(0.001), activation='relu'))\n",
    "tf.model.add(tf.keras.layers.Dropout(drop_rate))\n",
    "tf.model.add(tf.keras.layers.Dense(units=nb_classes, activation='softmax'))\n",
    "tf.model.compile(loss='categorical_crossentropy',\n",
    "                 optimizer=tf.keras.optimizers.Adam(learning_rate=learning_rate), metrics=['accuracy'])\n",
    "tf.model.summary()"
   ]
  },
  {
   "cell_type": "code",
   "execution_count": 7,
   "id": "c346ad84",
   "metadata": {
    "scrolled": true
   },
   "outputs": [
    {
     "name": "stdout",
     "output_type": "stream",
     "text": [
      "Epoch 1/200\n",
      "32/32 [==============================] - 1s 9ms/step - loss: 1.3445 - accuracy: 0.5522 - val_loss: 2.7566 - val_accuracy: 0.0000e+00\n",
      "Epoch 2/200\n",
      "32/32 [==============================] - 0s 5ms/step - loss: 0.9242 - accuracy: 0.7227 - val_loss: 1.7257 - val_accuracy: 0.1642\n",
      "Epoch 3/200\n",
      "32/32 [==============================] - 0s 5ms/step - loss: 0.7316 - accuracy: 0.7762 - val_loss: 1.4071 - val_accuracy: 0.4097\n",
      "Epoch 4/200\n",
      "32/32 [==============================] - 0s 5ms/step - loss: 0.6534 - accuracy: 0.7900 - val_loss: 1.3187 - val_accuracy: 0.4593\n",
      "Epoch 5/200\n",
      "32/32 [==============================] - 0s 5ms/step - loss: 0.6119 - accuracy: 0.7947 - val_loss: 1.2913 - val_accuracy: 0.4676\n",
      "Epoch 6/200\n",
      "32/32 [==============================] - 0s 5ms/step - loss: 0.5871 - accuracy: 0.7973 - val_loss: 1.2834 - val_accuracy: 0.4704\n",
      "Epoch 7/200\n",
      "32/32 [==============================] - 0s 5ms/step - loss: 0.5722 - accuracy: 0.7995 - val_loss: 1.2579 - val_accuracy: 0.4794\n",
      "Epoch 8/200\n",
      "32/32 [==============================] - 0s 5ms/step - loss: 0.5624 - accuracy: 0.8009 - val_loss: 1.2246 - val_accuracy: 0.4962\n",
      "Epoch 9/200\n",
      "32/32 [==============================] - 0s 5ms/step - loss: 0.5561 - accuracy: 0.8012 - val_loss: 1.2529 - val_accuracy: 0.4861\n",
      "Epoch 10/200\n",
      "32/32 [==============================] - 0s 5ms/step - loss: 0.5511 - accuracy: 0.8018 - val_loss: 1.2678 - val_accuracy: 0.4814\n",
      "Epoch 11/200\n",
      "32/32 [==============================] - 0s 5ms/step - loss: 0.5476 - accuracy: 0.8031 - val_loss: 1.2430 - val_accuracy: 0.4900\n",
      "Epoch 12/200\n",
      "32/32 [==============================] - 0s 5ms/step - loss: 0.5450 - accuracy: 0.8032 - val_loss: 1.2645 - val_accuracy: 0.4826\n",
      "Epoch 13/200\n",
      "32/32 [==============================] - 0s 5ms/step - loss: 0.5433 - accuracy: 0.8026 - val_loss: 1.2574 - val_accuracy: 0.4871\n",
      "Epoch 14/200\n",
      "32/32 [==============================] - 0s 5ms/step - loss: 0.5401 - accuracy: 0.8034 - val_loss: 1.2801 - val_accuracy: 0.4781\n",
      "Epoch 15/200\n",
      "32/32 [==============================] - 0s 5ms/step - loss: 0.5384 - accuracy: 0.8035 - val_loss: 1.2732 - val_accuracy: 0.4813\n",
      "Epoch 16/200\n",
      "32/32 [==============================] - 0s 5ms/step - loss: 0.5377 - accuracy: 0.8042 - val_loss: 1.2340 - val_accuracy: 0.4967\n",
      "Epoch 17/200\n",
      "32/32 [==============================] - 0s 5ms/step - loss: 0.5364 - accuracy: 0.8034 - val_loss: 1.2080 - val_accuracy: 0.5051\n",
      "Epoch 18/200\n",
      "32/32 [==============================] - 0s 5ms/step - loss: 0.5344 - accuracy: 0.8035 - val_loss: 1.2256 - val_accuracy: 0.5008\n",
      "Epoch 19/200\n",
      "32/32 [==============================] - 0s 5ms/step - loss: 0.5334 - accuracy: 0.8033 - val_loss: 1.2649 - val_accuracy: 0.4852\n",
      "Epoch 20/200\n",
      "32/32 [==============================] - 0s 5ms/step - loss: 0.5327 - accuracy: 0.8041 - val_loss: 1.1778 - val_accuracy: 0.5186\n",
      "Epoch 21/200\n",
      "32/32 [==============================] - 0s 5ms/step - loss: 0.5316 - accuracy: 0.8038 - val_loss: 1.2312 - val_accuracy: 0.4993\n",
      "Epoch 22/200\n",
      "32/32 [==============================] - 0s 5ms/step - loss: 0.5308 - accuracy: 0.8037 - val_loss: 1.2231 - val_accuracy: 0.5008\n",
      "Epoch 23/200\n",
      "32/32 [==============================] - 0s 5ms/step - loss: 0.5292 - accuracy: 0.8048 - val_loss: 1.2064 - val_accuracy: 0.5065\n",
      "Epoch 24/200\n",
      "32/32 [==============================] - 0s 5ms/step - loss: 0.5283 - accuracy: 0.8047 - val_loss: 1.2397 - val_accuracy: 0.4955\n",
      "Epoch 25/200\n",
      "32/32 [==============================] - 0s 5ms/step - loss: 0.5281 - accuracy: 0.8042 - val_loss: 1.2116 - val_accuracy: 0.5053\n",
      "Epoch 26/200\n",
      "32/32 [==============================] - 0s 5ms/step - loss: 0.5266 - accuracy: 0.8047 - val_loss: 1.2703 - val_accuracy: 0.4836\n",
      "Epoch 27/200\n",
      "32/32 [==============================] - 0s 5ms/step - loss: 0.5264 - accuracy: 0.8042 - val_loss: 1.1976 - val_accuracy: 0.5133\n",
      "Epoch 28/200\n",
      "32/32 [==============================] - 0s 5ms/step - loss: 0.5257 - accuracy: 0.8048 - val_loss: 1.2060 - val_accuracy: 0.5087\n",
      "Epoch 29/200\n",
      "32/32 [==============================] - 0s 5ms/step - loss: 0.5254 - accuracy: 0.8049 - val_loss: 1.2061 - val_accuracy: 0.5082\n",
      "Epoch 30/200\n",
      "32/32 [==============================] - 0s 5ms/step - loss: 0.5247 - accuracy: 0.8044 - val_loss: 1.1805 - val_accuracy: 0.5181\n",
      "Epoch 31/200\n",
      "32/32 [==============================] - 0s 5ms/step - loss: 0.5237 - accuracy: 0.8048 - val_loss: 1.2442 - val_accuracy: 0.4928\n",
      "Epoch 32/200\n",
      "32/32 [==============================] - 0s 5ms/step - loss: 0.5233 - accuracy: 0.8045 - val_loss: 1.2264 - val_accuracy: 0.5025\n",
      "Epoch 33/200\n",
      "32/32 [==============================] - 0s 5ms/step - loss: 0.5229 - accuracy: 0.8042 - val_loss: 1.2152 - val_accuracy: 0.5059\n",
      "Epoch 34/200\n",
      "32/32 [==============================] - 0s 5ms/step - loss: 0.5222 - accuracy: 0.8053 - val_loss: 1.2187 - val_accuracy: 0.5049\n",
      "Epoch 35/200\n",
      "32/32 [==============================] - 0s 5ms/step - loss: 0.5218 - accuracy: 0.8045 - val_loss: 1.2349 - val_accuracy: 0.4982\n",
      "Epoch 36/200\n",
      "32/32 [==============================] - 0s 5ms/step - loss: 0.5216 - accuracy: 0.8051 - val_loss: 1.2045 - val_accuracy: 0.5109\n",
      "Epoch 37/200\n",
      "32/32 [==============================] - 0s 5ms/step - loss: 0.5205 - accuracy: 0.8051 - val_loss: 1.2514 - val_accuracy: 0.4931\n",
      "Epoch 38/200\n",
      "32/32 [==============================] - 0s 5ms/step - loss: 0.5196 - accuracy: 0.8059 - val_loss: 1.2393 - val_accuracy: 0.4969\n",
      "Epoch 39/200\n",
      "32/32 [==============================] - 0s 5ms/step - loss: 0.5201 - accuracy: 0.8046 - val_loss: 1.2063 - val_accuracy: 0.5088\n",
      "Epoch 40/200\n",
      "32/32 [==============================] - 0s 5ms/step - loss: 0.5195 - accuracy: 0.8049 - val_loss: 1.1573 - val_accuracy: 0.5266\n",
      "Epoch 41/200\n",
      "32/32 [==============================] - 0s 5ms/step - loss: 0.5189 - accuracy: 0.8054 - val_loss: 1.2470 - val_accuracy: 0.4952\n",
      "Epoch 42/200\n",
      "32/32 [==============================] - 0s 5ms/step - loss: 0.5186 - accuracy: 0.8053 - val_loss: 1.2306 - val_accuracy: 0.5017\n",
      "Epoch 43/200\n",
      "32/32 [==============================] - 0s 5ms/step - loss: 0.5184 - accuracy: 0.8049 - val_loss: 1.1964 - val_accuracy: 0.5124\n",
      "Epoch 44/200\n",
      "32/32 [==============================] - 0s 5ms/step - loss: 0.5176 - accuracy: 0.8050 - val_loss: 1.1824 - val_accuracy: 0.5177\n",
      "Epoch 45/200\n",
      "32/32 [==============================] - 0s 5ms/step - loss: 0.5174 - accuracy: 0.8046 - val_loss: 1.2141 - val_accuracy: 0.5088\n",
      "Epoch 46/200\n",
      "32/32 [==============================] - 0s 5ms/step - loss: 0.5174 - accuracy: 0.8047 - val_loss: 1.2812 - val_accuracy: 0.4832\n",
      "Epoch 47/200\n",
      "32/32 [==============================] - 0s 5ms/step - loss: 0.5170 - accuracy: 0.8050 - val_loss: 1.2085 - val_accuracy: 0.5108\n",
      "Epoch 48/200\n",
      "32/32 [==============================] - 0s 5ms/step - loss: 0.5163 - accuracy: 0.8048 - val_loss: 1.2121 - val_accuracy: 0.5092\n",
      "Epoch 49/200\n",
      "32/32 [==============================] - 0s 5ms/step - loss: 0.5159 - accuracy: 0.8050 - val_loss: 1.2012 - val_accuracy: 0.5120\n",
      "Epoch 50/200\n",
      "32/32 [==============================] - 0s 5ms/step - loss: 0.5160 - accuracy: 0.8050 - val_loss: 1.1529 - val_accuracy: 0.5299\n",
      "Epoch 51/200\n",
      "32/32 [==============================] - 0s 5ms/step - loss: 0.5157 - accuracy: 0.8050 - val_loss: 1.2157 - val_accuracy: 0.5077\n",
      "Epoch 52/200\n",
      "32/32 [==============================] - 0s 5ms/step - loss: 0.5155 - accuracy: 0.8044 - val_loss: 1.1517 - val_accuracy: 0.5332\n",
      "Epoch 53/200\n",
      "32/32 [==============================] - 0s 5ms/step - loss: 0.5157 - accuracy: 0.8049 - val_loss: 1.2161 - val_accuracy: 0.5103\n",
      "Epoch 54/200\n",
      "32/32 [==============================] - 0s 5ms/step - loss: 0.5147 - accuracy: 0.8052 - val_loss: 1.1894 - val_accuracy: 0.5176\n",
      "Epoch 55/200\n",
      "32/32 [==============================] - 0s 5ms/step - loss: 0.5144 - accuracy: 0.8053 - val_loss: 1.1574 - val_accuracy: 0.5276\n",
      "Epoch 56/200\n",
      "32/32 [==============================] - 0s 5ms/step - loss: 0.5146 - accuracy: 0.8049 - val_loss: 1.1847 - val_accuracy: 0.5202\n",
      "Epoch 57/200\n",
      "32/32 [==============================] - 0s 5ms/step - loss: 0.5131 - accuracy: 0.8059 - val_loss: 1.2198 - val_accuracy: 0.5045\n",
      "Epoch 58/200\n",
      "32/32 [==============================] - 0s 5ms/step - loss: 0.5134 - accuracy: 0.8051 - val_loss: 1.2115 - val_accuracy: 0.5128\n"
     ]
    },
    {
     "name": "stdout",
     "output_type": "stream",
     "text": [
      "Epoch 59/200\n",
      "32/32 [==============================] - 0s 5ms/step - loss: 0.5130 - accuracy: 0.8056 - val_loss: 1.2188 - val_accuracy: 0.5114\n",
      "Epoch 60/200\n",
      "32/32 [==============================] - 0s 6ms/step - loss: 0.5130 - accuracy: 0.8053 - val_loss: 1.1739 - val_accuracy: 0.5230\n",
      "Epoch 61/200\n",
      "32/32 [==============================] - 0s 5ms/step - loss: 0.5130 - accuracy: 0.8049 - val_loss: 1.2155 - val_accuracy: 0.5067\n",
      "Epoch 62/200\n",
      "32/32 [==============================] - 0s 5ms/step - loss: 0.5117 - accuracy: 0.8065 - val_loss: 1.2263 - val_accuracy: 0.5078\n",
      "Epoch 63/200\n",
      "32/32 [==============================] - 0s 5ms/step - loss: 0.5124 - accuracy: 0.8063 - val_loss: 1.1514 - val_accuracy: 0.5344\n",
      "Epoch 64/200\n",
      "32/32 [==============================] - 0s 5ms/step - loss: 0.5116 - accuracy: 0.8057 - val_loss: 1.2094 - val_accuracy: 0.5120\n",
      "Epoch 65/200\n",
      "32/32 [==============================] - 0s 6ms/step - loss: 0.5116 - accuracy: 0.8056 - val_loss: 1.1769 - val_accuracy: 0.5230\n",
      "Epoch 66/200\n",
      "32/32 [==============================] - 0s 5ms/step - loss: 0.5109 - accuracy: 0.8059 - val_loss: 1.2016 - val_accuracy: 0.5129\n",
      "Epoch 67/200\n",
      "32/32 [==============================] - 0s 5ms/step - loss: 0.5113 - accuracy: 0.8055 - val_loss: 1.2172 - val_accuracy: 0.5102\n",
      "Epoch 68/200\n",
      "32/32 [==============================] - 0s 5ms/step - loss: 0.5112 - accuracy: 0.8057 - val_loss: 1.2755 - val_accuracy: 0.4892\n",
      "Epoch 69/200\n",
      "32/32 [==============================] - 0s 6ms/step - loss: 0.5104 - accuracy: 0.8055 - val_loss: 1.1565 - val_accuracy: 0.5297\n",
      "Epoch 70/200\n",
      "32/32 [==============================] - 0s 6ms/step - loss: 0.5104 - accuracy: 0.8057 - val_loss: 1.1730 - val_accuracy: 0.5216\n",
      "Epoch 71/200\n",
      "32/32 [==============================] - 0s 6ms/step - loss: 0.5101 - accuracy: 0.8058 - val_loss: 1.1962 - val_accuracy: 0.5160\n",
      "Epoch 72/200\n",
      "32/32 [==============================] - 0s 5ms/step - loss: 0.5105 - accuracy: 0.8055 - val_loss: 1.2358 - val_accuracy: 0.4997\n",
      "Epoch 73/200\n",
      "32/32 [==============================] - 0s 5ms/step - loss: 0.5104 - accuracy: 0.8057 - val_loss: 1.2337 - val_accuracy: 0.5037\n",
      "Epoch 74/200\n",
      "32/32 [==============================] - 0s 5ms/step - loss: 0.5099 - accuracy: 0.8054 - val_loss: 1.1548 - val_accuracy: 0.5335\n",
      "Epoch 75/200\n",
      "32/32 [==============================] - 0s 5ms/step - loss: 0.5097 - accuracy: 0.8058 - val_loss: 1.1901 - val_accuracy: 0.5176\n",
      "Epoch 76/200\n",
      "32/32 [==============================] - 0s 5ms/step - loss: 0.5093 - accuracy: 0.8057 - val_loss: 1.2098 - val_accuracy: 0.5119\n",
      "Epoch 77/200\n",
      "32/32 [==============================] - 0s 5ms/step - loss: 0.5094 - accuracy: 0.8056 - val_loss: 1.1767 - val_accuracy: 0.5229\n",
      "Epoch 78/200\n",
      "32/32 [==============================] - 0s 5ms/step - loss: 0.5094 - accuracy: 0.8054 - val_loss: 1.1891 - val_accuracy: 0.5176\n",
      "Epoch 79/200\n",
      "32/32 [==============================] - 0s 5ms/step - loss: 0.5089 - accuracy: 0.8053 - val_loss: 1.1981 - val_accuracy: 0.5180\n",
      "Epoch 80/200\n",
      "32/32 [==============================] - 0s 5ms/step - loss: 0.5084 - accuracy: 0.8053 - val_loss: 1.1976 - val_accuracy: 0.5162\n",
      "Epoch 81/200\n",
      "32/32 [==============================] - 0s 6ms/step - loss: 0.5083 - accuracy: 0.8060 - val_loss: 1.2028 - val_accuracy: 0.5143\n",
      "Epoch 82/200\n",
      "32/32 [==============================] - 0s 5ms/step - loss: 0.5087 - accuracy: 0.8061 - val_loss: 1.2119 - val_accuracy: 0.5124\n",
      "Epoch 83/200\n",
      "32/32 [==============================] - 0s 5ms/step - loss: 0.5085 - accuracy: 0.8060 - val_loss: 1.2141 - val_accuracy: 0.5097\n",
      "Epoch 84/200\n",
      "32/32 [==============================] - 0s 5ms/step - loss: 0.5088 - accuracy: 0.8056 - val_loss: 1.1776 - val_accuracy: 0.5232\n",
      "Epoch 85/200\n",
      "32/32 [==============================] - 0s 5ms/step - loss: 0.5082 - accuracy: 0.8062 - val_loss: 1.2060 - val_accuracy: 0.5140\n",
      "Epoch 86/200\n",
      "32/32 [==============================] - 0s 5ms/step - loss: 0.5071 - accuracy: 0.8060 - val_loss: 1.1803 - val_accuracy: 0.5240\n",
      "Epoch 87/200\n",
      "32/32 [==============================] - 0s 5ms/step - loss: 0.5076 - accuracy: 0.8059 - val_loss: 1.2011 - val_accuracy: 0.5160\n",
      "Epoch 88/200\n",
      "32/32 [==============================] - 0s 5ms/step - loss: 0.5079 - accuracy: 0.8060 - val_loss: 1.2102 - val_accuracy: 0.5121\n",
      "Epoch 89/200\n",
      "32/32 [==============================] - 0s 5ms/step - loss: 0.5070 - accuracy: 0.8056 - val_loss: 1.1763 - val_accuracy: 0.5252\n",
      "Epoch 90/200\n",
      "32/32 [==============================] - 0s 5ms/step - loss: 0.5077 - accuracy: 0.8057 - val_loss: 1.2223 - val_accuracy: 0.5074\n",
      "Epoch 91/200\n",
      "32/32 [==============================] - 0s 5ms/step - loss: 0.5070 - accuracy: 0.8063 - val_loss: 1.2187 - val_accuracy: 0.5062\n",
      "Epoch 92/200\n",
      "32/32 [==============================] - 0s 5ms/step - loss: 0.5076 - accuracy: 0.8059 - val_loss: 1.1964 - val_accuracy: 0.5165\n",
      "Epoch 93/200\n",
      "32/32 [==============================] - 0s 5ms/step - loss: 0.5073 - accuracy: 0.8059 - val_loss: 1.1661 - val_accuracy: 0.5269\n",
      "Epoch 94/200\n",
      "32/32 [==============================] - 0s 5ms/step - loss: 0.5075 - accuracy: 0.8057 - val_loss: 1.1772 - val_accuracy: 0.5216\n",
      "Epoch 95/200\n",
      "32/32 [==============================] - 0s 6ms/step - loss: 0.5066 - accuracy: 0.8061 - val_loss: 1.2159 - val_accuracy: 0.5136\n",
      "Epoch 96/200\n",
      "32/32 [==============================] - 0s 5ms/step - loss: 0.5061 - accuracy: 0.8062 - val_loss: 1.2245 - val_accuracy: 0.5059\n",
      "Epoch 97/200\n",
      "32/32 [==============================] - 0s 6ms/step - loss: 0.5058 - accuracy: 0.8065 - val_loss: 1.1424 - val_accuracy: 0.5380\n",
      "Epoch 98/200\n",
      "32/32 [==============================] - 0s 5ms/step - loss: 0.5058 - accuracy: 0.8056 - val_loss: 1.1410 - val_accuracy: 0.5361\n",
      "Epoch 99/200\n",
      "32/32 [==============================] - 0s 5ms/step - loss: 0.5058 - accuracy: 0.8060 - val_loss: 1.2181 - val_accuracy: 0.5124\n",
      "Epoch 100/200\n",
      "32/32 [==============================] - 0s 5ms/step - loss: 0.5064 - accuracy: 0.8055 - val_loss: 1.1804 - val_accuracy: 0.5213\n",
      "Epoch 101/200\n",
      "32/32 [==============================] - 0s 6ms/step - loss: 0.5062 - accuracy: 0.8065 - val_loss: 1.1153 - val_accuracy: 0.5470\n",
      "Epoch 102/200\n",
      "32/32 [==============================] - 0s 6ms/step - loss: 0.5058 - accuracy: 0.8063 - val_loss: 1.2446 - val_accuracy: 0.5038\n",
      "Epoch 103/200\n",
      "32/32 [==============================] - 0s 6ms/step - loss: 0.5064 - accuracy: 0.8059 - val_loss: 1.1760 - val_accuracy: 0.5278\n",
      "Epoch 104/200\n",
      "32/32 [==============================] - 0s 6ms/step - loss: 0.5051 - accuracy: 0.8065 - val_loss: 1.2261 - val_accuracy: 0.5088\n",
      "Epoch 105/200\n",
      "32/32 [==============================] - 0s 6ms/step - loss: 0.5054 - accuracy: 0.8059 - val_loss: 1.1797 - val_accuracy: 0.5226\n",
      "Epoch 106/200\n",
      "32/32 [==============================] - 0s 7ms/step - loss: 0.5054 - accuracy: 0.8061 - val_loss: 1.2189 - val_accuracy: 0.5111\n",
      "Epoch 107/200\n",
      "32/32 [==============================] - 0s 6ms/step - loss: 0.5046 - accuracy: 0.8060 - val_loss: 1.1773 - val_accuracy: 0.5264\n",
      "Epoch 108/200\n",
      "32/32 [==============================] - 0s 6ms/step - loss: 0.5046 - accuracy: 0.8062 - val_loss: 1.1862 - val_accuracy: 0.5226\n",
      "Epoch 109/200\n",
      "32/32 [==============================] - 0s 5ms/step - loss: 0.5047 - accuracy: 0.8060 - val_loss: 1.2071 - val_accuracy: 0.5124\n",
      "Epoch 110/200\n",
      "32/32 [==============================] - 0s 5ms/step - loss: 0.5051 - accuracy: 0.8059 - val_loss: 1.2149 - val_accuracy: 0.5158\n",
      "Epoch 111/200\n",
      "32/32 [==============================] - 0s 6ms/step - loss: 0.5046 - accuracy: 0.8061 - val_loss: 1.2373 - val_accuracy: 0.5023\n",
      "Epoch 112/200\n",
      "32/32 [==============================] - 0s 5ms/step - loss: 0.5045 - accuracy: 0.8064 - val_loss: 1.2033 - val_accuracy: 0.5164\n",
      "Epoch 113/200\n",
      "32/32 [==============================] - 0s 5ms/step - loss: 0.5045 - accuracy: 0.8062 - val_loss: 1.1406 - val_accuracy: 0.5380\n",
      "Epoch 114/200\n",
      "32/32 [==============================] - 0s 6ms/step - loss: 0.5036 - accuracy: 0.8062 - val_loss: 1.2176 - val_accuracy: 0.5092\n",
      "Epoch 115/200\n",
      "32/32 [==============================] - 0s 5ms/step - loss: 0.5039 - accuracy: 0.8065 - val_loss: 1.1292 - val_accuracy: 0.5418\n",
      "Epoch 116/200\n"
     ]
    },
    {
     "name": "stdout",
     "output_type": "stream",
     "text": [
      "32/32 [==============================] - 0s 5ms/step - loss: 0.5042 - accuracy: 0.8061 - val_loss: 1.1333 - val_accuracy: 0.5435\n",
      "Epoch 117/200\n",
      "32/32 [==============================] - 0s 6ms/step - loss: 0.5035 - accuracy: 0.8063 - val_loss: 1.1539 - val_accuracy: 0.5356\n",
      "Epoch 118/200\n",
      "32/32 [==============================] - 0s 5ms/step - loss: 0.5037 - accuracy: 0.8064 - val_loss: 1.1223 - val_accuracy: 0.5452\n",
      "Epoch 119/200\n",
      "32/32 [==============================] - 0s 5ms/step - loss: 0.5031 - accuracy: 0.8069 - val_loss: 1.2121 - val_accuracy: 0.5144\n",
      "Epoch 120/200\n",
      "32/32 [==============================] - 0s 5ms/step - loss: 0.5034 - accuracy: 0.8063 - val_loss: 1.1749 - val_accuracy: 0.5287\n",
      "Epoch 121/200\n",
      "32/32 [==============================] - 0s 5ms/step - loss: 0.5033 - accuracy: 0.8059 - val_loss: 1.2203 - val_accuracy: 0.5122\n",
      "Epoch 122/200\n",
      "32/32 [==============================] - 0s 5ms/step - loss: 0.5032 - accuracy: 0.8058 - val_loss: 1.1382 - val_accuracy: 0.5363\n",
      "Epoch 123/200\n",
      "32/32 [==============================] - 0s 5ms/step - loss: 0.5040 - accuracy: 0.8058 - val_loss: 1.2035 - val_accuracy: 0.5173\n",
      "Epoch 124/200\n",
      "32/32 [==============================] - 0s 5ms/step - loss: 0.5041 - accuracy: 0.8063 - val_loss: 1.2352 - val_accuracy: 0.5062\n",
      "Epoch 125/200\n",
      "32/32 [==============================] - 0s 5ms/step - loss: 0.5034 - accuracy: 0.8058 - val_loss: 1.1411 - val_accuracy: 0.5371\n",
      "Epoch 126/200\n",
      "32/32 [==============================] - 0s 5ms/step - loss: 0.5031 - accuracy: 0.8064 - val_loss: 1.1877 - val_accuracy: 0.5236\n",
      "Epoch 127/200\n",
      "32/32 [==============================] - 0s 5ms/step - loss: 0.5028 - accuracy: 0.8072 - val_loss: 1.2229 - val_accuracy: 0.5072\n",
      "Epoch 128/200\n",
      "32/32 [==============================] - 0s 5ms/step - loss: 0.5027 - accuracy: 0.8057 - val_loss: 1.1623 - val_accuracy: 0.5304\n",
      "Epoch 129/200\n",
      "32/32 [==============================] - 0s 5ms/step - loss: 0.5025 - accuracy: 0.8061 - val_loss: 1.2081 - val_accuracy: 0.5136\n",
      "Epoch 130/200\n",
      "32/32 [==============================] - 0s 5ms/step - loss: 0.5028 - accuracy: 0.8058 - val_loss: 1.1632 - val_accuracy: 0.5318\n",
      "Epoch 131/200\n",
      "32/32 [==============================] - 0s 5ms/step - loss: 0.5029 - accuracy: 0.8059 - val_loss: 1.1519 - val_accuracy: 0.5358\n",
      "Epoch 132/200\n",
      "32/32 [==============================] - 0s 5ms/step - loss: 0.5028 - accuracy: 0.8063 - val_loss: 1.2263 - val_accuracy: 0.5085\n",
      "Epoch 133/200\n",
      "32/32 [==============================] - 0s 5ms/step - loss: 0.5027 - accuracy: 0.8066 - val_loss: 1.2018 - val_accuracy: 0.5174\n",
      "Epoch 134/200\n",
      "32/32 [==============================] - 0s 5ms/step - loss: 0.5018 - accuracy: 0.8058 - val_loss: 1.1804 - val_accuracy: 0.5262\n",
      "Epoch 135/200\n",
      "32/32 [==============================] - 0s 5ms/step - loss: 0.5022 - accuracy: 0.8062 - val_loss: 1.1336 - val_accuracy: 0.5438\n",
      "Epoch 136/200\n",
      "32/32 [==============================] - 0s 5ms/step - loss: 0.5022 - accuracy: 0.8062 - val_loss: 1.2007 - val_accuracy: 0.5138\n",
      "Epoch 137/200\n",
      "32/32 [==============================] - 0s 5ms/step - loss: 0.5016 - accuracy: 0.8068 - val_loss: 1.1335 - val_accuracy: 0.5390\n",
      "Epoch 138/200\n",
      "32/32 [==============================] - 0s 5ms/step - loss: 0.5019 - accuracy: 0.8060 - val_loss: 1.1610 - val_accuracy: 0.5303\n",
      "Epoch 139/200\n",
      "32/32 [==============================] - 0s 5ms/step - loss: 0.5018 - accuracy: 0.8068 - val_loss: 1.1521 - val_accuracy: 0.5369\n",
      "Epoch 140/200\n",
      "32/32 [==============================] - 0s 5ms/step - loss: 0.5021 - accuracy: 0.8060 - val_loss: 1.2067 - val_accuracy: 0.5160\n",
      "Epoch 141/200\n",
      "32/32 [==============================] - 0s 5ms/step - loss: 0.5011 - accuracy: 0.8062 - val_loss: 1.2136 - val_accuracy: 0.5109\n",
      "Epoch 142/200\n",
      "32/32 [==============================] - 0s 5ms/step - loss: 0.5014 - accuracy: 0.8064 - val_loss: 1.2144 - val_accuracy: 0.5154\n",
      "Epoch 143/200\n",
      "32/32 [==============================] - 0s 5ms/step - loss: 0.5012 - accuracy: 0.8067 - val_loss: 1.2255 - val_accuracy: 0.5089\n",
      "Epoch 144/200\n",
      "32/32 [==============================] - 0s 5ms/step - loss: 0.5018 - accuracy: 0.8067 - val_loss: 1.2635 - val_accuracy: 0.4981\n",
      "Epoch 145/200\n",
      "32/32 [==============================] - 0s 5ms/step - loss: 0.5010 - accuracy: 0.8062 - val_loss: 1.1440 - val_accuracy: 0.5390\n",
      "Epoch 146/200\n",
      "32/32 [==============================] - 0s 6ms/step - loss: 0.5012 - accuracy: 0.8067 - val_loss: 1.2425 - val_accuracy: 0.5049\n",
      "Epoch 147/200\n",
      "32/32 [==============================] - 0s 5ms/step - loss: 0.5008 - accuracy: 0.8062 - val_loss: 1.1820 - val_accuracy: 0.5270\n",
      "Epoch 148/200\n",
      "32/32 [==============================] - 0s 5ms/step - loss: 0.5014 - accuracy: 0.8062 - val_loss: 1.1795 - val_accuracy: 0.5239\n",
      "Epoch 149/200\n",
      "32/32 [==============================] - 0s 5ms/step - loss: 0.5006 - accuracy: 0.8059 - val_loss: 1.2557 - val_accuracy: 0.5019\n",
      "Epoch 150/200\n",
      "32/32 [==============================] - 0s 5ms/step - loss: 0.5019 - accuracy: 0.8059 - val_loss: 1.1230 - val_accuracy: 0.5465\n",
      "Epoch 151/200\n",
      "32/32 [==============================] - 0s 5ms/step - loss: 0.5012 - accuracy: 0.8065 - val_loss: 1.2333 - val_accuracy: 0.5049\n",
      "Epoch 152/200\n",
      "32/32 [==============================] - 0s 5ms/step - loss: 0.5008 - accuracy: 0.8065 - val_loss: 1.1793 - val_accuracy: 0.5187\n",
      "Epoch 153/200\n",
      "32/32 [==============================] - 0s 5ms/step - loss: 0.5014 - accuracy: 0.8069 - val_loss: 1.2041 - val_accuracy: 0.5146\n",
      "Epoch 154/200\n",
      "32/32 [==============================] - 0s 5ms/step - loss: 0.5007 - accuracy: 0.8070 - val_loss: 1.2132 - val_accuracy: 0.5131\n",
      "Epoch 155/200\n",
      "32/32 [==============================] - 0s 5ms/step - loss: 0.5008 - accuracy: 0.8064 - val_loss: 1.2021 - val_accuracy: 0.5156\n",
      "Epoch 156/200\n",
      "32/32 [==============================] - 0s 5ms/step - loss: 0.5007 - accuracy: 0.8059 - val_loss: 1.1034 - val_accuracy: 0.5497\n",
      "Epoch 157/200\n",
      "32/32 [==============================] - 0s 5ms/step - loss: 0.5003 - accuracy: 0.8063 - val_loss: 1.2623 - val_accuracy: 0.4966\n",
      "Epoch 158/200\n",
      "32/32 [==============================] - 0s 5ms/step - loss: 0.5006 - accuracy: 0.8067 - val_loss: 1.2025 - val_accuracy: 0.5200\n",
      "Epoch 159/200\n",
      "32/32 [==============================] - 0s 5ms/step - loss: 0.5003 - accuracy: 0.8061 - val_loss: 1.1911 - val_accuracy: 0.5248\n",
      "Epoch 160/200\n",
      "32/32 [==============================] - 0s 5ms/step - loss: 0.5002 - accuracy: 0.8063 - val_loss: 1.1826 - val_accuracy: 0.5284\n",
      "Epoch 161/200\n",
      "32/32 [==============================] - 0s 5ms/step - loss: 0.5004 - accuracy: 0.8061 - val_loss: 1.1577 - val_accuracy: 0.5352\n",
      "Epoch 162/200\n",
      "32/32 [==============================] - 0s 5ms/step - loss: 0.4997 - accuracy: 0.8068 - val_loss: 1.1984 - val_accuracy: 0.5193\n",
      "Epoch 163/200\n",
      "32/32 [==============================] - 0s 5ms/step - loss: 0.4999 - accuracy: 0.8063 - val_loss: 1.2534 - val_accuracy: 0.5015\n",
      "Epoch 164/200\n",
      "32/32 [==============================] - 0s 5ms/step - loss: 0.4992 - accuracy: 0.8071 - val_loss: 1.1151 - val_accuracy: 0.5466\n",
      "Epoch 165/200\n",
      "32/32 [==============================] - 0s 5ms/step - loss: 0.4998 - accuracy: 0.8067 - val_loss: 1.1568 - val_accuracy: 0.5353\n",
      "Epoch 166/200\n",
      "32/32 [==============================] - 0s 5ms/step - loss: 0.4996 - accuracy: 0.8066 - val_loss: 1.2367 - val_accuracy: 0.5092\n",
      "Epoch 167/200\n",
      "32/32 [==============================] - 0s 5ms/step - loss: 0.4997 - accuracy: 0.8063 - val_loss: 1.1640 - val_accuracy: 0.5300\n",
      "Epoch 168/200\n",
      "32/32 [==============================] - 0s 5ms/step - loss: 0.4998 - accuracy: 0.8063 - val_loss: 1.1904 - val_accuracy: 0.5224\n",
      "Epoch 169/200\n",
      "32/32 [==============================] - 0s 5ms/step - loss: 0.5004 - accuracy: 0.8061 - val_loss: 1.1405 - val_accuracy: 0.5405\n",
      "Epoch 170/200\n",
      "32/32 [==============================] - 0s 5ms/step - loss: 0.4995 - accuracy: 0.8065 - val_loss: 1.1694 - val_accuracy: 0.5315\n",
      "Epoch 171/200\n",
      "32/32 [==============================] - 0s 5ms/step - loss: 0.5000 - accuracy: 0.8066 - val_loss: 1.1798 - val_accuracy: 0.5245\n",
      "Epoch 172/200\n",
      "32/32 [==============================] - 0s 5ms/step - loss: 0.4987 - accuracy: 0.8068 - val_loss: 1.1845 - val_accuracy: 0.5272\n",
      "Epoch 173/200\n"
     ]
    },
    {
     "name": "stdout",
     "output_type": "stream",
     "text": [
      "32/32 [==============================] - 0s 5ms/step - loss: 0.4996 - accuracy: 0.8061 - val_loss: 1.1699 - val_accuracy: 0.5291\n",
      "Epoch 174/200\n",
      "32/32 [==============================] - 0s 5ms/step - loss: 0.5005 - accuracy: 0.8063 - val_loss: 1.1183 - val_accuracy: 0.5461\n",
      "Epoch 175/200\n",
      "32/32 [==============================] - 0s 5ms/step - loss: 0.4998 - accuracy: 0.8067 - val_loss: 1.1049 - val_accuracy: 0.5524\n",
      "Epoch 176/200\n",
      "32/32 [==============================] - 0s 5ms/step - loss: 0.4995 - accuracy: 0.8065 - val_loss: 1.2104 - val_accuracy: 0.5146\n",
      "Epoch 177/200\n",
      "32/32 [==============================] - 0s 5ms/step - loss: 0.4991 - accuracy: 0.8062 - val_loss: 1.1412 - val_accuracy: 0.5365\n",
      "Epoch 178/200\n",
      "32/32 [==============================] - 0s 5ms/step - loss: 0.4997 - accuracy: 0.8064 - val_loss: 1.1900 - val_accuracy: 0.5219\n",
      "Epoch 179/200\n",
      "32/32 [==============================] - 0s 5ms/step - loss: 0.4997 - accuracy: 0.8068 - val_loss: 1.1584 - val_accuracy: 0.5356\n",
      "Epoch 180/200\n",
      "32/32 [==============================] - 0s 5ms/step - loss: 0.4991 - accuracy: 0.8063 - val_loss: 1.1374 - val_accuracy: 0.5416\n",
      "Epoch 181/200\n",
      "32/32 [==============================] - 0s 5ms/step - loss: 0.4993 - accuracy: 0.8063 - val_loss: 1.1757 - val_accuracy: 0.5288\n",
      "Epoch 182/200\n",
      "32/32 [==============================] - 0s 5ms/step - loss: 0.4992 - accuracy: 0.8063 - val_loss: 1.2085 - val_accuracy: 0.5182\n",
      "Epoch 183/200\n",
      "32/32 [==============================] - 0s 5ms/step - loss: 0.4997 - accuracy: 0.8066 - val_loss: 1.1304 - val_accuracy: 0.5444\n",
      "Epoch 184/200\n",
      "32/32 [==============================] - 0s 5ms/step - loss: 0.4989 - accuracy: 0.8071 - val_loss: 1.2357 - val_accuracy: 0.5090\n",
      "Epoch 185/200\n",
      "32/32 [==============================] - 0s 5ms/step - loss: 0.5004 - accuracy: 0.8057 - val_loss: 1.2287 - val_accuracy: 0.5097\n",
      "Epoch 186/200\n",
      "32/32 [==============================] - 0s 5ms/step - loss: 0.4991 - accuracy: 0.8065 - val_loss: 1.2077 - val_accuracy: 0.5147\n",
      "Epoch 187/200\n",
      "32/32 [==============================] - 0s 5ms/step - loss: 0.4989 - accuracy: 0.8069 - val_loss: 1.1854 - val_accuracy: 0.5270\n",
      "Epoch 188/200\n",
      "32/32 [==============================] - 0s 5ms/step - loss: 0.4989 - accuracy: 0.8063 - val_loss: 1.2000 - val_accuracy: 0.5194\n",
      "Epoch 189/200\n",
      "32/32 [==============================] - 0s 5ms/step - loss: 0.4993 - accuracy: 0.8062 - val_loss: 1.1462 - val_accuracy: 0.5364\n",
      "Epoch 190/200\n",
      "32/32 [==============================] - 0s 5ms/step - loss: 0.4985 - accuracy: 0.8069 - val_loss: 1.2246 - val_accuracy: 0.5090\n",
      "Epoch 191/200\n",
      "32/32 [==============================] - 0s 5ms/step - loss: 0.4991 - accuracy: 0.8068 - val_loss: 1.1428 - val_accuracy: 0.5368\n",
      "Epoch 192/200\n",
      "32/32 [==============================] - 0s 5ms/step - loss: 0.4989 - accuracy: 0.8066 - val_loss: 1.1797 - val_accuracy: 0.5287\n",
      "Epoch 193/200\n",
      "32/32 [==============================] - 0s 5ms/step - loss: 0.4989 - accuracy: 0.8062 - val_loss: 1.2015 - val_accuracy: 0.5148\n",
      "Epoch 194/200\n",
      "32/32 [==============================] - 0s 5ms/step - loss: 0.4989 - accuracy: 0.8058 - val_loss: 1.1863 - val_accuracy: 0.5244\n",
      "Epoch 195/200\n",
      "32/32 [==============================] - 0s 5ms/step - loss: 0.4986 - accuracy: 0.8064 - val_loss: 1.1616 - val_accuracy: 0.5308\n",
      "Epoch 196/200\n",
      "32/32 [==============================] - 0s 5ms/step - loss: 0.4982 - accuracy: 0.8066 - val_loss: 1.1716 - val_accuracy: 0.5291\n",
      "Epoch 197/200\n",
      "32/32 [==============================] - 0s 5ms/step - loss: 0.4986 - accuracy: 0.8063 - val_loss: 1.1926 - val_accuracy: 0.5219\n",
      "Epoch 198/200\n",
      "32/32 [==============================] - 0s 5ms/step - loss: 0.4981 - accuracy: 0.8067 - val_loss: 1.1447 - val_accuracy: 0.5377\n",
      "Epoch 199/200\n",
      "32/32 [==============================] - 0s 5ms/step - loss: 0.4989 - accuracy: 0.8062 - val_loss: 1.1337 - val_accuracy: 0.5406\n",
      "Epoch 200/200\n",
      "32/32 [==============================] - 0s 5ms/step - loss: 0.4979 - accuracy: 0.8074 - val_loss: 1.1557 - val_accuracy: 0.5359\n"
     ]
    }
   ],
   "source": [
    "history = tf.model.fit(x_data, y_one_hot, batch_size=batch_size , validation_split=0.2, epochs=training_epochs)"
   ]
  },
  {
   "cell_type": "code",
   "execution_count": 8,
   "id": "0f3f6697",
   "metadata": {},
   "outputs": [
    {
     "data": {
      "image/png": "[encoded data removed]",
      "text/plain": [
       "<Figure size 460.8x403.2 with 1 Axes>"
      ]
     },
     "metadata": {},
     "output_type": "display_data"
    }
   ],
   "source": [
    "# 모델 손실 함수 시각화\n",
    "from jupyterthemes import jtplot\n",
    "jtplot.style(theme='monokai')\n",
    "\n",
    "plt.plot(history.history['loss'], 'b-', label='loss')\n",
    "plt.plot(history.history['val_loss'], 'r-', label='val_loss')\n",
    "plt.title('Model loss')\n",
    "plt.xlabel('Epoch')\n",
    "plt.ylabel('Loss')\n",
    "plt.legend()\n",
    "plt.show()"
   ]
  },
  {
   "cell_type": "code",
   "execution_count": 9,
   "id": "83e399f2",
   "metadata": {},
   "outputs": [
    {
     "data": {
      "image/png": "[encoded data removed]",
      "text/plain": [
       "<Figure size 460.8x403.2 with 1 Axes>"
      ]
     },
     "metadata": {},
     "output_type": "display_data"
    }
   ],
   "source": [
    "# 모델 정확도 시각화\n",
    "plt.plot(history.history['accuracy'], 'g-', label='accuracy')\n",
    "plt.plot(history.history['val_accuracy'], 'r-', label='val_accuracy')\n",
    "plt.title('Model Accuracy')\n",
    "plt.xlabel('Epoch')\n",
    "plt.ylabel('Accuracy')\n",
    "plt.legend()\n",
    "plt.show()"
   ]
  },
  {
   "cell_type": "code",
   "execution_count": 10,
   "id": "f860be4f",
   "metadata": {},
   "outputs": [
    {
     "name": "stdout",
     "output_type": "stream",
     "text": [
      "(80000, 12) (80000, 4)\n"
     ]
    }
   ],
   "source": [
    "# Full x_data test\n",
    "test_data = np.loadtxt('MIMO_2_0dB_test.csv', delimiter=',', dtype=np.float32)\n",
    "x_test_data = test_data[:, 1:13]\n",
    "y_test_data = test_data[:, -4:]\n",
    "print(x_test_data.shape, y_test_data.shape)"
   ]
  },
  {
   "cell_type": "code",
   "execution_count": 11,
   "id": "1b49e243",
   "metadata": {},
   "outputs": [
    {
     "name": "stdout",
     "output_type": "stream",
     "text": [
      "[[1]\n",
      " [1]\n",
      " [1]\n",
      " ...\n",
      " [2]\n",
      " [2]\n",
      " [2]]\n"
     ]
    }
   ],
   "source": [
    "# Convert y_test_data to y_test_bit\n",
    "i=1\n",
    "y_test_merge = []\n",
    "while i <= y_test_data.shape[0]:\n",
    "    temp2 = \"\".join(str(_) for _ in y_test_data[i-1,:])\n",
    "    y_test_merge.append(temp2)\n",
    "    i = i + 1\n",
    "\n",
    "encoder = LabelEncoder()\n",
    "encoder.fit(y_test_merge)\n",
    "y_test_bit = encoder.transform(y_test_merge)\n",
    "y_test_bit = y_test_bit.reshape(-1, 1)\n",
    "print(y_test_bit)"
   ]
  },
  {
   "cell_type": "code",
   "execution_count": 12,
   "id": "02ceb9be",
   "metadata": {},
   "outputs": [
    {
     "name": "stdout",
     "output_type": "stream",
     "text": [
      "one_hot: [[0. 1. 0. 0.]\n",
      " [0. 1. 0. 0.]\n",
      " [0. 1. 0. 0.]\n",
      " ...\n",
      " [0. 0. 1. 0.]\n",
      " [0. 0. 1. 0.]\n",
      " [0. 0. 1. 0.]]\n"
     ]
    }
   ],
   "source": [
    "# Convert y_data to one_hot\n",
    "y_test_one_hot = tf.keras.utils.to_categorical(y_test_bit, nb_classes)\n",
    "print(\"one_hot:\", y_test_one_hot)"
   ]
  },
  {
   "cell_type": "code",
   "execution_count": 13,
   "id": "26d7e049",
   "metadata": {},
   "outputs": [
    {
     "name": "stdout",
     "output_type": "stream",
     "text": [
      "2500/2500 [==============================] - 4s 2ms/step - loss: 0.6159 - accuracy: 0.7563\n",
      "loss:  0.6158942580223083\n",
      "accuracy 0.7563375234603882\n"
     ]
    }
   ],
   "source": [
    "evaluation = tf.model.evaluate(x_test_data, y_test_one_hot)\n",
    "print('loss: ', evaluation[0])\n",
    "print('accuracy', evaluation[1])"
   ]
  },
  {
   "cell_type": "code",
   "execution_count": 14,
   "id": "d62b59fa",
   "metadata": {},
   "outputs": [],
   "source": [
    "predict_x = tf.model.predict(x_test_data) \n",
    "pred = np.argmax(predict_x,axis=1)\n",
    "# for p, y in zip(pred, y_test_bit.flatten()):\n",
    " #   print(\"[{}] Prediction: {} True Y: {}\".format(p == int(y), p, int(y)))"
   ]
  },
  {
   "cell_type": "code",
   "execution_count": 15,
   "id": "c36ba53e",
   "metadata": {
    "scrolled": true
   },
   "outputs": [
    {
     "name": "stdout",
     "output_type": "stream",
     "text": [
      "Error : 19493\n",
      "Error Count: 21363\n"
     ]
    }
   ],
   "source": [
    "res_pred = pred.reshape(y_test_data.shape[0], 1)\n",
    "error_cnt = 0\n",
    "error = 0\n",
    "for i in range(0, y_test_data.shape[0]):\n",
    "    if res_pred[i] != y_test_bit[i]:\n",
    "        #print(\"False : {}\".format(i))\n",
    "        #print(\"[{}] data : {}\".format(i, y_test_data[i]))\n",
    "        error += 1\n",
    "        for n in range(0, y_test_data.shape[0], int(y_test_data.shape[0]/nb_classes)):\n",
    "            if y_test_bit[n] == res_pred[i]:\n",
    "                #print(\"[{}] pred data: {}\".format(n, y_test_data[n]))\n",
    "                bit_error = 0\n",
    "                for m in range(0, y_test_data.shape[1]): \n",
    "                    if y_test_data[i, m] != y_test_data[n, m]:\n",
    "                        bit_error += 1\n",
    "                        error_cnt += 1\n",
    "                #print(\"bit error count : \", bit_error)\n",
    "                break\n",
    "print(\"Error : {}\".format(error))\n",
    "print(\"Error Count: {}\".format(error_cnt))"
   ]
  },
  {
   "cell_type": "code",
   "execution_count": 16,
   "id": "1fa05c47",
   "metadata": {},
   "outputs": [
    {
     "name": "stdout",
     "output_type": "stream",
     "text": [
      "BER: 0.066759375\n"
     ]
    }
   ],
   "source": [
    "BER = (error_cnt)/(y_test_data.shape[0]*2*2)\n",
    "print(\"BER: {}\".format(BER))"
   ]
  }
 ],
 "metadata": {
  "kernelspec": {
   "display_name": "Python 3 (ipykernel)",
   "language": "python",
   "name": "python3"
  },
  "language_info": {
   "codemirror_mode": {
    "name": "ipython",
    "version": 3
   },
   "file_extension": ".py",
   "mimetype": "text/x-python",
   "name": "python",
   "nbconvert_exporter": "python",
   "pygments_lexer": "ipython3",
   "version": "3.8.12"
  }
 },
 "nbformat": 4,
 "nbformat_minor": 5
}
