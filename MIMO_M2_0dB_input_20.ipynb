{
 "cells": [
  {
   "cell_type": "code",
   "execution_count": 1,
   "id": "39878172",
   "metadata": {},
   "outputs": [],
   "source": [
    "import numpy as np\n",
    "import random\n",
    "import matplotlib.pyplot as plt\n",
    "import tensorflow as tf\n",
    "from sklearn.model_selection import train_test_split\n",
    "from sklearn.preprocessing import LabelEncoder\n",
    "\n",
    "random.seed(777)  # for reproducibility\n",
    "learning_rate = 0.001\n",
    "batch_size = 10000\n",
    "training_epochs = 200\n",
    "nb_classes = 4\n",
    "drop_rate = 0.3"
   ]
  },
  {
   "cell_type": "code",
   "execution_count": 2,
   "id": "6a28f0ed",
   "metadata": {
    "scrolled": false
   },
   "outputs": [
    {
     "name": "stdout",
     "output_type": "stream",
     "text": [
      "(400000, 20) (400000, 4)\n",
      "[[ 3.985979    2.9266756  -1.4389254  ... -0.70710677  0.70710677\n",
      "  -0.70710677]\n",
      " [-0.16229424 -2.2363117   0.46064845 ... -0.70710677  0.70710677\n",
      "  -0.70710677]\n",
      " [-1.4659348   1.0638415  -1.7712959  ... -0.70710677  0.70710677\n",
      "  -0.70710677]\n",
      " ...\n",
      " [-0.6823769   1.5280095  -0.04487954 ... -0.70710677  0.70710677\n",
      "  -0.70710677]\n",
      " [ 0.9017219   0.17446594 -0.03713961 ... -0.70710677  0.70710677\n",
      "  -0.70710677]\n",
      " [-0.7833187  -1.8923963   1.1181778  ... -0.70710677  0.70710677\n",
      "  -0.70710677]]\n"
     ]
    }
   ],
   "source": [
    "xy = np.loadtxt('MIMO_2_0dB.csv', delimiter=',', dtype=np.float32)\n",
    "x_data = xy[:, 1:21]\n",
    "y_data = xy[:, -4:]\n",
    "\n",
    "print(x_data.shape, y_data.shape)\n",
    "print(x_data)"
   ]
  },
  {
   "cell_type": "code",
   "execution_count": 3,
   "id": "ee73316f",
   "metadata": {},
   "outputs": [
    {
     "name": "stdout",
     "output_type": "stream",
     "text": [
      "[[1]\n",
      " [1]\n",
      " [1]\n",
      " ...\n",
      " [2]\n",
      " [2]\n",
      " [2]]\n"
     ]
    }
   ],
   "source": [
    "# Convert y_data to y_bit\n",
    "i=1\n",
    "y_merge = []\n",
    "while i <= y_data.shape[0]:\n",
    "    temp = \"\".join(str(_) for _ in y_data[i-1,:])\n",
    "    y_merge.append(temp)\n",
    "    i = i + 1\n",
    "\n",
    "encoder = LabelEncoder()\n",
    "encoder.fit(y_merge)\n",
    "y_bit = encoder.transform(y_merge)\n",
    "y_bit = y_bit.reshape(-1, 1)\n",
    "print(y_bit)"
   ]
  },
  {
   "cell_type": "code",
   "execution_count": 4,
   "id": "633ea46e",
   "metadata": {},
   "outputs": [
    {
     "name": "stdout",
     "output_type": "stream",
     "text": [
      "one_hot: [[0. 1. 0. 0.]\n",
      " [0. 1. 0. 0.]\n",
      " [0. 1. 0. 0.]\n",
      " ...\n",
      " [0. 0. 1. 0.]\n",
      " [0. 0. 1. 0.]\n",
      " [0. 0. 1. 0.]]\n"
     ]
    }
   ],
   "source": [
    "# Convert y_data to one_hot\n",
    "y_one_hot = tf.keras.utils.to_categorical(y_bit, nb_classes)\n",
    "print(\"one_hot:\", y_one_hot)"
   ]
  },
  {
   "cell_type": "code",
   "execution_count": 5,
   "id": "d6f44f52",
   "metadata": {},
   "outputs": [],
   "source": [
    "tf.model = tf.keras.Sequential()\n",
    "# Glorot normal initializer, also called Xavier normal initializer.\n",
    "# see https://www.tensorflow.org/api_docs/python/tf/initializers"
   ]
  },
  {
   "cell_type": "code",
   "execution_count": 6,
   "id": "9e58a9ba",
   "metadata": {},
   "outputs": [
    {
     "name": "stdout",
     "output_type": "stream",
     "text": [
      "Model: \"sequential\"\n",
      "_________________________________________________________________\n",
      "Layer (type)                 Output Shape              Param #   \n",
      "=================================================================\n",
      "dense (Dense)                (None, 640)               13440     \n",
      "_________________________________________________________________\n",
      "dropout (Dropout)            (None, 640)               0         \n",
      "_________________________________________________________________\n",
      "dense_1 (Dense)              (None, 320)               205120    \n",
      "_________________________________________________________________\n",
      "dropout_1 (Dropout)          (None, 320)               0         \n",
      "_________________________________________________________________\n",
      "dense_2 (Dense)              (None, 4)                 1284      \n",
      "=================================================================\n",
      "Total params: 219,844\n",
      "Trainable params: 219,844\n",
      "Non-trainable params: 0\n",
      "_________________________________________________________________\n"
     ]
    }
   ],
   "source": [
    "tf.model.add(tf.keras.layers.Dense(input_dim=x_data.shape[1], units=640, kernel_regularizer=tf.keras.regularizers.l2(0.001), activation='relu'))\n",
    "tf.model.add(tf.keras.layers.Dropout(drop_rate))\n",
    "tf.model.add(tf.keras.layers.Dense(units=320, kernel_regularizer=tf.keras.regularizers.l2(0.001), activation='relu'))\n",
    "tf.model.add(tf.keras.layers.Dropout(drop_rate))\n",
    "tf.model.add(tf.keras.layers.Dense(units=nb_classes, activation='softmax'))\n",
    "tf.model.compile(loss='categorical_crossentropy',\n",
    "                 optimizer=tf.keras.optimizers.Adam(learning_rate=learning_rate), metrics=['accuracy'])\n",
    "tf.model.summary()"
   ]
  },
  {
   "cell_type": "code",
   "execution_count": 7,
   "id": "c346ad84",
   "metadata": {
    "scrolled": true
   },
   "outputs": [
    {
     "name": "stdout",
     "output_type": "stream",
     "text": [
      "Epoch 1/200\n",
      "32/32 [==============================] - 1s 11ms/step - loss: 1.4243 - accuracy: 0.5860 - val_loss: 2.4331 - val_accuracy: 0.0000e+00\n",
      "Epoch 2/200\n",
      "32/32 [==============================] - 0s 8ms/step - loss: 0.8951 - accuracy: 0.7557 - val_loss: 1.6403 - val_accuracy: 0.2999\n",
      "Epoch 3/200\n",
      "32/32 [==============================] - 0s 8ms/step - loss: 0.7073 - accuracy: 0.7932 - val_loss: 1.3904 - val_accuracy: 0.4381\n",
      "Epoch 4/200\n",
      "32/32 [==============================] - 0s 8ms/step - loss: 0.6331 - accuracy: 0.8005 - val_loss: 1.2744 - val_accuracy: 0.4804\n",
      "Epoch 5/200\n",
      "32/32 [==============================] - 0s 8ms/step - loss: 0.5959 - accuracy: 0.8021 - val_loss: 1.2481 - val_accuracy: 0.4870\n",
      "Epoch 6/200\n",
      "32/32 [==============================] - 0s 8ms/step - loss: 0.5757 - accuracy: 0.8031 - val_loss: 1.2594 - val_accuracy: 0.4837\n",
      "Epoch 7/200\n",
      "32/32 [==============================] - 0s 8ms/step - loss: 0.5646 - accuracy: 0.8036 - val_loss: 1.2651 - val_accuracy: 0.4801\n",
      "Epoch 8/200\n",
      "32/32 [==============================] - 0s 8ms/step - loss: 0.5562 - accuracy: 0.8040 - val_loss: 1.2331 - val_accuracy: 0.4956\n",
      "Epoch 9/200\n",
      "32/32 [==============================] - 0s 8ms/step - loss: 0.5511 - accuracy: 0.8049 - val_loss: 1.3205 - val_accuracy: 0.4621\n",
      "Epoch 10/200\n",
      "32/32 [==============================] - 0s 8ms/step - loss: 0.5470 - accuracy: 0.8047 - val_loss: 1.2364 - val_accuracy: 0.4933\n",
      "Epoch 11/200\n",
      "32/32 [==============================] - 0s 7ms/step - loss: 0.5424 - accuracy: 0.8052 - val_loss: 1.2173 - val_accuracy: 0.5046\n",
      "Epoch 12/200\n",
      "32/32 [==============================] - 0s 7ms/step - loss: 0.5403 - accuracy: 0.8056 - val_loss: 1.1827 - val_accuracy: 0.5175\n",
      "Epoch 13/200\n",
      "32/32 [==============================] - 0s 8ms/step - loss: 0.5383 - accuracy: 0.8055 - val_loss: 1.1681 - val_accuracy: 0.5195\n",
      "Epoch 14/200\n",
      "32/32 [==============================] - 0s 8ms/step - loss: 0.5360 - accuracy: 0.8061 - val_loss: 1.2947 - val_accuracy: 0.4769\n",
      "Epoch 15/200\n",
      "32/32 [==============================] - 0s 8ms/step - loss: 0.5338 - accuracy: 0.8057 - val_loss: 1.1957 - val_accuracy: 0.5121\n",
      "Epoch 16/200\n",
      "32/32 [==============================] - 0s 8ms/step - loss: 0.5320 - accuracy: 0.8058 - val_loss: 1.1957 - val_accuracy: 0.5144\n",
      "Epoch 17/200\n",
      "32/32 [==============================] - 0s 8ms/step - loss: 0.5305 - accuracy: 0.8063 - val_loss: 1.2514 - val_accuracy: 0.4972\n",
      "Epoch 18/200\n",
      "32/32 [==============================] - 0s 8ms/step - loss: 0.5294 - accuracy: 0.8058 - val_loss: 1.2472 - val_accuracy: 0.4935\n",
      "Epoch 19/200\n",
      "32/32 [==============================] - 0s 7ms/step - loss: 0.5279 - accuracy: 0.8064 - val_loss: 1.2792 - val_accuracy: 0.4818\n",
      "Epoch 20/200\n",
      "32/32 [==============================] - 0s 7ms/step - loss: 0.5266 - accuracy: 0.8064 - val_loss: 1.1921 - val_accuracy: 0.5138\n",
      "Epoch 21/200\n",
      "32/32 [==============================] - 0s 8ms/step - loss: 0.5254 - accuracy: 0.8060 - val_loss: 1.2587 - val_accuracy: 0.4905\n",
      "Epoch 22/200\n",
      "32/32 [==============================] - 0s 8ms/step - loss: 0.5247 - accuracy: 0.8057 - val_loss: 1.2472 - val_accuracy: 0.4921\n",
      "Epoch 23/200\n",
      "32/32 [==============================] - 0s 8ms/step - loss: 0.5230 - accuracy: 0.8063 - val_loss: 1.2270 - val_accuracy: 0.5027\n",
      "Epoch 24/200\n",
      "32/32 [==============================] - 0s 8ms/step - loss: 0.5231 - accuracy: 0.8064 - val_loss: 1.1495 - val_accuracy: 0.5312\n",
      "Epoch 25/200\n",
      "32/32 [==============================] - 0s 8ms/step - loss: 0.5216 - accuracy: 0.8063 - val_loss: 1.2913 - val_accuracy: 0.4801\n",
      "Epoch 26/200\n",
      "32/32 [==============================] - 0s 8ms/step - loss: 0.5209 - accuracy: 0.8064 - val_loss: 1.2418 - val_accuracy: 0.4975\n",
      "Epoch 27/200\n",
      "32/32 [==============================] - 0s 8ms/step - loss: 0.5196 - accuracy: 0.8068 - val_loss: 1.1639 - val_accuracy: 0.5231\n",
      "Epoch 28/200\n",
      "32/32 [==============================] - 0s 7ms/step - loss: 0.5187 - accuracy: 0.8065 - val_loss: 1.1842 - val_accuracy: 0.5199\n",
      "Epoch 29/200\n",
      "32/32 [==============================] - 0s 8ms/step - loss: 0.5185 - accuracy: 0.8068 - val_loss: 1.1950 - val_accuracy: 0.5145\n",
      "Epoch 30/200\n",
      "32/32 [==============================] - 0s 8ms/step - loss: 0.5182 - accuracy: 0.8059 - val_loss: 1.1969 - val_accuracy: 0.5125\n",
      "Epoch 31/200\n",
      "32/32 [==============================] - 0s 8ms/step - loss: 0.5175 - accuracy: 0.8060 - val_loss: 1.2028 - val_accuracy: 0.5102\n",
      "Epoch 32/200\n",
      "32/32 [==============================] - 0s 8ms/step - loss: 0.5175 - accuracy: 0.8064 - val_loss: 1.2657 - val_accuracy: 0.4919\n",
      "Epoch 33/200\n",
      "32/32 [==============================] - 0s 8ms/step - loss: 0.5158 - accuracy: 0.8070 - val_loss: 1.2220 - val_accuracy: 0.5052\n",
      "Epoch 34/200\n",
      "32/32 [==============================] - 0s 8ms/step - loss: 0.5158 - accuracy: 0.8065 - val_loss: 1.2931 - val_accuracy: 0.4834\n",
      "Epoch 35/200\n",
      "32/32 [==============================] - 0s 8ms/step - loss: 0.5150 - accuracy: 0.8067 - val_loss: 1.1879 - val_accuracy: 0.5153\n",
      "Epoch 36/200\n",
      "32/32 [==============================] - 0s 7ms/step - loss: 0.5150 - accuracy: 0.8069 - val_loss: 1.2614 - val_accuracy: 0.4925\n",
      "Epoch 37/200\n",
      "32/32 [==============================] - 0s 8ms/step - loss: 0.5146 - accuracy: 0.8065 - val_loss: 1.1453 - val_accuracy: 0.5341\n",
      "Epoch 38/200\n",
      "32/32 [==============================] - 0s 8ms/step - loss: 0.5145 - accuracy: 0.8066 - val_loss: 1.2193 - val_accuracy: 0.5049\n",
      "Epoch 39/200\n",
      "32/32 [==============================] - 0s 8ms/step - loss: 0.5138 - accuracy: 0.8062 - val_loss: 1.2247 - val_accuracy: 0.5023\n",
      "Epoch 40/200\n",
      "32/32 [==============================] - 0s 8ms/step - loss: 0.5133 - accuracy: 0.8066 - val_loss: 1.1805 - val_accuracy: 0.5231\n",
      "Epoch 41/200\n",
      "32/32 [==============================] - 0s 8ms/step - loss: 0.5123 - accuracy: 0.8072 - val_loss: 1.1984 - val_accuracy: 0.5132\n",
      "Epoch 42/200\n",
      "32/32 [==============================] - 0s 8ms/step - loss: 0.5119 - accuracy: 0.8067 - val_loss: 1.1640 - val_accuracy: 0.5238\n",
      "Epoch 43/200\n",
      "32/32 [==============================] - 0s 8ms/step - loss: 0.5122 - accuracy: 0.8067 - val_loss: 1.1795 - val_accuracy: 0.5199\n",
      "Epoch 44/200\n",
      "32/32 [==============================] - 0s 7ms/step - loss: 0.5120 - accuracy: 0.8068 - val_loss: 1.2493 - val_accuracy: 0.4964\n",
      "Epoch 45/200\n",
      "32/32 [==============================] - 0s 7ms/step - loss: 0.5117 - accuracy: 0.8067 - val_loss: 1.2103 - val_accuracy: 0.5091\n",
      "Epoch 46/200\n",
      "32/32 [==============================] - 0s 8ms/step - loss: 0.5113 - accuracy: 0.8065 - val_loss: 1.1887 - val_accuracy: 0.5172\n",
      "Epoch 47/200\n",
      "32/32 [==============================] - 0s 8ms/step - loss: 0.5104 - accuracy: 0.8070 - val_loss: 1.1720 - val_accuracy: 0.5259\n",
      "Epoch 48/200\n",
      "32/32 [==============================] - 0s 8ms/step - loss: 0.5109 - accuracy: 0.8065 - val_loss: 1.2101 - val_accuracy: 0.5120\n",
      "Epoch 49/200\n",
      "32/32 [==============================] - 0s 8ms/step - loss: 0.5097 - accuracy: 0.8067 - val_loss: 1.1745 - val_accuracy: 0.5228\n",
      "Epoch 50/200\n",
      "32/32 [==============================] - 0s 8ms/step - loss: 0.5090 - accuracy: 0.8070 - val_loss: 1.1466 - val_accuracy: 0.5317\n",
      "Epoch 51/200\n",
      "32/32 [==============================] - 0s 8ms/step - loss: 0.5103 - accuracy: 0.8067 - val_loss: 1.1692 - val_accuracy: 0.5239\n",
      "Epoch 52/200\n",
      "32/32 [==============================] - 0s 7ms/step - loss: 0.5088 - accuracy: 0.8068 - val_loss: 1.1757 - val_accuracy: 0.5235\n",
      "Epoch 53/200\n",
      "32/32 [==============================] - 0s 7ms/step - loss: 0.5098 - accuracy: 0.8069 - val_loss: 1.2509 - val_accuracy: 0.4954\n",
      "Epoch 54/200\n",
      "32/32 [==============================] - 0s 8ms/step - loss: 0.5083 - accuracy: 0.8070 - val_loss: 1.2107 - val_accuracy: 0.5091\n",
      "Epoch 55/200\n",
      "32/32 [==============================] - 0s 8ms/step - loss: 0.5086 - accuracy: 0.8062 - val_loss: 1.2046 - val_accuracy: 0.5136\n",
      "Epoch 56/200\n",
      "32/32 [==============================] - 0s 8ms/step - loss: 0.5086 - accuracy: 0.8068 - val_loss: 1.1800 - val_accuracy: 0.5224\n",
      "Epoch 57/200\n",
      "32/32 [==============================] - 0s 8ms/step - loss: 0.5086 - accuracy: 0.8064 - val_loss: 1.2475 - val_accuracy: 0.4991\n",
      "Epoch 58/200\n",
      "32/32 [==============================] - 0s 8ms/step - loss: 0.5082 - accuracy: 0.8067 - val_loss: 1.2151 - val_accuracy: 0.5106\n"
     ]
    },
    {
     "name": "stdout",
     "output_type": "stream",
     "text": [
      "Epoch 59/200\n",
      "32/32 [==============================] - 0s 8ms/step - loss: 0.5083 - accuracy: 0.8072 - val_loss: 1.2345 - val_accuracy: 0.5031\n",
      "Epoch 60/200\n",
      "32/32 [==============================] - 0s 7ms/step - loss: 0.5074 - accuracy: 0.8069 - val_loss: 1.2556 - val_accuracy: 0.4949\n",
      "Epoch 61/200\n",
      "32/32 [==============================] - 0s 7ms/step - loss: 0.5064 - accuracy: 0.8071 - val_loss: 1.1940 - val_accuracy: 0.5175\n",
      "Epoch 62/200\n",
      "32/32 [==============================] - 0s 8ms/step - loss: 0.5064 - accuracy: 0.8075 - val_loss: 1.1736 - val_accuracy: 0.5232\n",
      "Epoch 63/200\n",
      "32/32 [==============================] - 0s 8ms/step - loss: 0.5064 - accuracy: 0.8068 - val_loss: 1.2436 - val_accuracy: 0.4970\n",
      "Epoch 64/200\n",
      "32/32 [==============================] - 0s 8ms/step - loss: 0.5061 - accuracy: 0.8068 - val_loss: 1.2629 - val_accuracy: 0.4952\n",
      "Epoch 65/200\n",
      "32/32 [==============================] - 0s 8ms/step - loss: 0.5061 - accuracy: 0.8073 - val_loss: 1.1940 - val_accuracy: 0.5180\n",
      "Epoch 66/200\n",
      "32/32 [==============================] - 0s 8ms/step - loss: 0.5052 - accuracy: 0.8075 - val_loss: 1.2527 - val_accuracy: 0.4984\n",
      "Epoch 67/200\n",
      "32/32 [==============================] - 0s 8ms/step - loss: 0.5052 - accuracy: 0.8077 - val_loss: 1.2231 - val_accuracy: 0.5116\n",
      "Epoch 68/200\n",
      "32/32 [==============================] - 0s 8ms/step - loss: 0.5060 - accuracy: 0.8068 - val_loss: 1.1779 - val_accuracy: 0.5263\n",
      "Epoch 69/200\n",
      "32/32 [==============================] - 0s 7ms/step - loss: 0.5063 - accuracy: 0.8068 - val_loss: 1.1806 - val_accuracy: 0.5215\n",
      "Epoch 70/200\n",
      "32/32 [==============================] - 0s 8ms/step - loss: 0.5053 - accuracy: 0.8070 - val_loss: 1.1305 - val_accuracy: 0.5434\n",
      "Epoch 71/200\n",
      "32/32 [==============================] - 0s 8ms/step - loss: 0.5051 - accuracy: 0.8072 - val_loss: 1.2119 - val_accuracy: 0.5143\n",
      "Epoch 72/200\n",
      "32/32 [==============================] - 0s 8ms/step - loss: 0.5054 - accuracy: 0.8070 - val_loss: 1.1359 - val_accuracy: 0.5368\n",
      "Epoch 73/200\n",
      "32/32 [==============================] - 0s 8ms/step - loss: 0.5053 - accuracy: 0.8068 - val_loss: 1.2163 - val_accuracy: 0.5121\n",
      "Epoch 74/200\n",
      "32/32 [==============================] - 0s 8ms/step - loss: 0.5040 - accuracy: 0.8071 - val_loss: 1.1883 - val_accuracy: 0.5201\n",
      "Epoch 75/200\n",
      "32/32 [==============================] - 0s 8ms/step - loss: 0.5042 - accuracy: 0.8071 - val_loss: 1.1278 - val_accuracy: 0.5419\n",
      "Epoch 76/200\n",
      "32/32 [==============================] - 0s 8ms/step - loss: 0.5040 - accuracy: 0.8076 - val_loss: 1.1413 - val_accuracy: 0.5360\n",
      "Epoch 77/200\n",
      "32/32 [==============================] - 0s 7ms/step - loss: 0.5037 - accuracy: 0.8077 - val_loss: 1.2281 - val_accuracy: 0.5073\n",
      "Epoch 78/200\n",
      "32/32 [==============================] - 0s 7ms/step - loss: 0.5048 - accuracy: 0.8069 - val_loss: 1.2210 - val_accuracy: 0.5083\n",
      "Epoch 79/200\n",
      "32/32 [==============================] - 0s 8ms/step - loss: 0.5040 - accuracy: 0.8071 - val_loss: 1.1888 - val_accuracy: 0.5222\n",
      "Epoch 80/200\n",
      "32/32 [==============================] - 0s 8ms/step - loss: 0.5031 - accuracy: 0.8078 - val_loss: 1.1578 - val_accuracy: 0.5311\n",
      "Epoch 81/200\n",
      "32/32 [==============================] - 0s 8ms/step - loss: 0.5039 - accuracy: 0.8066 - val_loss: 1.0914 - val_accuracy: 0.5537\n",
      "Epoch 82/200\n",
      "32/32 [==============================] - 0s 8ms/step - loss: 0.5036 - accuracy: 0.8069 - val_loss: 1.1463 - val_accuracy: 0.5354\n",
      "Epoch 83/200\n",
      "32/32 [==============================] - 0s 8ms/step - loss: 0.5032 - accuracy: 0.8076 - val_loss: 1.2021 - val_accuracy: 0.5118\n",
      "Epoch 84/200\n",
      "32/32 [==============================] - 0s 8ms/step - loss: 0.5031 - accuracy: 0.8075 - val_loss: 1.2575 - val_accuracy: 0.4948\n",
      "Epoch 85/200\n",
      "32/32 [==============================] - 0s 7ms/step - loss: 0.5037 - accuracy: 0.8068 - val_loss: 1.2565 - val_accuracy: 0.4963\n",
      "Epoch 86/200\n",
      "32/32 [==============================] - 0s 7ms/step - loss: 0.5031 - accuracy: 0.8069 - val_loss: 1.2925 - val_accuracy: 0.4827\n",
      "Epoch 87/200\n",
      "32/32 [==============================] - 0s 8ms/step - loss: 0.5030 - accuracy: 0.8073 - val_loss: 1.2081 - val_accuracy: 0.5146\n",
      "Epoch 88/200\n",
      "32/32 [==============================] - 0s 8ms/step - loss: 0.5026 - accuracy: 0.8066 - val_loss: 1.1927 - val_accuracy: 0.5188\n",
      "Epoch 89/200\n",
      "32/32 [==============================] - 0s 8ms/step - loss: 0.5025 - accuracy: 0.8072 - val_loss: 1.1981 - val_accuracy: 0.5131\n",
      "Epoch 90/200\n",
      "32/32 [==============================] - 0s 8ms/step - loss: 0.5029 - accuracy: 0.8061 - val_loss: 1.2522 - val_accuracy: 0.5020\n",
      "Epoch 91/200\n",
      "32/32 [==============================] - 0s 8ms/step - loss: 0.5032 - accuracy: 0.8069 - val_loss: 1.2093 - val_accuracy: 0.5178\n",
      "Epoch 92/200\n",
      "32/32 [==============================] - 0s 8ms/step - loss: 0.5018 - accuracy: 0.8077 - val_loss: 1.1543 - val_accuracy: 0.5371\n",
      "Epoch 93/200\n",
      "32/32 [==============================] - 0s 8ms/step - loss: 0.5014 - accuracy: 0.8075 - val_loss: 1.1625 - val_accuracy: 0.5332\n",
      "Epoch 94/200\n",
      "32/32 [==============================] - 0s 8ms/step - loss: 0.5020 - accuracy: 0.8074 - val_loss: 1.2370 - val_accuracy: 0.5012\n",
      "Epoch 95/200\n",
      "32/32 [==============================] - 0s 8ms/step - loss: 0.5029 - accuracy: 0.8066 - val_loss: 1.3430 - val_accuracy: 0.4722\n",
      "Epoch 96/200\n",
      "32/32 [==============================] - 0s 8ms/step - loss: 0.5014 - accuracy: 0.8072 - val_loss: 1.2326 - val_accuracy: 0.5114\n",
      "Epoch 97/200\n",
      "32/32 [==============================] - 0s 8ms/step - loss: 0.5019 - accuracy: 0.8071 - val_loss: 1.3080 - val_accuracy: 0.4825\n",
      "Epoch 98/200\n",
      "32/32 [==============================] - 0s 8ms/step - loss: 0.5016 - accuracy: 0.8066 - val_loss: 1.2480 - val_accuracy: 0.5002\n",
      "Epoch 99/200\n",
      "32/32 [==============================] - 0s 8ms/step - loss: 0.5006 - accuracy: 0.8075 - val_loss: 1.2410 - val_accuracy: 0.5044\n",
      "Epoch 100/200\n",
      "32/32 [==============================] - 0s 8ms/step - loss: 0.5012 - accuracy: 0.8067 - val_loss: 1.1598 - val_accuracy: 0.5313\n",
      "Epoch 101/200\n",
      "32/32 [==============================] - 0s 8ms/step - loss: 0.5013 - accuracy: 0.8070 - val_loss: 1.2487 - val_accuracy: 0.5027\n",
      "Epoch 102/200\n",
      "32/32 [==============================] - 0s 7ms/step - loss: 0.5005 - accuracy: 0.8071 - val_loss: 1.1662 - val_accuracy: 0.5294\n",
      "Epoch 103/200\n",
      "32/32 [==============================] - 0s 8ms/step - loss: 0.5006 - accuracy: 0.8076 - val_loss: 1.1909 - val_accuracy: 0.5236\n",
      "Epoch 104/200\n",
      "32/32 [==============================] - 0s 8ms/step - loss: 0.5000 - accuracy: 0.8080 - val_loss: 1.1542 - val_accuracy: 0.5348\n",
      "Epoch 105/200\n",
      "32/32 [==============================] - 0s 8ms/step - loss: 0.5004 - accuracy: 0.8073 - val_loss: 1.1548 - val_accuracy: 0.5345\n",
      "Epoch 106/200\n",
      "32/32 [==============================] - 0s 8ms/step - loss: 0.5004 - accuracy: 0.8074 - val_loss: 1.0955 - val_accuracy: 0.5574\n",
      "Epoch 107/200\n",
      "32/32 [==============================] - 0s 8ms/step - loss: 0.4997 - accuracy: 0.8074 - val_loss: 1.2043 - val_accuracy: 0.5170\n",
      "Epoch 108/200\n",
      "32/32 [==============================] - 0s 8ms/step - loss: 0.5000 - accuracy: 0.8077 - val_loss: 1.1476 - val_accuracy: 0.5320\n",
      "Epoch 109/200\n",
      "32/32 [==============================] - 0s 8ms/step - loss: 0.5002 - accuracy: 0.8071 - val_loss: 1.1995 - val_accuracy: 0.5191\n",
      "Epoch 110/200\n",
      "32/32 [==============================] - 0s 8ms/step - loss: 0.4995 - accuracy: 0.8073 - val_loss: 1.1758 - val_accuracy: 0.5272\n",
      "Epoch 111/200\n",
      "32/32 [==============================] - 0s 8ms/step - loss: 0.5004 - accuracy: 0.8074 - val_loss: 1.1553 - val_accuracy: 0.5360\n",
      "Epoch 112/200\n",
      "32/32 [==============================] - 0s 8ms/step - loss: 0.4997 - accuracy: 0.8074 - val_loss: 1.1784 - val_accuracy: 0.5264\n",
      "Epoch 113/200\n",
      "32/32 [==============================] - 0s 8ms/step - loss: 0.4993 - accuracy: 0.8080 - val_loss: 1.1876 - val_accuracy: 0.5217\n",
      "Epoch 114/200\n",
      "32/32 [==============================] - 0s 8ms/step - loss: 0.5005 - accuracy: 0.8074 - val_loss: 1.2045 - val_accuracy: 0.5128\n",
      "Epoch 115/200\n",
      "32/32 [==============================] - 0s 8ms/step - loss: 0.5001 - accuracy: 0.8077 - val_loss: 1.2222 - val_accuracy: 0.5090\n",
      "Epoch 116/200\n"
     ]
    },
    {
     "name": "stdout",
     "output_type": "stream",
     "text": [
      "32/32 [==============================] - 0s 8ms/step - loss: 0.5005 - accuracy: 0.8067 - val_loss: 1.1617 - val_accuracy: 0.5318\n",
      "Epoch 117/200\n",
      "32/32 [==============================] - 0s 8ms/step - loss: 0.4999 - accuracy: 0.8074 - val_loss: 1.1833 - val_accuracy: 0.5236\n",
      "Epoch 118/200\n",
      "32/32 [==============================] - 0s 7ms/step - loss: 0.5000 - accuracy: 0.8070 - val_loss: 1.1166 - val_accuracy: 0.5464\n",
      "Epoch 119/200\n",
      "32/32 [==============================] - 0s 8ms/step - loss: 0.4997 - accuracy: 0.8071 - val_loss: 1.1300 - val_accuracy: 0.5419\n",
      "Epoch 120/200\n",
      "32/32 [==============================] - 0s 8ms/step - loss: 0.5008 - accuracy: 0.8068 - val_loss: 1.1612 - val_accuracy: 0.5302\n",
      "Epoch 121/200\n",
      "32/32 [==============================] - 0s 8ms/step - loss: 0.4989 - accuracy: 0.8080 - val_loss: 1.1856 - val_accuracy: 0.5258\n",
      "Epoch 122/200\n",
      "32/32 [==============================] - 0s 8ms/step - loss: 0.5006 - accuracy: 0.8070 - val_loss: 1.1988 - val_accuracy: 0.5204\n",
      "Epoch 123/200\n",
      "32/32 [==============================] - 0s 8ms/step - loss: 0.5000 - accuracy: 0.8074 - val_loss: 1.2401 - val_accuracy: 0.5029\n",
      "Epoch 124/200\n",
      "32/32 [==============================] - 0s 8ms/step - loss: 0.4990 - accuracy: 0.8071 - val_loss: 1.1648 - val_accuracy: 0.5313\n",
      "Epoch 125/200\n",
      "32/32 [==============================] - 0s 8ms/step - loss: 0.4991 - accuracy: 0.8076 - val_loss: 1.1635 - val_accuracy: 0.5266\n",
      "Epoch 126/200\n",
      "32/32 [==============================] - 0s 7ms/step - loss: 0.4979 - accuracy: 0.8075 - val_loss: 1.1682 - val_accuracy: 0.5295\n",
      "Epoch 127/200\n",
      "32/32 [==============================] - 0s 7ms/step - loss: 0.4986 - accuracy: 0.8073 - val_loss: 1.2413 - val_accuracy: 0.5043\n",
      "Epoch 128/200\n",
      "32/32 [==============================] - 0s 8ms/step - loss: 0.4979 - accuracy: 0.8073 - val_loss: 1.0610 - val_accuracy: 0.5655\n",
      "Epoch 129/200\n",
      "32/32 [==============================] - 0s 8ms/step - loss: 0.4997 - accuracy: 0.8069 - val_loss: 1.1471 - val_accuracy: 0.5390\n",
      "Epoch 130/200\n",
      "32/32 [==============================] - 0s 8ms/step - loss: 0.4990 - accuracy: 0.8074 - val_loss: 1.1888 - val_accuracy: 0.5236\n",
      "Epoch 131/200\n",
      "32/32 [==============================] - 0s 8ms/step - loss: 0.4971 - accuracy: 0.8076 - val_loss: 1.1662 - val_accuracy: 0.5327\n",
      "Epoch 132/200\n",
      "32/32 [==============================] - 0s 8ms/step - loss: 0.4983 - accuracy: 0.8069 - val_loss: 1.1746 - val_accuracy: 0.5312\n",
      "Epoch 133/200\n",
      "32/32 [==============================] - 0s 8ms/step - loss: 0.4975 - accuracy: 0.8078 - val_loss: 1.2394 - val_accuracy: 0.5040\n",
      "Epoch 134/200\n",
      "32/32 [==============================] - 0s 7ms/step - loss: 0.4980 - accuracy: 0.8074 - val_loss: 1.1747 - val_accuracy: 0.5282\n",
      "Epoch 135/200\n",
      "32/32 [==============================] - 0s 7ms/step - loss: 0.4980 - accuracy: 0.8076 - val_loss: 1.2116 - val_accuracy: 0.5119\n",
      "Epoch 136/200\n",
      "32/32 [==============================] - 0s 8ms/step - loss: 0.4977 - accuracy: 0.8071 - val_loss: 1.2263 - val_accuracy: 0.5077\n",
      "Epoch 137/200\n",
      "32/32 [==============================] - 0s 8ms/step - loss: 0.4983 - accuracy: 0.8072 - val_loss: 1.2548 - val_accuracy: 0.4995\n",
      "Epoch 138/200\n",
      "32/32 [==============================] - 0s 8ms/step - loss: 0.4976 - accuracy: 0.8076 - val_loss: 1.1299 - val_accuracy: 0.5433\n",
      "Epoch 139/200\n",
      "32/32 [==============================] - 0s 8ms/step - loss: 0.4980 - accuracy: 0.8074 - val_loss: 1.1910 - val_accuracy: 0.5235\n",
      "Epoch 140/200\n",
      "32/32 [==============================] - 0s 8ms/step - loss: 0.4977 - accuracy: 0.8074 - val_loss: 1.1412 - val_accuracy: 0.5358\n",
      "Epoch 141/200\n",
      "32/32 [==============================] - 0s 8ms/step - loss: 0.4982 - accuracy: 0.8069 - val_loss: 1.1939 - val_accuracy: 0.5183\n",
      "Epoch 142/200\n",
      "32/32 [==============================] - 0s 7ms/step - loss: 0.4981 - accuracy: 0.8071 - val_loss: 1.1000 - val_accuracy: 0.5480\n",
      "Epoch 143/200\n",
      "32/32 [==============================] - 0s 7ms/step - loss: 0.4987 - accuracy: 0.8070 - val_loss: 1.1274 - val_accuracy: 0.5459\n",
      "Epoch 144/200\n",
      "32/32 [==============================] - 0s 8ms/step - loss: 0.4978 - accuracy: 0.8068 - val_loss: 1.1553 - val_accuracy: 0.5303\n",
      "Epoch 145/200\n",
      "32/32 [==============================] - 0s 8ms/step - loss: 0.4981 - accuracy: 0.8072 - val_loss: 1.1684 - val_accuracy: 0.5272\n",
      "Epoch 146/200\n",
      "32/32 [==============================] - 0s 8ms/step - loss: 0.4974 - accuracy: 0.8073 - val_loss: 1.1852 - val_accuracy: 0.5244\n",
      "Epoch 147/200\n",
      "32/32 [==============================] - 0s 8ms/step - loss: 0.4975 - accuracy: 0.8076 - val_loss: 1.0965 - val_accuracy: 0.5533\n",
      "Epoch 148/200\n",
      "32/32 [==============================] - 0s 8ms/step - loss: 0.4975 - accuracy: 0.8074 - val_loss: 1.2022 - val_accuracy: 0.5160\n",
      "Epoch 149/200\n",
      "32/32 [==============================] - 0s 8ms/step - loss: 0.4980 - accuracy: 0.8072 - val_loss: 1.1916 - val_accuracy: 0.5251\n",
      "Epoch 150/200\n",
      "32/32 [==============================] - 0s 8ms/step - loss: 0.4971 - accuracy: 0.8072 - val_loss: 1.2030 - val_accuracy: 0.5148\n",
      "Epoch 151/200\n",
      "32/32 [==============================] - 0s 8ms/step - loss: 0.4971 - accuracy: 0.8071 - val_loss: 1.1525 - val_accuracy: 0.5317\n",
      "Epoch 152/200\n",
      "32/32 [==============================] - 0s 8ms/step - loss: 0.4980 - accuracy: 0.8075 - val_loss: 1.2182 - val_accuracy: 0.5138\n",
      "Epoch 153/200\n",
      "32/32 [==============================] - 0s 8ms/step - loss: 0.4969 - accuracy: 0.8070 - val_loss: 1.3327 - val_accuracy: 0.4760\n",
      "Epoch 154/200\n",
      "32/32 [==============================] - 0s 8ms/step - loss: 0.4976 - accuracy: 0.8072 - val_loss: 1.2459 - val_accuracy: 0.5034\n",
      "Epoch 155/200\n",
      "32/32 [==============================] - 0s 8ms/step - loss: 0.4975 - accuracy: 0.8068 - val_loss: 1.2353 - val_accuracy: 0.5024\n",
      "Epoch 156/200\n",
      "32/32 [==============================] - 0s 8ms/step - loss: 0.4969 - accuracy: 0.8074 - val_loss: 1.2591 - val_accuracy: 0.5023\n",
      "Epoch 157/200\n",
      "32/32 [==============================] - 0s 8ms/step - loss: 0.4965 - accuracy: 0.8076 - val_loss: 1.1876 - val_accuracy: 0.5268\n",
      "Epoch 158/200\n",
      "32/32 [==============================] - 0s 8ms/step - loss: 0.4963 - accuracy: 0.8076 - val_loss: 1.2633 - val_accuracy: 0.4976\n",
      "Epoch 159/200\n",
      "32/32 [==============================] - 0s 8ms/step - loss: 0.4968 - accuracy: 0.8075 - val_loss: 1.1223 - val_accuracy: 0.5385\n",
      "Epoch 160/200\n",
      "32/32 [==============================] - 0s 8ms/step - loss: 0.4975 - accuracy: 0.8073 - val_loss: 1.1149 - val_accuracy: 0.5463\n",
      "Epoch 161/200\n",
      "32/32 [==============================] - 0s 8ms/step - loss: 0.4980 - accuracy: 0.8073 - val_loss: 1.2026 - val_accuracy: 0.5199\n",
      "Epoch 162/200\n",
      "32/32 [==============================] - 0s 8ms/step - loss: 0.4957 - accuracy: 0.8080 - val_loss: 1.0570 - val_accuracy: 0.5704\n",
      "Epoch 163/200\n",
      "32/32 [==============================] - 0s 8ms/step - loss: 0.4971 - accuracy: 0.8072 - val_loss: 1.2176 - val_accuracy: 0.5155\n",
      "Epoch 164/200\n",
      "32/32 [==============================] - 0s 8ms/step - loss: 0.4972 - accuracy: 0.8071 - val_loss: 1.3075 - val_accuracy: 0.4851\n",
      "Epoch 165/200\n",
      "32/32 [==============================] - 0s 8ms/step - loss: 0.4977 - accuracy: 0.8069 - val_loss: 1.2418 - val_accuracy: 0.5048\n",
      "Epoch 166/200\n",
      "32/32 [==============================] - 0s 8ms/step - loss: 0.4961 - accuracy: 0.8078 - val_loss: 1.2187 - val_accuracy: 0.5152\n",
      "Epoch 167/200\n",
      "32/32 [==============================] - 0s 7ms/step - loss: 0.4974 - accuracy: 0.8075 - val_loss: 1.1870 - val_accuracy: 0.5219\n",
      "Epoch 168/200\n",
      "32/32 [==============================] - 0s 8ms/step - loss: 0.4958 - accuracy: 0.8079 - val_loss: 1.2038 - val_accuracy: 0.5195\n",
      "Epoch 169/200\n",
      "32/32 [==============================] - 0s 8ms/step - loss: 0.4960 - accuracy: 0.8075 - val_loss: 1.1806 - val_accuracy: 0.5272\n",
      "Epoch 170/200\n",
      "32/32 [==============================] - 0s 8ms/step - loss: 0.4971 - accuracy: 0.8069 - val_loss: 1.1188 - val_accuracy: 0.5461\n",
      "Epoch 171/200\n",
      "32/32 [==============================] - 0s 8ms/step - loss: 0.4970 - accuracy: 0.8072 - val_loss: 1.1892 - val_accuracy: 0.5281\n",
      "Epoch 172/200\n",
      "32/32 [==============================] - 0s 8ms/step - loss: 0.4959 - accuracy: 0.8076 - val_loss: 1.1684 - val_accuracy: 0.5295\n",
      "Epoch 173/200\n"
     ]
    },
    {
     "name": "stdout",
     "output_type": "stream",
     "text": [
      "32/32 [==============================] - 0s 8ms/step - loss: 0.4974 - accuracy: 0.8066 - val_loss: 1.1188 - val_accuracy: 0.5475\n",
      "Epoch 174/200\n",
      "32/32 [==============================] - 0s 8ms/step - loss: 0.4979 - accuracy: 0.8068 - val_loss: 1.0886 - val_accuracy: 0.5576\n",
      "Epoch 175/200\n",
      "32/32 [==============================] - 0s 7ms/step - loss: 0.4963 - accuracy: 0.8079 - val_loss: 1.1573 - val_accuracy: 0.5357\n",
      "Epoch 176/200\n",
      "32/32 [==============================] - 0s 8ms/step - loss: 0.4958 - accuracy: 0.8073 - val_loss: 1.1333 - val_accuracy: 0.5422\n",
      "Epoch 177/200\n",
      "32/32 [==============================] - 0s 8ms/step - loss: 0.4959 - accuracy: 0.8077 - val_loss: 1.3168 - val_accuracy: 0.4836\n",
      "Epoch 178/200\n",
      "32/32 [==============================] - 0s 8ms/step - loss: 0.4953 - accuracy: 0.8079 - val_loss: 1.2582 - val_accuracy: 0.5020\n",
      "Epoch 179/200\n",
      "32/32 [==============================] - 0s 8ms/step - loss: 0.4961 - accuracy: 0.8074 - val_loss: 1.1098 - val_accuracy: 0.5483\n",
      "Epoch 180/200\n",
      "32/32 [==============================] - 0s 8ms/step - loss: 0.4952 - accuracy: 0.8075 - val_loss: 1.0594 - val_accuracy: 0.5671\n",
      "Epoch 181/200\n",
      "32/32 [==============================] - 0s 8ms/step - loss: 0.4956 - accuracy: 0.8078 - val_loss: 1.2235 - val_accuracy: 0.5102\n",
      "Epoch 182/200\n",
      "32/32 [==============================] - 0s 8ms/step - loss: 0.4957 - accuracy: 0.8075 - val_loss: 1.3046 - val_accuracy: 0.4856\n",
      "Epoch 183/200\n",
      "32/32 [==============================] - 0s 8ms/step - loss: 0.4965 - accuracy: 0.8074 - val_loss: 1.1936 - val_accuracy: 0.5188\n",
      "Epoch 184/200\n",
      "32/32 [==============================] - 0s 8ms/step - loss: 0.4966 - accuracy: 0.8071 - val_loss: 1.2144 - val_accuracy: 0.5145\n",
      "Epoch 185/200\n",
      "32/32 [==============================] - 0s 8ms/step - loss: 0.4957 - accuracy: 0.8078 - val_loss: 1.2697 - val_accuracy: 0.4942\n",
      "Epoch 186/200\n",
      "32/32 [==============================] - 0s 8ms/step - loss: 0.4961 - accuracy: 0.8069 - val_loss: 1.1075 - val_accuracy: 0.5521\n",
      "Epoch 187/200\n",
      "32/32 [==============================] - 0s 8ms/step - loss: 0.4967 - accuracy: 0.8070 - val_loss: 1.2156 - val_accuracy: 0.5155\n",
      "Epoch 188/200\n",
      "32/32 [==============================] - 0s 8ms/step - loss: 0.4963 - accuracy: 0.8076 - val_loss: 1.2341 - val_accuracy: 0.5071\n",
      "Epoch 189/200\n",
      "32/32 [==============================] - 0s 8ms/step - loss: 0.4959 - accuracy: 0.8075 - val_loss: 1.1961 - val_accuracy: 0.5185\n",
      "Epoch 190/200\n",
      "32/32 [==============================] - 0s 8ms/step - loss: 0.4948 - accuracy: 0.8078 - val_loss: 1.2034 - val_accuracy: 0.5202\n",
      "Epoch 191/200\n",
      "32/32 [==============================] - 0s 8ms/step - loss: 0.4978 - accuracy: 0.8065 - val_loss: 1.1287 - val_accuracy: 0.5461\n",
      "Epoch 192/200\n",
      "32/32 [==============================] - 0s 8ms/step - loss: 0.4971 - accuracy: 0.8065 - val_loss: 1.1609 - val_accuracy: 0.5305\n",
      "Epoch 193/200\n",
      "32/32 [==============================] - 0s 8ms/step - loss: 0.4952 - accuracy: 0.8076 - val_loss: 1.1600 - val_accuracy: 0.5336\n",
      "Epoch 194/200\n",
      "32/32 [==============================] - 0s 8ms/step - loss: 0.4956 - accuracy: 0.8074 - val_loss: 1.2037 - val_accuracy: 0.5203\n",
      "Epoch 195/200\n",
      "32/32 [==============================] - 0s 8ms/step - loss: 0.4947 - accuracy: 0.8077 - val_loss: 1.1631 - val_accuracy: 0.5340\n",
      "Epoch 196/200\n",
      "32/32 [==============================] - 0s 8ms/step - loss: 0.4959 - accuracy: 0.8072 - val_loss: 1.1581 - val_accuracy: 0.5357\n",
      "Epoch 197/200\n",
      "32/32 [==============================] - 0s 8ms/step - loss: 0.4951 - accuracy: 0.8078 - val_loss: 1.1949 - val_accuracy: 0.5210\n",
      "Epoch 198/200\n",
      "32/32 [==============================] - 0s 8ms/step - loss: 0.4946 - accuracy: 0.8072 - val_loss: 1.1677 - val_accuracy: 0.5348\n",
      "Epoch 199/200\n",
      "32/32 [==============================] - 0s 8ms/step - loss: 0.4953 - accuracy: 0.8075 - val_loss: 1.1587 - val_accuracy: 0.5290\n",
      "Epoch 200/200\n",
      "32/32 [==============================] - 0s 7ms/step - loss: 0.4947 - accuracy: 0.8077 - val_loss: 1.2063 - val_accuracy: 0.5181\n"
     ]
    }
   ],
   "source": [
    "history = tf.model.fit(x_data, y_one_hot, batch_size=batch_size , validation_split=0.2, epochs=training_epochs)"
   ]
  },
  {
   "cell_type": "code",
   "execution_count": 8,
   "id": "0f3f6697",
   "metadata": {},
   "outputs": [
    {
     "data": {
      "image/png": "[encoded data removed]",
      "text/plain": [
       "<Figure size 460.8x403.2 with 1 Axes>"
      ]
     },
     "metadata": {},
     "output_type": "display_data"
    }
   ],
   "source": [
    "# 모델 손실 함수 시각화\n",
    "from jupyterthemes import jtplot\n",
    "jtplot.style(theme='monokai')\n",
    "\n",
    "plt.plot(history.history['loss'], 'b-', label='loss')\n",
    "plt.plot(history.history['val_loss'], 'r-', label='val_loss')\n",
    "plt.title('Model loss')\n",
    "plt.xlabel('Epoch')\n",
    "plt.ylabel('Loss')\n",
    "plt.legend()\n",
    "plt.show()"
   ]
  },
  {
   "cell_type": "code",
   "execution_count": 9,
   "id": "83e399f2",
   "metadata": {},
   "outputs": [
    {
     "data": {
      "image/png": "[encoded data removed]",
      "text/plain": [
       "<Figure size 460.8x403.2 with 1 Axes>"
      ]
     },
     "metadata": {},
     "output_type": "display_data"
    }
   ],
   "source": [
    "# 모델 정확도 시각화\n",
    "plt.plot(history.history['accuracy'], 'g-', label='accuracy')\n",
    "plt.plot(history.history['val_accuracy'], 'r-', label='val_accuracy')\n",
    "plt.title('Model Accuracy')\n",
    "plt.xlabel('Epoch')\n",
    "plt.ylabel('Accuracy')\n",
    "plt.legend()\n",
    "plt.show()"
   ]
  },
  {
   "cell_type": "code",
   "execution_count": 10,
   "id": "f860be4f",
   "metadata": {},
   "outputs": [
    {
     "name": "stdout",
     "output_type": "stream",
     "text": [
      "(80000, 20) (80000, 4)\n"
     ]
    }
   ],
   "source": [
    "# Full x_data test\n",
    "test_data = np.loadtxt('MIMO_2_0dB_test.csv', delimiter=',', dtype=np.float32)\n",
    "x_test_data = test_data[:, 1:21]\n",
    "y_test_data = test_data[:, -4:]\n",
    "print(x_test_data.shape, y_test_data.shape)"
   ]
  },
  {
   "cell_type": "code",
   "execution_count": 11,
   "id": "1b49e243",
   "metadata": {},
   "outputs": [
    {
     "name": "stdout",
     "output_type": "stream",
     "text": [
      "[[1]\n",
      " [1]\n",
      " [1]\n",
      " ...\n",
      " [2]\n",
      " [2]\n",
      " [2]]\n"
     ]
    }
   ],
   "source": [
    "# Convert y_test_data to y_test_bit\n",
    "i=1\n",
    "y_test_merge = []\n",
    "while i <= y_test_data.shape[0]:\n",
    "    temp2 = \"\".join(str(_) for _ in y_test_data[i-1,:])\n",
    "    y_test_merge.append(temp2)\n",
    "    i = i + 1\n",
    "\n",
    "encoder = LabelEncoder()\n",
    "encoder.fit(y_test_merge)\n",
    "y_test_bit = encoder.transform(y_test_merge)\n",
    "y_test_bit = y_test_bit.reshape(-1, 1)\n",
    "print(y_test_bit)"
   ]
  },
  {
   "cell_type": "code",
   "execution_count": 12,
   "id": "02ceb9be",
   "metadata": {},
   "outputs": [
    {
     "name": "stdout",
     "output_type": "stream",
     "text": [
      "one_hot: [[0. 1. 0. 0.]\n",
      " [0. 1. 0. 0.]\n",
      " [0. 1. 0. 0.]\n",
      " ...\n",
      " [0. 0. 1. 0.]\n",
      " [0. 0. 1. 0.]\n",
      " [0. 0. 1. 0.]]\n"
     ]
    }
   ],
   "source": [
    "# Convert y_data to one_hot\n",
    "y_test_one_hot = tf.keras.utils.to_categorical(y_test_bit, nb_classes)\n",
    "print(\"one_hot:\", y_test_one_hot)"
   ]
  },
  {
   "cell_type": "code",
   "execution_count": 13,
   "id": "26d7e049",
   "metadata": {},
   "outputs": [
    {
     "name": "stdout",
     "output_type": "stream",
     "text": [
      "2500/2500 [==============================] - 5s 2ms/step - loss: 0.6266 - accuracy: 0.7527\n",
      "loss:  0.6265731453895569\n",
      "accuracy 0.7526875138282776\n"
     ]
    }
   ],
   "source": [
    "evaluation = tf.model.evaluate(x_test_data, y_test_one_hot)\n",
    "print('loss: ', evaluation[0])\n",
    "print('accuracy', evaluation[1])"
   ]
  },
  {
   "cell_type": "code",
   "execution_count": 14,
   "id": "d62b59fa",
   "metadata": {},
   "outputs": [],
   "source": [
    "predict_x = tf.model.predict(x_test_data) \n",
    "pred = np.argmax(predict_x,axis=1)\n",
    "# for p, y in zip(pred, y_test_bit.flatten()):\n",
    " #   print(\"[{}] Prediction: {} True Y: {}\".format(p == int(y), p, int(y)))"
   ]
  },
  {
   "cell_type": "code",
   "execution_count": 15,
   "id": "e5514203",
   "metadata": {},
   "outputs": [
    {
     "name": "stdout",
     "output_type": "stream",
     "text": [
      "Error : 19785\n",
      "Error Count: 21679\n"
     ]
    }
   ],
   "source": [
    "res_pred = pred.reshape(y_test_data.shape[0], 1)\n",
    "error_cnt = 0\n",
    "error = 0\n",
    "for i in range(0, y_test_data.shape[0]):\n",
    "    if res_pred[i] != y_test_bit[i]:\n",
    "        #print(\"False : {}\".format(i))\n",
    "        #print(\"[{}] data : {}\".format(i, y_test_data[i]))\n",
    "        error += 1\n",
    "        for n in range(0, y_test_data.shape[0], int(y_test_data.shape[0]/nb_classes)):\n",
    "            if y_test_bit[n] == res_pred[i]:\n",
    "                #print(\"[{}] pred data: {}\".format(n, y_test_data[n]))\n",
    "                bit_error = 0\n",
    "                for m in range(0, y_test_data.shape[1]): \n",
    "                    if y_test_data[i, m] != y_test_data[n, m]:\n",
    "                        bit_error += 1\n",
    "                        error_cnt += 1\n",
    "                #print(\"bit error count : \", bit_error)\n",
    "                break\n",
    "print(\"Error : {}\".format(error))\n",
    "print(\"Error Count: {}\".format(error_cnt))"
   ]
  },
  {
   "cell_type": "code",
   "execution_count": 16,
   "id": "979f11c4",
   "metadata": {},
   "outputs": [
    {
     "name": "stdout",
     "output_type": "stream",
     "text": [
      "BER: 0.067746875\n"
     ]
    }
   ],
   "source": [
    "BER = (error_cnt)/(y_test_data.shape[0]*2*2)\n",
    "print(\"BER: {}\".format(BER))"
   ]
  },
  {
   "cell_type": "code",
   "execution_count": null,
   "id": "5a5b98a7",
   "metadata": {},
   "outputs": [],
   "source": []
  }
 ],
 "metadata": {
  "kernelspec": {
   "display_name": "Python 3 (ipykernel)",
   "language": "python",
   "name": "python3"
  },
  "language_info": {
   "codemirror_mode": {
    "name": "ipython",
    "version": 3
   },
   "file_extension": ".py",
   "mimetype": "text/x-python",
   "name": "python",
   "nbconvert_exporter": "python",
   "pygments_lexer": "ipython3",
   "version": "3.8.12"
  }
 },
 "nbformat": 4,
 "nbformat_minor": 5
}
