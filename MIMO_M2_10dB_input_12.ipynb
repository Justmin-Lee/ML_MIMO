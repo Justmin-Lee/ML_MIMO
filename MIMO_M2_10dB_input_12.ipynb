{
 "cells": [
  {
   "cell_type": "code",
   "execution_count": 1,
   "id": "39878172",
   "metadata": {},
   "outputs": [],
   "source": [
    "import numpy as np\n",
    "import random\n",
    "import matplotlib.pyplot as plt\n",
    "import tensorflow as tf\n",
    "from sklearn.model_selection import train_test_split\n",
    "from sklearn.preprocessing import LabelEncoder\n",
    "\n",
    "random.seed(777)  # for reproducibility\n",
    "learning_rate = 0.001\n",
    "batch_size = 10000\n",
    "training_epochs = 200\n",
    "nb_classes = 4\n",
    "drop_rate = 0.3"
   ]
  },
  {
   "cell_type": "code",
   "execution_count": 2,
   "id": "6a28f0ed",
   "metadata": {
    "scrolled": false
   },
   "outputs": [
    {
     "name": "stdout",
     "output_type": "stream",
     "text": [
      "(40000, 12) (40000, 4)\n",
      "[[ 0.06907259 -0.7754382  -0.02926022 ...  1.1568292  -0.9176092\n",
      "   1.4018345 ]\n",
      " [ 0.22259928 -0.39343154 -0.27505288 ... -0.10087641  0.08862136\n",
      "   0.70937884]\n",
      " [ 0.3979375  -0.57233614 -0.14153855 ... -1.3764832  -0.6210649\n",
      "   0.5912153 ]\n",
      " ...\n",
      " [ 0.09748081 -0.8959886  -0.5795385  ... -0.29746506 -0.20454134\n",
      "  -0.94334966]\n",
      " [-0.7765729  -1.1802692   0.63803524 ...  0.8383128  -0.6203891\n",
      "  -0.62022674]\n",
      " [ 1.7183214   1.642255    0.2505213  ... -0.782188    0.23301879\n",
      "   0.9069005 ]]\n"
     ]
    }
   ],
   "source": [
    "xy = np.loadtxt('MIMO_2_10dB.csv', delimiter=',', dtype=np.float32)\n",
    "x_data = xy[:, 1:13]\n",
    "y_data = xy[:, -4:]\n",
    "\n",
    "print(x_data.shape, y_data.shape)\n",
    "print(x_data)"
   ]
  },
  {
   "cell_type": "code",
   "execution_count": 3,
   "id": "ee73316f",
   "metadata": {},
   "outputs": [
    {
     "name": "stdout",
     "output_type": "stream",
     "text": [
      "[[1]\n",
      " [1]\n",
      " [1]\n",
      " ...\n",
      " [2]\n",
      " [2]\n",
      " [2]]\n"
     ]
    }
   ],
   "source": [
    "# Convert y_data to y_bit\n",
    "i=1\n",
    "y_merge = []\n",
    "while i <= y_data.shape[0]:\n",
    "    temp = \"\".join(str(_) for _ in y_data[i-1,:])\n",
    "    y_merge.append(temp)\n",
    "    i = i + 1\n",
    "\n",
    "encoder = LabelEncoder()\n",
    "encoder.fit(y_merge)\n",
    "y_bit = encoder.transform(y_merge)\n",
    "y_bit = y_bit.reshape(-1, 1)\n",
    "print(y_bit)"
   ]
  },
  {
   "cell_type": "code",
   "execution_count": 4,
   "id": "633ea46e",
   "metadata": {},
   "outputs": [
    {
     "name": "stdout",
     "output_type": "stream",
     "text": [
      "one_hot: [[0. 1. 0. 0.]\n",
      " [0. 1. 0. 0.]\n",
      " [0. 1. 0. 0.]\n",
      " ...\n",
      " [0. 0. 1. 0.]\n",
      " [0. 0. 1. 0.]\n",
      " [0. 0. 1. 0.]]\n"
     ]
    }
   ],
   "source": [
    "# Convert y_data to one_hot\n",
    "y_one_hot = tf.keras.utils.to_categorical(y_bit, nb_classes)\n",
    "print(\"one_hot:\", y_one_hot)"
   ]
  },
  {
   "cell_type": "code",
   "execution_count": 5,
   "id": "d6f44f52",
   "metadata": {},
   "outputs": [],
   "source": [
    "tf.model = tf.keras.Sequential()\n",
    "# Glorot normal initializer, also called Xavier normal initializer.\n",
    "# see https://www.tensorflow.org/api_docs/python/tf/initializers"
   ]
  },
  {
   "cell_type": "code",
   "execution_count": 6,
   "id": "9e58a9ba",
   "metadata": {},
   "outputs": [
    {
     "name": "stdout",
     "output_type": "stream",
     "text": [
      "Model: \"sequential\"\n",
      "_________________________________________________________________\n",
      "Layer (type)                 Output Shape              Param #   \n",
      "=================================================================\n",
      "dense (Dense)                (None, 384)               4992      \n",
      "_________________________________________________________________\n",
      "dropout (Dropout)            (None, 384)               0         \n",
      "_________________________________________________________________\n",
      "dense_1 (Dense)              (None, 192)               73920     \n",
      "_________________________________________________________________\n",
      "dropout_1 (Dropout)          (None, 192)               0         \n",
      "_________________________________________________________________\n",
      "dense_2 (Dense)              (None, 4)                 772       \n",
      "=================================================================\n",
      "Total params: 79,684\n",
      "Trainable params: 79,684\n",
      "Non-trainable params: 0\n",
      "_________________________________________________________________\n"
     ]
    }
   ],
   "source": [
    "tf.model.add(tf.keras.layers.Dense(input_dim=x_data.shape[1], units=384, kernel_regularizer=tf.keras.regularizers.l2(0.001), activation='relu'))\n",
    "tf.model.add(tf.keras.layers.Dropout(drop_rate))\n",
    "tf.model.add(tf.keras.layers.Dense(units=192, kernel_regularizer=tf.keras.regularizers.l2(0.001), activation='relu'))\n",
    "tf.model.add(tf.keras.layers.Dropout(drop_rate))\n",
    "tf.model.add(tf.keras.layers.Dense(units=nb_classes, activation='softmax'))\n",
    "tf.model.compile(loss='categorical_crossentropy',\n",
    "                 optimizer=tf.keras.optimizers.Adam(learning_rate=learning_rate), metrics=['accuracy'])\n",
    "tf.model.summary()"
   ]
  },
  {
   "cell_type": "code",
   "execution_count": 7,
   "id": "c346ad84",
   "metadata": {
    "scrolled": true
   },
   "outputs": [
    {
     "name": "stdout",
     "output_type": "stream",
     "text": [
      "Epoch 1/200\n",
      "4/4 [==============================] - 1s 48ms/step - loss: 1.6240 - accuracy: 0.3073 - val_loss: 2.6159 - val_accuracy: 0.0000e+00\n",
      "Epoch 2/200\n",
      "4/4 [==============================] - 0s 9ms/step - loss: 1.5021 - accuracy: 0.4310 - val_loss: 3.2125 - val_accuracy: 0.0000e+00\n",
      "Epoch 3/200\n",
      "4/4 [==============================] - 0s 9ms/step - loss: 1.4367 - accuracy: 0.5315 - val_loss: 3.3431 - val_accuracy: 0.0000e+00\n",
      "Epoch 4/200\n",
      "4/4 [==============================] - 0s 9ms/step - loss: 1.3686 - accuracy: 0.6031 - val_loss: 3.1571 - val_accuracy: 0.0000e+00\n",
      "Epoch 5/200\n",
      "4/4 [==============================] - 0s 9ms/step - loss: 1.2918 - accuracy: 0.6575 - val_loss: 2.8892 - val_accuracy: 0.0000e+00\n",
      "Epoch 6/200\n",
      "4/4 [==============================] - 0s 9ms/step - loss: 1.2130 - accuracy: 0.6936 - val_loss: 2.6983 - val_accuracy: 0.0000e+00\n",
      "Epoch 7/200\n",
      "4/4 [==============================] - 0s 9ms/step - loss: 1.1353 - accuracy: 0.7189 - val_loss: 2.6009 - val_accuracy: 0.0000e+00\n",
      "Epoch 8/200\n",
      "4/4 [==============================] - 0s 10ms/step - loss: 1.0559 - accuracy: 0.7430 - val_loss: 2.5713 - val_accuracy: 0.0000e+00\n",
      "Epoch 9/200\n",
      "4/4 [==============================] - 0s 9ms/step - loss: 0.9839 - accuracy: 0.7610 - val_loss: 2.5148 - val_accuracy: 0.0000e+00\n",
      "Epoch 10/200\n",
      "4/4 [==============================] - 0s 9ms/step - loss: 0.9097 - accuracy: 0.7783 - val_loss: 2.3641 - val_accuracy: 0.0000e+00\n",
      "Epoch 11/200\n",
      "4/4 [==============================] - 0s 9ms/step - loss: 0.8446 - accuracy: 0.7977 - val_loss: 2.1508 - val_accuracy: 0.0000e+00\n",
      "Epoch 12/200\n",
      "4/4 [==============================] - 0s 9ms/step - loss: 0.7866 - accuracy: 0.8114 - val_loss: 1.9235 - val_accuracy: 0.0014\n",
      "Epoch 13/200\n",
      "4/4 [==============================] - 0s 9ms/step - loss: 0.7299 - accuracy: 0.8287 - val_loss: 1.7304 - val_accuracy: 0.0512\n",
      "Epoch 14/200\n",
      "4/4 [==============================] - 0s 9ms/step - loss: 0.6794 - accuracy: 0.8459 - val_loss: 1.5884 - val_accuracy: 0.1583\n",
      "Epoch 15/200\n",
      "4/4 [==============================] - 0s 9ms/step - loss: 0.6333 - accuracy: 0.8619 - val_loss: 1.4670 - val_accuracy: 0.2648\n",
      "Epoch 16/200\n",
      "4/4 [==============================] - 0s 9ms/step - loss: 0.5983 - accuracy: 0.8709 - val_loss: 1.3315 - val_accuracy: 0.3804\n",
      "Epoch 17/200\n",
      "4/4 [==============================] - 0s 9ms/step - loss: 0.5634 - accuracy: 0.8854 - val_loss: 1.1573 - val_accuracy: 0.5224\n",
      "Epoch 18/200\n",
      "4/4 [==============================] - 0s 9ms/step - loss: 0.5341 - accuracy: 0.8946 - val_loss: 1.0320 - val_accuracy: 0.6105\n",
      "Epoch 19/200\n",
      "4/4 [==============================] - 0s 9ms/step - loss: 0.5099 - accuracy: 0.9007 - val_loss: 0.9608 - val_accuracy: 0.6561\n",
      "Epoch 20/200\n",
      "4/4 [==============================] - 0s 9ms/step - loss: 0.4886 - accuracy: 0.9072 - val_loss: 0.9168 - val_accuracy: 0.6785\n",
      "Epoch 21/200\n",
      "4/4 [==============================] - 0s 9ms/step - loss: 0.4702 - accuracy: 0.9094 - val_loss: 0.8797 - val_accuracy: 0.6959\n",
      "Epoch 22/200\n",
      "4/4 [==============================] - 0s 9ms/step - loss: 0.4557 - accuracy: 0.9146 - val_loss: 0.8365 - val_accuracy: 0.7135\n",
      "Epoch 23/200\n",
      "4/4 [==============================] - 0s 9ms/step - loss: 0.4392 - accuracy: 0.9162 - val_loss: 0.7970 - val_accuracy: 0.7356\n",
      "Epoch 24/200\n",
      "4/4 [==============================] - 0s 9ms/step - loss: 0.4256 - accuracy: 0.9185 - val_loss: 0.7471 - val_accuracy: 0.7615\n",
      "Epoch 25/200\n",
      "4/4 [==============================] - 0s 8ms/step - loss: 0.4156 - accuracy: 0.9212 - val_loss: 0.7272 - val_accuracy: 0.7697\n",
      "Epoch 26/200\n",
      "4/4 [==============================] - 0s 9ms/step - loss: 0.4041 - accuracy: 0.9229 - val_loss: 0.7198 - val_accuracy: 0.7707\n",
      "Epoch 27/200\n",
      "4/4 [==============================] - 0s 9ms/step - loss: 0.3965 - accuracy: 0.9228 - val_loss: 0.7067 - val_accuracy: 0.7736\n",
      "Epoch 28/200\n",
      "4/4 [==============================] - 0s 9ms/step - loss: 0.3877 - accuracy: 0.9238 - val_loss: 0.6932 - val_accuracy: 0.7766\n",
      "Epoch 29/200\n",
      "4/4 [==============================] - 0s 9ms/step - loss: 0.3779 - accuracy: 0.9266 - val_loss: 0.6718 - val_accuracy: 0.7862\n",
      "Epoch 30/200\n",
      "4/4 [==============================] - 0s 9ms/step - loss: 0.3717 - accuracy: 0.9260 - val_loss: 0.6510 - val_accuracy: 0.7952\n",
      "Epoch 31/200\n",
      "4/4 [==============================] - 0s 9ms/step - loss: 0.3662 - accuracy: 0.9267 - val_loss: 0.6296 - val_accuracy: 0.8021\n",
      "Epoch 32/200\n",
      "4/4 [==============================] - 0s 9ms/step - loss: 0.3576 - accuracy: 0.9291 - val_loss: 0.6490 - val_accuracy: 0.7910\n",
      "Epoch 33/200\n",
      "4/4 [==============================] - 0s 9ms/step - loss: 0.3495 - accuracy: 0.9293 - val_loss: 0.6502 - val_accuracy: 0.7885\n",
      "Epoch 34/200\n",
      "4/4 [==============================] - 0s 9ms/step - loss: 0.3457 - accuracy: 0.9283 - val_loss: 0.6200 - val_accuracy: 0.8011\n",
      "Epoch 35/200\n",
      "4/4 [==============================] - 0s 9ms/step - loss: 0.3393 - accuracy: 0.9293 - val_loss: 0.6143 - val_accuracy: 0.8012\n",
      "Epoch 36/200\n",
      "4/4 [==============================] - 0s 9ms/step - loss: 0.3364 - accuracy: 0.9294 - val_loss: 0.6001 - val_accuracy: 0.8055\n",
      "Epoch 37/200\n",
      "4/4 [==============================] - 0s 9ms/step - loss: 0.3301 - accuracy: 0.9311 - val_loss: 0.5894 - val_accuracy: 0.8089\n",
      "Epoch 38/200\n",
      "4/4 [==============================] - 0s 9ms/step - loss: 0.3246 - accuracy: 0.9318 - val_loss: 0.6107 - val_accuracy: 0.7985\n",
      "Epoch 39/200\n",
      "4/4 [==============================] - 0s 9ms/step - loss: 0.3232 - accuracy: 0.9301 - val_loss: 0.5870 - val_accuracy: 0.8084\n",
      "Epoch 40/200\n",
      "4/4 [==============================] - 0s 9ms/step - loss: 0.3170 - accuracy: 0.9324 - val_loss: 0.5803 - val_accuracy: 0.8086\n",
      "Epoch 41/200\n",
      "4/4 [==============================] - 0s 9ms/step - loss: 0.3131 - accuracy: 0.9341 - val_loss: 0.5730 - val_accuracy: 0.8117\n",
      "Epoch 42/200\n",
      "4/4 [==============================] - 0s 9ms/step - loss: 0.3092 - accuracy: 0.9320 - val_loss: 0.5653 - val_accuracy: 0.8151\n",
      "Epoch 43/200\n",
      "4/4 [==============================] - 0s 9ms/step - loss: 0.3064 - accuracy: 0.9323 - val_loss: 0.5801 - val_accuracy: 0.8050\n",
      "Epoch 44/200\n",
      "4/4 [==============================] - 0s 9ms/step - loss: 0.3028 - accuracy: 0.9325 - val_loss: 0.5791 - val_accuracy: 0.8051\n",
      "Epoch 45/200\n",
      "4/4 [==============================] - 0s 9ms/step - loss: 0.3002 - accuracy: 0.9327 - val_loss: 0.5512 - val_accuracy: 0.8166\n",
      "Epoch 46/200\n",
      "4/4 [==============================] - 0s 9ms/step - loss: 0.2970 - accuracy: 0.9332 - val_loss: 0.5567 - val_accuracy: 0.8140\n",
      "Epoch 47/200\n",
      "4/4 [==============================] - 0s 9ms/step - loss: 0.2950 - accuracy: 0.9333 - val_loss: 0.5626 - val_accuracy: 0.8115\n",
      "Epoch 48/200\n",
      "4/4 [==============================] - 0s 9ms/step - loss: 0.2924 - accuracy: 0.9329 - val_loss: 0.5646 - val_accuracy: 0.8099\n",
      "Epoch 49/200\n",
      "4/4 [==============================] - 0s 9ms/step - loss: 0.2888 - accuracy: 0.9346 - val_loss: 0.5663 - val_accuracy: 0.8064\n",
      "Epoch 50/200\n",
      "4/4 [==============================] - 0s 9ms/step - loss: 0.2877 - accuracy: 0.9328 - val_loss: 0.5488 - val_accuracy: 0.8150\n",
      "Epoch 51/200\n",
      "4/4 [==============================] - 0s 9ms/step - loss: 0.2858 - accuracy: 0.9323 - val_loss: 0.5424 - val_accuracy: 0.8174\n",
      "Epoch 52/200\n",
      "4/4 [==============================] - 0s 9ms/step - loss: 0.2831 - accuracy: 0.9334 - val_loss: 0.5501 - val_accuracy: 0.8125\n",
      "Epoch 53/200\n",
      "4/4 [==============================] - 0s 9ms/step - loss: 0.2811 - accuracy: 0.9342 - val_loss: 0.5443 - val_accuracy: 0.8145\n",
      "Epoch 54/200\n",
      "4/4 [==============================] - 0s 9ms/step - loss: 0.2780 - accuracy: 0.9355 - val_loss: 0.5399 - val_accuracy: 0.8146\n",
      "Epoch 55/200\n",
      "4/4 [==============================] - 0s 9ms/step - loss: 0.2776 - accuracy: 0.9337 - val_loss: 0.5276 - val_accuracy: 0.8220\n",
      "Epoch 56/200\n",
      "4/4 [==============================] - 0s 9ms/step - loss: 0.2753 - accuracy: 0.9351 - val_loss: 0.5430 - val_accuracy: 0.8141\n",
      "Epoch 57/200\n",
      "4/4 [==============================] - 0s 9ms/step - loss: 0.2739 - accuracy: 0.9352 - val_loss: 0.5316 - val_accuracy: 0.8188\n",
      "Epoch 58/200\n",
      "4/4 [==============================] - 0s 9ms/step - loss: 0.2715 - accuracy: 0.9358 - val_loss: 0.5421 - val_accuracy: 0.8111\n",
      "Epoch 59/200\n"
     ]
    },
    {
     "name": "stdout",
     "output_type": "stream",
     "text": [
      "4/4 [==============================] - 0s 9ms/step - loss: 0.2707 - accuracy: 0.9349 - val_loss: 0.5258 - val_accuracy: 0.8192\n",
      "Epoch 60/200\n",
      "4/4 [==============================] - 0s 9ms/step - loss: 0.2678 - accuracy: 0.9362 - val_loss: 0.5062 - val_accuracy: 0.8279\n",
      "Epoch 61/200\n",
      "4/4 [==============================] - 0s 9ms/step - loss: 0.2673 - accuracy: 0.9352 - val_loss: 0.5330 - val_accuracy: 0.8151\n",
      "Epoch 62/200\n",
      "4/4 [==============================] - 0s 9ms/step - loss: 0.2666 - accuracy: 0.9349 - val_loss: 0.5314 - val_accuracy: 0.8154\n",
      "Epoch 63/200\n",
      "4/4 [==============================] - 0s 9ms/step - loss: 0.2643 - accuracy: 0.9358 - val_loss: 0.5157 - val_accuracy: 0.8245\n",
      "Epoch 64/200\n",
      "4/4 [==============================] - 0s 9ms/step - loss: 0.2632 - accuracy: 0.9358 - val_loss: 0.5152 - val_accuracy: 0.8225\n",
      "Epoch 65/200\n",
      "4/4 [==============================] - 0s 9ms/step - loss: 0.2611 - accuracy: 0.9373 - val_loss: 0.5259 - val_accuracy: 0.8165\n",
      "Epoch 66/200\n",
      "4/4 [==============================] - 0s 10ms/step - loss: 0.2613 - accuracy: 0.9355 - val_loss: 0.5215 - val_accuracy: 0.8190\n",
      "Epoch 67/200\n",
      "4/4 [==============================] - 0s 9ms/step - loss: 0.2586 - accuracy: 0.9370 - val_loss: 0.5069 - val_accuracy: 0.8263\n",
      "Epoch 68/200\n",
      "4/4 [==============================] - 0s 9ms/step - loss: 0.2577 - accuracy: 0.9361 - val_loss: 0.5218 - val_accuracy: 0.8185\n",
      "Epoch 69/200\n",
      "4/4 [==============================] - 0s 9ms/step - loss: 0.2563 - accuracy: 0.9363 - val_loss: 0.5303 - val_accuracy: 0.8138\n",
      "Epoch 70/200\n",
      "4/4 [==============================] - 0s 9ms/step - loss: 0.2574 - accuracy: 0.9363 - val_loss: 0.5041 - val_accuracy: 0.8245\n",
      "Epoch 71/200\n",
      "4/4 [==============================] - 0s 9ms/step - loss: 0.2556 - accuracy: 0.9362 - val_loss: 0.5287 - val_accuracy: 0.8135\n",
      "Epoch 72/200\n",
      "4/4 [==============================] - 0s 9ms/step - loss: 0.2537 - accuracy: 0.9372 - val_loss: 0.5253 - val_accuracy: 0.8149\n",
      "Epoch 73/200\n",
      "4/4 [==============================] - 0s 9ms/step - loss: 0.2528 - accuracy: 0.9368 - val_loss: 0.5049 - val_accuracy: 0.8250\n",
      "Epoch 74/200\n",
      "4/4 [==============================] - 0s 9ms/step - loss: 0.2537 - accuracy: 0.9364 - val_loss: 0.5138 - val_accuracy: 0.8194\n",
      "Epoch 75/200\n",
      "4/4 [==============================] - 0s 9ms/step - loss: 0.2538 - accuracy: 0.9363 - val_loss: 0.5229 - val_accuracy: 0.8170\n",
      "Epoch 76/200\n",
      "4/4 [==============================] - 0s 9ms/step - loss: 0.2516 - accuracy: 0.9375 - val_loss: 0.4986 - val_accuracy: 0.8256\n",
      "Epoch 77/200\n",
      "4/4 [==============================] - 0s 9ms/step - loss: 0.2514 - accuracy: 0.9353 - val_loss: 0.5096 - val_accuracy: 0.8210\n",
      "Epoch 78/200\n",
      "4/4 [==============================] - 0s 9ms/step - loss: 0.2520 - accuracy: 0.9355 - val_loss: 0.5082 - val_accuracy: 0.8220\n",
      "Epoch 79/200\n",
      "4/4 [==============================] - 0s 9ms/step - loss: 0.2509 - accuracy: 0.9366 - val_loss: 0.5210 - val_accuracy: 0.8161\n",
      "Epoch 80/200\n",
      "4/4 [==============================] - 0s 9ms/step - loss: 0.2483 - accuracy: 0.9371 - val_loss: 0.5245 - val_accuracy: 0.8155\n",
      "Epoch 81/200\n",
      "4/4 [==============================] - 0s 9ms/step - loss: 0.2485 - accuracy: 0.9364 - val_loss: 0.4908 - val_accuracy: 0.8290\n",
      "Epoch 82/200\n",
      "4/4 [==============================] - 0s 9ms/step - loss: 0.2478 - accuracy: 0.9379 - val_loss: 0.4972 - val_accuracy: 0.8253\n",
      "Epoch 83/200\n",
      "4/4 [==============================] - 0s 9ms/step - loss: 0.2469 - accuracy: 0.9378 - val_loss: 0.5032 - val_accuracy: 0.8231\n",
      "Epoch 84/200\n",
      "4/4 [==============================] - 0s 9ms/step - loss: 0.2458 - accuracy: 0.9368 - val_loss: 0.5022 - val_accuracy: 0.8227\n",
      "Epoch 85/200\n",
      "4/4 [==============================] - 0s 9ms/step - loss: 0.2474 - accuracy: 0.9359 - val_loss: 0.5099 - val_accuracy: 0.8196\n",
      "Epoch 86/200\n",
      "4/4 [==============================] - 0s 9ms/step - loss: 0.2460 - accuracy: 0.9377 - val_loss: 0.5065 - val_accuracy: 0.8220\n",
      "Epoch 87/200\n",
      "4/4 [==============================] - 0s 9ms/step - loss: 0.2451 - accuracy: 0.9383 - val_loss: 0.4977 - val_accuracy: 0.8249\n",
      "Epoch 88/200\n",
      "4/4 [==============================] - 0s 9ms/step - loss: 0.2432 - accuracy: 0.9387 - val_loss: 0.5088 - val_accuracy: 0.8195\n",
      "Epoch 89/200\n",
      "4/4 [==============================] - 0s 9ms/step - loss: 0.2449 - accuracy: 0.9369 - val_loss: 0.5099 - val_accuracy: 0.8188\n",
      "Epoch 90/200\n",
      "4/4 [==============================] - 0s 9ms/step - loss: 0.2415 - accuracy: 0.9396 - val_loss: 0.4826 - val_accuracy: 0.8305\n",
      "Epoch 91/200\n",
      "4/4 [==============================] - 0s 9ms/step - loss: 0.2435 - accuracy: 0.9373 - val_loss: 0.4935 - val_accuracy: 0.8271\n",
      "Epoch 92/200\n",
      "4/4 [==============================] - 0s 9ms/step - loss: 0.2420 - accuracy: 0.9383 - val_loss: 0.4978 - val_accuracy: 0.8253\n",
      "Epoch 93/200\n",
      "4/4 [==============================] - 0s 9ms/step - loss: 0.2427 - accuracy: 0.9369 - val_loss: 0.4891 - val_accuracy: 0.8281\n",
      "Epoch 94/200\n",
      "4/4 [==============================] - 0s 9ms/step - loss: 0.2426 - accuracy: 0.9373 - val_loss: 0.5148 - val_accuracy: 0.8176\n",
      "Epoch 95/200\n",
      "4/4 [==============================] - 0s 9ms/step - loss: 0.2420 - accuracy: 0.9372 - val_loss: 0.4897 - val_accuracy: 0.8265\n",
      "Epoch 96/200\n",
      "4/4 [==============================] - 0s 9ms/step - loss: 0.2429 - accuracy: 0.9370 - val_loss: 0.4806 - val_accuracy: 0.8317\n",
      "Epoch 97/200\n",
      "4/4 [==============================] - 0s 9ms/step - loss: 0.2394 - accuracy: 0.9383 - val_loss: 0.4905 - val_accuracy: 0.8273\n",
      "Epoch 98/200\n",
      "4/4 [==============================] - 0s 9ms/step - loss: 0.2407 - accuracy: 0.9376 - val_loss: 0.4996 - val_accuracy: 0.8235\n",
      "Epoch 99/200\n",
      "4/4 [==============================] - 0s 9ms/step - loss: 0.2390 - accuracy: 0.9390 - val_loss: 0.4924 - val_accuracy: 0.8261\n",
      "Epoch 100/200\n",
      "4/4 [==============================] - 0s 9ms/step - loss: 0.2388 - accuracy: 0.9379 - val_loss: 0.4968 - val_accuracy: 0.8253\n",
      "Epoch 101/200\n",
      "4/4 [==============================] - 0s 9ms/step - loss: 0.2374 - accuracy: 0.9386 - val_loss: 0.4817 - val_accuracy: 0.8324\n",
      "Epoch 102/200\n",
      "4/4 [==============================] - 0s 9ms/step - loss: 0.2382 - accuracy: 0.9384 - val_loss: 0.4813 - val_accuracy: 0.8313\n",
      "Epoch 103/200\n",
      "4/4 [==============================] - 0s 9ms/step - loss: 0.2364 - accuracy: 0.9384 - val_loss: 0.4979 - val_accuracy: 0.8224\n",
      "Epoch 104/200\n",
      "4/4 [==============================] - 0s 9ms/step - loss: 0.2379 - accuracy: 0.9370 - val_loss: 0.5029 - val_accuracy: 0.8213\n",
      "Epoch 105/200\n",
      "4/4 [==============================] - 0s 9ms/step - loss: 0.2368 - accuracy: 0.9375 - val_loss: 0.4882 - val_accuracy: 0.8284\n",
      "Epoch 106/200\n",
      "4/4 [==============================] - 0s 9ms/step - loss: 0.2366 - accuracy: 0.9373 - val_loss: 0.4776 - val_accuracy: 0.8314\n",
      "Epoch 107/200\n",
      "4/4 [==============================] - 0s 9ms/step - loss: 0.2353 - accuracy: 0.9386 - val_loss: 0.4867 - val_accuracy: 0.8271\n",
      "Epoch 108/200\n",
      "4/4 [==============================] - 0s 9ms/step - loss: 0.2356 - accuracy: 0.9386 - val_loss: 0.4969 - val_accuracy: 0.8223\n",
      "Epoch 109/200\n",
      "4/4 [==============================] - 0s 9ms/step - loss: 0.2355 - accuracy: 0.9375 - val_loss: 0.4999 - val_accuracy: 0.8217\n",
      "Epoch 110/200\n",
      "4/4 [==============================] - 0s 9ms/step - loss: 0.2342 - accuracy: 0.9379 - val_loss: 0.4770 - val_accuracy: 0.8328\n",
      "Epoch 111/200\n",
      "4/4 [==============================] - 0s 9ms/step - loss: 0.2339 - accuracy: 0.9386 - val_loss: 0.4803 - val_accuracy: 0.8300\n",
      "Epoch 112/200\n",
      "4/4 [==============================] - 0s 9ms/step - loss: 0.2347 - accuracy: 0.9389 - val_loss: 0.4971 - val_accuracy: 0.8234\n",
      "Epoch 113/200\n",
      "4/4 [==============================] - 0s 9ms/step - loss: 0.2327 - accuracy: 0.9398 - val_loss: 0.4815 - val_accuracy: 0.8306\n",
      "Epoch 114/200\n",
      "4/4 [==============================] - 0s 9ms/step - loss: 0.2316 - accuracy: 0.9387 - val_loss: 0.4716 - val_accuracy: 0.8332\n",
      "Epoch 115/200\n",
      "4/4 [==============================] - 0s 9ms/step - loss: 0.2338 - accuracy: 0.9387 - val_loss: 0.4965 - val_accuracy: 0.8239\n",
      "Epoch 116/200\n",
      "4/4 [==============================] - 0s 9ms/step - loss: 0.2336 - accuracy: 0.9376 - val_loss: 0.4809 - val_accuracy: 0.8300\n",
      "Epoch 117/200\n"
     ]
    },
    {
     "name": "stdout",
     "output_type": "stream",
     "text": [
      "4/4 [==============================] - 0s 9ms/step - loss: 0.2332 - accuracy: 0.9391 - val_loss: 0.4801 - val_accuracy: 0.8305\n",
      "Epoch 118/200\n",
      "4/4 [==============================] - 0s 9ms/step - loss: 0.2326 - accuracy: 0.9383 - val_loss: 0.4870 - val_accuracy: 0.8273\n",
      "Epoch 119/200\n",
      "4/4 [==============================] - 0s 9ms/step - loss: 0.2315 - accuracy: 0.9388 - val_loss: 0.4764 - val_accuracy: 0.8314\n",
      "Epoch 120/200\n",
      "4/4 [==============================] - 0s 9ms/step - loss: 0.2312 - accuracy: 0.9382 - val_loss: 0.4755 - val_accuracy: 0.8325\n",
      "Epoch 121/200\n",
      "4/4 [==============================] - 0s 9ms/step - loss: 0.2285 - accuracy: 0.9419 - val_loss: 0.4855 - val_accuracy: 0.8291\n",
      "Epoch 122/200\n",
      "4/4 [==============================] - 0s 9ms/step - loss: 0.2301 - accuracy: 0.9393 - val_loss: 0.4891 - val_accuracy: 0.8253\n",
      "Epoch 123/200\n",
      "4/4 [==============================] - 0s 9ms/step - loss: 0.2307 - accuracy: 0.9394 - val_loss: 0.4931 - val_accuracy: 0.8239\n",
      "Epoch 124/200\n",
      "4/4 [==============================] - 0s 9ms/step - loss: 0.2290 - accuracy: 0.9397 - val_loss: 0.4728 - val_accuracy: 0.8335\n",
      "Epoch 125/200\n",
      "4/4 [==============================] - 0s 9ms/step - loss: 0.2314 - accuracy: 0.9394 - val_loss: 0.4762 - val_accuracy: 0.8306\n",
      "Epoch 126/200\n",
      "4/4 [==============================] - 0s 9ms/step - loss: 0.2299 - accuracy: 0.9405 - val_loss: 0.4775 - val_accuracy: 0.8321\n",
      "Epoch 127/200\n",
      "4/4 [==============================] - 0s 9ms/step - loss: 0.2284 - accuracy: 0.9393 - val_loss: 0.4745 - val_accuracy: 0.8328\n",
      "Epoch 128/200\n",
      "4/4 [==============================] - 0s 9ms/step - loss: 0.2290 - accuracy: 0.9392 - val_loss: 0.4816 - val_accuracy: 0.8291\n",
      "Epoch 129/200\n",
      "4/4 [==============================] - 0s 9ms/step - loss: 0.2275 - accuracy: 0.9399 - val_loss: 0.4882 - val_accuracy: 0.8269\n",
      "Epoch 130/200\n",
      "4/4 [==============================] - 0s 9ms/step - loss: 0.2279 - accuracy: 0.9398 - val_loss: 0.4881 - val_accuracy: 0.8263\n",
      "Epoch 131/200\n",
      "4/4 [==============================] - 0s 10ms/step - loss: 0.2293 - accuracy: 0.9380 - val_loss: 0.4812 - val_accuracy: 0.8278\n",
      "Epoch 132/200\n",
      "4/4 [==============================] - 0s 10ms/step - loss: 0.2277 - accuracy: 0.9383 - val_loss: 0.4634 - val_accuracy: 0.8356\n",
      "Epoch 133/200\n",
      "4/4 [==============================] - 0s 9ms/step - loss: 0.2283 - accuracy: 0.9395 - val_loss: 0.4709 - val_accuracy: 0.8329\n",
      "Epoch 134/200\n",
      "4/4 [==============================] - 0s 10ms/step - loss: 0.2278 - accuracy: 0.9398 - val_loss: 0.4908 - val_accuracy: 0.8239\n",
      "Epoch 135/200\n",
      "4/4 [==============================] - 0s 9ms/step - loss: 0.2269 - accuracy: 0.9397 - val_loss: 0.4871 - val_accuracy: 0.8249\n",
      "Epoch 136/200\n",
      "4/4 [==============================] - 0s 9ms/step - loss: 0.2278 - accuracy: 0.9395 - val_loss: 0.4728 - val_accuracy: 0.8322\n",
      "Epoch 137/200\n",
      "4/4 [==============================] - 0s 9ms/step - loss: 0.2274 - accuracy: 0.9391 - val_loss: 0.4680 - val_accuracy: 0.8349\n",
      "Epoch 138/200\n",
      "4/4 [==============================] - 0s 9ms/step - loss: 0.2276 - accuracy: 0.9396 - val_loss: 0.4877 - val_accuracy: 0.8257\n",
      "Epoch 139/200\n",
      "4/4 [==============================] - 0s 9ms/step - loss: 0.2276 - accuracy: 0.9394 - val_loss: 0.4715 - val_accuracy: 0.8324\n",
      "Epoch 140/200\n",
      "4/4 [==============================] - 0s 9ms/step - loss: 0.2273 - accuracy: 0.9381 - val_loss: 0.4762 - val_accuracy: 0.8311\n",
      "Epoch 141/200\n",
      "4/4 [==============================] - 0s 9ms/step - loss: 0.2276 - accuracy: 0.9374 - val_loss: 0.4903 - val_accuracy: 0.8248\n",
      "Epoch 142/200\n",
      "4/4 [==============================] - 0s 9ms/step - loss: 0.2249 - accuracy: 0.9392 - val_loss: 0.4647 - val_accuracy: 0.8360\n",
      "Epoch 143/200\n",
      "4/4 [==============================] - 0s 9ms/step - loss: 0.2269 - accuracy: 0.9394 - val_loss: 0.4781 - val_accuracy: 0.8281\n",
      "Epoch 144/200\n",
      "4/4 [==============================] - 0s 9ms/step - loss: 0.2269 - accuracy: 0.9391 - val_loss: 0.4740 - val_accuracy: 0.8295\n",
      "Epoch 145/200\n",
      "4/4 [==============================] - 0s 9ms/step - loss: 0.2250 - accuracy: 0.9392 - val_loss: 0.4593 - val_accuracy: 0.8363\n",
      "Epoch 146/200\n",
      "4/4 [==============================] - 0s 9ms/step - loss: 0.2258 - accuracy: 0.9379 - val_loss: 0.4633 - val_accuracy: 0.8349\n",
      "Epoch 147/200\n",
      "4/4 [==============================] - 0s 9ms/step - loss: 0.2254 - accuracy: 0.9384 - val_loss: 0.4817 - val_accuracy: 0.8271\n",
      "Epoch 148/200\n",
      "4/4 [==============================] - 0s 9ms/step - loss: 0.2239 - accuracy: 0.9400 - val_loss: 0.4956 - val_accuracy: 0.8202\n",
      "Epoch 149/200\n",
      "4/4 [==============================] - 0s 9ms/step - loss: 0.2243 - accuracy: 0.9400 - val_loss: 0.4493 - val_accuracy: 0.8411\n",
      "Epoch 150/200\n",
      "4/4 [==============================] - 0s 9ms/step - loss: 0.2246 - accuracy: 0.9395 - val_loss: 0.4703 - val_accuracy: 0.8314\n",
      "Epoch 151/200\n",
      "4/4 [==============================] - 0s 9ms/step - loss: 0.2231 - accuracy: 0.9403 - val_loss: 0.4747 - val_accuracy: 0.8316\n",
      "Epoch 152/200\n",
      "4/4 [==============================] - 0s 9ms/step - loss: 0.2246 - accuracy: 0.9404 - val_loss: 0.4814 - val_accuracy: 0.8269\n",
      "Epoch 153/200\n",
      "4/4 [==============================] - 0s 9ms/step - loss: 0.2238 - accuracy: 0.9398 - val_loss: 0.4752 - val_accuracy: 0.8314\n",
      "Epoch 154/200\n",
      "4/4 [==============================] - 0s 9ms/step - loss: 0.2259 - accuracy: 0.9387 - val_loss: 0.4729 - val_accuracy: 0.8313\n",
      "Epoch 155/200\n",
      "4/4 [==============================] - 0s 10ms/step - loss: 0.2238 - accuracy: 0.9404 - val_loss: 0.4633 - val_accuracy: 0.8356\n",
      "Epoch 156/200\n",
      "4/4 [==============================] - 0s 9ms/step - loss: 0.2231 - accuracy: 0.9392 - val_loss: 0.4718 - val_accuracy: 0.8328\n",
      "Epoch 157/200\n",
      "4/4 [==============================] - 0s 10ms/step - loss: 0.2218 - accuracy: 0.9397 - val_loss: 0.4865 - val_accuracy: 0.8264\n",
      "Epoch 158/200\n",
      "4/4 [==============================] - 0s 10ms/step - loss: 0.2210 - accuracy: 0.9408 - val_loss: 0.4814 - val_accuracy: 0.8264\n",
      "Epoch 159/200\n",
      "4/4 [==============================] - 0s 9ms/step - loss: 0.2220 - accuracy: 0.9406 - val_loss: 0.4362 - val_accuracy: 0.8469\n",
      "Epoch 160/200\n",
      "4/4 [==============================] - 0s 9ms/step - loss: 0.2210 - accuracy: 0.9414 - val_loss: 0.4626 - val_accuracy: 0.8381\n",
      "Epoch 161/200\n",
      "4/4 [==============================] - 0s 9ms/step - loss: 0.2225 - accuracy: 0.9393 - val_loss: 0.4760 - val_accuracy: 0.8300\n",
      "Epoch 162/200\n",
      "4/4 [==============================] - 0s 10ms/step - loss: 0.2209 - accuracy: 0.9398 - val_loss: 0.4768 - val_accuracy: 0.8296\n",
      "Epoch 163/200\n",
      "4/4 [==============================] - 0s 10ms/step - loss: 0.2209 - accuracy: 0.9403 - val_loss: 0.4698 - val_accuracy: 0.8322\n",
      "Epoch 164/200\n",
      "4/4 [==============================] - 0s 9ms/step - loss: 0.2202 - accuracy: 0.9399 - val_loss: 0.4843 - val_accuracy: 0.8259\n",
      "Epoch 165/200\n",
      "4/4 [==============================] - 0s 9ms/step - loss: 0.2229 - accuracy: 0.9386 - val_loss: 0.4629 - val_accuracy: 0.8365\n",
      "Epoch 166/200\n",
      "4/4 [==============================] - 0s 9ms/step - loss: 0.2203 - accuracy: 0.9396 - val_loss: 0.4547 - val_accuracy: 0.8396\n",
      "Epoch 167/200\n",
      "4/4 [==============================] - 0s 9ms/step - loss: 0.2204 - accuracy: 0.9414 - val_loss: 0.4723 - val_accuracy: 0.8319\n",
      "Epoch 168/200\n",
      "4/4 [==============================] - 0s 9ms/step - loss: 0.2200 - accuracy: 0.9393 - val_loss: 0.4513 - val_accuracy: 0.8394\n",
      "Epoch 169/200\n",
      "4/4 [==============================] - 0s 10ms/step - loss: 0.2217 - accuracy: 0.9400 - val_loss: 0.4805 - val_accuracy: 0.8276\n",
      "Epoch 170/200\n",
      "4/4 [==============================] - 0s 9ms/step - loss: 0.2193 - accuracy: 0.9402 - val_loss: 0.4537 - val_accuracy: 0.8384\n",
      "Epoch 171/200\n",
      "4/4 [==============================] - 0s 9ms/step - loss: 0.2194 - accuracy: 0.9398 - val_loss: 0.4687 - val_accuracy: 0.8320\n",
      "Epoch 172/200\n",
      "4/4 [==============================] - 0s 10ms/step - loss: 0.2215 - accuracy: 0.9401 - val_loss: 0.4716 - val_accuracy: 0.8298\n",
      "Epoch 173/200\n",
      "4/4 [==============================] - 0s 9ms/step - loss: 0.2192 - accuracy: 0.9397 - val_loss: 0.4513 - val_accuracy: 0.8380\n",
      "Epoch 174/200\n",
      "4/4 [==============================] - 0s 9ms/step - loss: 0.2194 - accuracy: 0.9410 - val_loss: 0.4704 - val_accuracy: 0.8306\n",
      "Epoch 175/200\n"
     ]
    },
    {
     "name": "stdout",
     "output_type": "stream",
     "text": [
      "4/4 [==============================] - 0s 10ms/step - loss: 0.2195 - accuracy: 0.9389 - val_loss: 0.4872 - val_accuracy: 0.8249\n",
      "Epoch 176/200\n",
      "4/4 [==============================] - 0s 10ms/step - loss: 0.2193 - accuracy: 0.9407 - val_loss: 0.4585 - val_accuracy: 0.8366\n",
      "Epoch 177/200\n",
      "4/4 [==============================] - 0s 9ms/step - loss: 0.2193 - accuracy: 0.9396 - val_loss: 0.4629 - val_accuracy: 0.8349\n",
      "Epoch 178/200\n",
      "4/4 [==============================] - 0s 9ms/step - loss: 0.2189 - accuracy: 0.9400 - val_loss: 0.4687 - val_accuracy: 0.8311\n",
      "Epoch 179/200\n",
      "4/4 [==============================] - 0s 9ms/step - loss: 0.2187 - accuracy: 0.9407 - val_loss: 0.4755 - val_accuracy: 0.8282\n",
      "Epoch 180/200\n",
      "4/4 [==============================] - 0s 9ms/step - loss: 0.2166 - accuracy: 0.9413 - val_loss: 0.4510 - val_accuracy: 0.8386\n",
      "Epoch 181/200\n",
      "4/4 [==============================] - 0s 9ms/step - loss: 0.2174 - accuracy: 0.9404 - val_loss: 0.4646 - val_accuracy: 0.8324\n",
      "Epoch 182/200\n",
      "4/4 [==============================] - 0s 9ms/step - loss: 0.2180 - accuracy: 0.9399 - val_loss: 0.4815 - val_accuracy: 0.8260\n",
      "Epoch 183/200\n",
      "4/4 [==============================] - 0s 9ms/step - loss: 0.2180 - accuracy: 0.9407 - val_loss: 0.4636 - val_accuracy: 0.8330\n",
      "Epoch 184/200\n",
      "4/4 [==============================] - 0s 9ms/step - loss: 0.2177 - accuracy: 0.9398 - val_loss: 0.4412 - val_accuracy: 0.8436\n",
      "Epoch 185/200\n",
      "4/4 [==============================] - 0s 9ms/step - loss: 0.2177 - accuracy: 0.9406 - val_loss: 0.4459 - val_accuracy: 0.8401\n",
      "Epoch 186/200\n",
      "4/4 [==============================] - 0s 9ms/step - loss: 0.2166 - accuracy: 0.9408 - val_loss: 0.4985 - val_accuracy: 0.8176\n",
      "Epoch 187/200\n",
      "4/4 [==============================] - 0s 10ms/step - loss: 0.2177 - accuracy: 0.9400 - val_loss: 0.4559 - val_accuracy: 0.8365\n",
      "Epoch 188/200\n",
      "4/4 [==============================] - 0s 10ms/step - loss: 0.2184 - accuracy: 0.9387 - val_loss: 0.4493 - val_accuracy: 0.8409\n",
      "Epoch 189/200\n",
      "4/4 [==============================] - 0s 9ms/step - loss: 0.2148 - accuracy: 0.9415 - val_loss: 0.4683 - val_accuracy: 0.8307\n",
      "Epoch 190/200\n",
      "4/4 [==============================] - 0s 9ms/step - loss: 0.2170 - accuracy: 0.9404 - val_loss: 0.4612 - val_accuracy: 0.8347\n",
      "Epoch 191/200\n",
      "4/4 [==============================] - 0s 9ms/step - loss: 0.2151 - accuracy: 0.9405 - val_loss: 0.4741 - val_accuracy: 0.8306\n",
      "Epoch 192/200\n",
      "4/4 [==============================] - 0s 9ms/step - loss: 0.2159 - accuracy: 0.9412 - val_loss: 0.4526 - val_accuracy: 0.8386\n",
      "Epoch 193/200\n",
      "4/4 [==============================] - 0s 9ms/step - loss: 0.2172 - accuracy: 0.9391 - val_loss: 0.4726 - val_accuracy: 0.8310\n",
      "Epoch 194/200\n",
      "4/4 [==============================] - 0s 9ms/step - loss: 0.2164 - accuracy: 0.9407 - val_loss: 0.4734 - val_accuracy: 0.8300\n",
      "Epoch 195/200\n",
      "4/4 [==============================] - 0s 9ms/step - loss: 0.2155 - accuracy: 0.9403 - val_loss: 0.4723 - val_accuracy: 0.8298\n",
      "Epoch 196/200\n",
      "4/4 [==============================] - 0s 9ms/step - loss: 0.2164 - accuracy: 0.9390 - val_loss: 0.4735 - val_accuracy: 0.8298\n",
      "Epoch 197/200\n",
      "4/4 [==============================] - 0s 9ms/step - loss: 0.2161 - accuracy: 0.9408 - val_loss: 0.4560 - val_accuracy: 0.8370\n",
      "Epoch 198/200\n",
      "4/4 [==============================] - 0s 9ms/step - loss: 0.2146 - accuracy: 0.9410 - val_loss: 0.4668 - val_accuracy: 0.8322\n",
      "Epoch 199/200\n",
      "4/4 [==============================] - 0s 9ms/step - loss: 0.2159 - accuracy: 0.9399 - val_loss: 0.4543 - val_accuracy: 0.8381\n",
      "Epoch 200/200\n",
      "4/4 [==============================] - 0s 9ms/step - loss: 0.2143 - accuracy: 0.9399 - val_loss: 0.4505 - val_accuracy: 0.8390\n"
     ]
    }
   ],
   "source": [
    "history = tf.model.fit(x_data, y_one_hot, batch_size=batch_size , validation_split=0.2, epochs=training_epochs)"
   ]
  },
  {
   "cell_type": "code",
   "execution_count": 8,
   "id": "0f3f6697",
   "metadata": {},
   "outputs": [
    {
     "data": {
      "image/png": "[encoded data removed]",
      "text/plain": [
       "<Figure size 460.8x403.2 with 1 Axes>"
      ]
     },
     "metadata": {},
     "output_type": "display_data"
    }
   ],
   "source": [
    "# 모델 손실 함수 시각화\n",
    "from jupyterthemes import jtplot\n",
    "jtplot.style(theme='monokai')\n",
    "\n",
    "plt.plot(history.history['loss'], 'b-', label='loss')\n",
    "plt.plot(history.history['val_loss'], 'r-', label='val_loss')\n",
    "plt.title('Model loss')\n",
    "plt.xlabel('Epoch')\n",
    "plt.ylabel('Loss')\n",
    "plt.legend()\n",
    "plt.show()"
   ]
  },
  {
   "cell_type": "code",
   "execution_count": 9,
   "id": "83e399f2",
   "metadata": {},
   "outputs": [
    {
     "data": {
      "image/png": "[encoded data removed]",
      "text/plain": [
       "<Figure size 460.8x403.2 with 1 Axes>"
      ]
     },
     "metadata": {},
     "output_type": "display_data"
    }
   ],
   "source": [
    "# 모델 정확도 시각화\n",
    "plt.plot(history.history['accuracy'], 'g-', label='accuracy')\n",
    "plt.plot(history.history['val_accuracy'], 'r-', label='val_accuracy')\n",
    "plt.title('Model Accuracy')\n",
    "plt.xlabel('Epoch')\n",
    "plt.ylabel('Accuracy')\n",
    "plt.legend()\n",
    "plt.show()"
   ]
  },
  {
   "cell_type": "code",
   "execution_count": 10,
   "id": "f860be4f",
   "metadata": {},
   "outputs": [
    {
     "name": "stdout",
     "output_type": "stream",
     "text": [
      "(8000, 12) (8000, 4)\n"
     ]
    }
   ],
   "source": [
    "# Full x_data test\n",
    "test_data = np.loadtxt('MIMO_2_10dB_test.csv', delimiter=',', dtype=np.float32)\n",
    "x_test_data = test_data[:, 1:13]\n",
    "y_test_data = test_data[:, -4:]\n",
    "print(x_test_data.shape, y_test_data.shape)"
   ]
  },
  {
   "cell_type": "code",
   "execution_count": 11,
   "id": "1b49e243",
   "metadata": {},
   "outputs": [
    {
     "name": "stdout",
     "output_type": "stream",
     "text": [
      "[[1]\n",
      " [1]\n",
      " [1]\n",
      " ...\n",
      " [2]\n",
      " [2]\n",
      " [2]]\n"
     ]
    }
   ],
   "source": [
    "# Convert y_test_data to y_test_bit\n",
    "i=1\n",
    "y_test_merge = []\n",
    "while i <= y_test_data.shape[0]:\n",
    "    temp2 = \"\".join(str(_) for _ in y_test_data[i-1,:])\n",
    "    y_test_merge.append(temp2)\n",
    "    i = i + 1\n",
    "\n",
    "encoder = LabelEncoder()\n",
    "encoder.fit(y_test_merge)\n",
    "y_test_bit = encoder.transform(y_test_merge)\n",
    "y_test_bit = y_test_bit.reshape(-1, 1)\n",
    "print(y_test_bit)"
   ]
  },
  {
   "cell_type": "code",
   "execution_count": 12,
   "id": "02ceb9be",
   "metadata": {},
   "outputs": [
    {
     "name": "stdout",
     "output_type": "stream",
     "text": [
      "one_hot: [[0. 1. 0. 0.]\n",
      " [0. 1. 0. 0.]\n",
      " [0. 1. 0. 0.]\n",
      " ...\n",
      " [0. 0. 1. 0.]\n",
      " [0. 0. 1. 0.]\n",
      " [0. 0. 1. 0.]]\n"
     ]
    }
   ],
   "source": [
    "# Convert y_data to one_hot\n",
    "y_test_one_hot = tf.keras.utils.to_categorical(y_test_bit, nb_classes)\n",
    "print(\"one_hot:\", y_test_one_hot)"
   ]
  },
  {
   "cell_type": "code",
   "execution_count": 13,
   "id": "26d7e049",
   "metadata": {},
   "outputs": [
    {
     "name": "stdout",
     "output_type": "stream",
     "text": [
      "250/250 [==============================] - 1s 2ms/step - loss: 0.2486 - accuracy: 0.9255\n",
      "loss:  0.24858076870441437\n",
      "accuracy 0.9254999756813049\n"
     ]
    }
   ],
   "source": [
    "evaluation = tf.model.evaluate(x_test_data, y_test_one_hot)\n",
    "print('loss: ', evaluation[0])\n",
    "print('accuracy', evaluation[1])"
   ]
  },
  {
   "cell_type": "code",
   "execution_count": 14,
   "id": "d62b59fa",
   "metadata": {},
   "outputs": [],
   "source": [
    "predict_x = tf.model.predict(x_test_data) \n",
    "pred = np.argmax(predict_x,axis=1)\n",
    "# for p, y in zip(pred, y_test_bit.flatten()):\n",
    " #   print(\"[{}] Prediction: {} True Y: {}\".format(p == int(y), p, int(y)))"
   ]
  },
  {
   "cell_type": "code",
   "execution_count": 15,
   "id": "e5514203",
   "metadata": {},
   "outputs": [
    {
     "name": "stdout",
     "output_type": "stream",
     "text": [
      "Error : 596\n",
      "Error Count: 632\n"
     ]
    }
   ],
   "source": [
    "res_pred = pred.reshape(y_test_data.shape[0], 1)\n",
    "error_cnt = 0\n",
    "error = 0\n",
    "for i in range(0, y_test_data.shape[0]):\n",
    "    if res_pred[i] != y_test_bit[i]:\n",
    "        #print(\"False : {}\".format(i))\n",
    "        #print(\"[{}] data : {}\".format(i, y_test_data[i]))\n",
    "        error += 1\n",
    "        for n in range(0, y_test_data.shape[0], int(y_test_data.shape[0]/nb_classes)):\n",
    "            if y_test_bit[n] == res_pred[i]:\n",
    "                #print(\"[{}] pred data: {}\".format(n, y_test_data[n]))\n",
    "                bit_error = 0\n",
    "                for m in range(0, y_test_data.shape[1]): \n",
    "                    if y_test_data[i, m] != y_test_data[n, m]:\n",
    "                        bit_error += 1\n",
    "                        error_cnt += 1\n",
    "                #print(\"bit error count : \", bit_error)\n",
    "                break\n",
    "print(\"Error : {}\".format(error))\n",
    "print(\"Error Count: {}\".format(error_cnt))"
   ]
  },
  {
   "cell_type": "code",
   "execution_count": 16,
   "id": "979f11c4",
   "metadata": {},
   "outputs": [
    {
     "name": "stdout",
     "output_type": "stream",
     "text": [
      "BER: 0.01975\n"
     ]
    }
   ],
   "source": [
    "BER = (error_cnt)/(y_test_data.shape[0]*2*2)\n",
    "print(\"BER: {}\".format(BER))"
   ]
  },
  {
   "cell_type": "code",
   "execution_count": null,
   "id": "5a5b98a7",
   "metadata": {},
   "outputs": [],
   "source": []
  }
 ],
 "metadata": {
  "kernelspec": {
   "display_name": "Python 3 (ipykernel)",
   "language": "python",
   "name": "python3"
  },
  "language_info": {
   "codemirror_mode": {
    "name": "ipython",
    "version": 3
   },
   "file_extension": ".py",
   "mimetype": "text/x-python",
   "name": "python",
   "nbconvert_exporter": "python",
   "pygments_lexer": "ipython3",
   "version": "3.8.12"
  }
 },
 "nbformat": 4,
 "nbformat_minor": 5
}
