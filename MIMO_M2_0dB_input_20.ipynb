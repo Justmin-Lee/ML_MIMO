{
 "cells": [
  {
   "cell_type": "code",
   "execution_count": 1,
   "id": "39878172",
   "metadata": {},
   "outputs": [],
   "source": [
    "import numpy as np\n",
    "import random\n",
    "import matplotlib.pyplot as plt\n",
    "import tensorflow as tf\n",
    "from sklearn.model_selection import train_test_split\n",
    "from sklearn.preprocessing import LabelEncoder\n",
    "\n",
    "random.seed(777)  # for reproducibility\n",
    "learning_rate = 0.001\n",
    "batch_size = 10000\n",
    "training_epochs = 200\n",
    "nb_classes = 4\n",
    "drop_rate = 0.3"
   ]
  },
  {
   "cell_type": "code",
   "execution_count": 2,
   "id": "6a28f0ed",
   "metadata": {
    "scrolled": false
   },
   "outputs": [
    {
     "name": "stdout",
     "output_type": "stream",
     "text": [
      "(400000, 20) (400000, 4)\n",
      "[[ 3.985979    2.9266756  -1.4389254  ... -0.70710677  0.70710677\n",
      "  -0.70710677]\n",
      " [-0.16229424 -2.2363117   0.46064845 ... -0.70710677  0.70710677\n",
      "  -0.70710677]\n",
      " [-1.4659348   1.0638415  -1.7712959  ... -0.70710677  0.70710677\n",
      "  -0.70710677]\n",
      " ...\n",
      " [-0.6823769   1.5280095  -0.04487954 ... -0.70710677  0.70710677\n",
      "  -0.70710677]\n",
      " [ 0.9017219   0.17446594 -0.03713961 ... -0.70710677  0.70710677\n",
      "  -0.70710677]\n",
      " [-0.7833187  -1.8923963   1.1181778  ... -0.70710677  0.70710677\n",
      "  -0.70710677]]\n"
     ]
    }
   ],
   "source": [
    "xy = np.loadtxt('MIMO_2_0dB.csv', delimiter=',', dtype=np.float32)\n",
    "x_data = xy[:, 1:21]\n",
    "y_data = xy[:, -4:]\n",
    "\n",
    "print(x_data.shape, y_data.shape)\n",
    "print(x_data)"
   ]
  },
  {
   "cell_type": "code",
   "execution_count": 3,
   "id": "ee73316f",
   "metadata": {},
   "outputs": [
    {
     "name": "stdout",
     "output_type": "stream",
     "text": [
      "[[1]\n",
      " [1]\n",
      " [1]\n",
      " ...\n",
      " [2]\n",
      " [2]\n",
      " [2]]\n"
     ]
    }
   ],
   "source": [
    "# Convert y_data to y_bit\n",
    "i=1\n",
    "y_merge = []\n",
    "while i <= y_data.shape[0]:\n",
    "    temp = \"\".join(str(_) for _ in y_data[i-1,:])\n",
    "    y_merge.append(temp)\n",
    "    i = i + 1\n",
    "\n",
    "encoder = LabelEncoder()\n",
    "encoder.fit(y_merge)\n",
    "y_bit = encoder.transform(y_merge)\n",
    "y_bit = y_bit.reshape(-1, 1)\n",
    "print(y_bit)"
   ]
  },
  {
   "cell_type": "code",
   "execution_count": 4,
   "id": "633ea46e",
   "metadata": {},
   "outputs": [
    {
     "name": "stdout",
     "output_type": "stream",
     "text": [
      "one_hot: [[0. 1. 0. 0.]\n",
      " [0. 1. 0. 0.]\n",
      " [0. 1. 0. 0.]\n",
      " ...\n",
      " [0. 0. 1. 0.]\n",
      " [0. 0. 1. 0.]\n",
      " [0. 0. 1. 0.]]\n"
     ]
    }
   ],
   "source": [
    "# Convert y_data to one_hot\n",
    "y_one_hot = tf.keras.utils.to_categorical(y_bit, nb_classes)\n",
    "print(\"one_hot:\", y_one_hot)"
   ]
  },
  {
   "cell_type": "code",
   "execution_count": 5,
   "id": "d6f44f52",
   "metadata": {},
   "outputs": [],
   "source": [
    "tf.model = tf.keras.Sequential()\n",
    "# Glorot normal initializer, also called Xavier normal initializer.\n",
    "# see https://www.tensorflow.org/api_docs/python/tf/initializers"
   ]
  },
  {
   "cell_type": "code",
   "execution_count": 6,
   "id": "9e58a9ba",
   "metadata": {},
   "outputs": [
    {
     "name": "stdout",
     "output_type": "stream",
     "text": [
      "Model: \"sequential\"\n",
      "_________________________________________________________________\n",
      "Layer (type)                 Output Shape              Param #   \n",
      "=================================================================\n",
      "dense (Dense)                (None, 384)               8064      \n",
      "_________________________________________________________________\n",
      "dropout (Dropout)            (None, 384)               0         \n",
      "_________________________________________________________________\n",
      "dense_1 (Dense)              (None, 192)               73920     \n",
      "_________________________________________________________________\n",
      "dropout_1 (Dropout)          (None, 192)               0         \n",
      "_________________________________________________________________\n",
      "dense_2 (Dense)              (None, 4)                 772       \n",
      "=================================================================\n",
      "Total params: 82,756\n",
      "Trainable params: 82,756\n",
      "Non-trainable params: 0\n",
      "_________________________________________________________________\n"
     ]
    }
   ],
   "source": [
    "tf.model.add(tf.keras.layers.Dense(input_dim=x_data.shape[1], units=384, kernel_regularizer=tf.keras.regularizers.l2(0.001), activation='relu'))\n",
    "tf.model.add(tf.keras.layers.Dropout(drop_rate))\n",
    "tf.model.add(tf.keras.layers.Dense(units=192, kernel_regularizer=tf.keras.regularizers.l2(0.001), activation='relu'))\n",
    "tf.model.add(tf.keras.layers.Dropout(drop_rate))\n",
    "tf.model.add(tf.keras.layers.Dense(units=nb_classes, activation='softmax'))\n",
    "tf.model.compile(loss='categorical_crossentropy',\n",
    "                 optimizer=tf.keras.optimizers.Adam(learning_rate=learning_rate), metrics=['accuracy'])\n",
    "tf.model.summary()"
   ]
  },
  {
   "cell_type": "code",
   "execution_count": 7,
   "id": "c346ad84",
   "metadata": {
    "scrolled": true
   },
   "outputs": [
    {
     "name": "stdout",
     "output_type": "stream",
     "text": [
      "Epoch 1/200\n",
      "32/32 [==============================] - 1s 9ms/step - loss: 1.3891 - accuracy: 0.5167 - val_loss: 2.7647 - val_accuracy: 0.0000e+00\n",
      "Epoch 2/200\n",
      "32/32 [==============================] - 0s 5ms/step - loss: 0.9623 - accuracy: 0.7137 - val_loss: 1.8366 - val_accuracy: 0.1137\n",
      "Epoch 3/200\n",
      "32/32 [==============================] - 0s 5ms/step - loss: 0.7551 - accuracy: 0.7743 - val_loss: 1.4190 - val_accuracy: 0.4012\n",
      "Epoch 4/200\n",
      "32/32 [==============================] - 0s 5ms/step - loss: 0.6752 - accuracy: 0.7910 - val_loss: 1.3569 - val_accuracy: 0.4428\n",
      "Epoch 5/200\n",
      "32/32 [==============================] - 0s 5ms/step - loss: 0.6330 - accuracy: 0.7958 - val_loss: 1.3490 - val_accuracy: 0.4453\n",
      "Epoch 6/200\n",
      "32/32 [==============================] - 0s 5ms/step - loss: 0.6053 - accuracy: 0.7976 - val_loss: 1.2912 - val_accuracy: 0.4651\n",
      "Epoch 7/200\n",
      "32/32 [==============================] - 0s 5ms/step - loss: 0.5894 - accuracy: 0.7984 - val_loss: 1.2632 - val_accuracy: 0.4780\n",
      "Epoch 8/200\n",
      "32/32 [==============================] - 0s 5ms/step - loss: 0.5761 - accuracy: 0.8005 - val_loss: 1.2766 - val_accuracy: 0.4705\n",
      "Epoch 9/200\n",
      "32/32 [==============================] - 0s 5ms/step - loss: 0.5683 - accuracy: 0.8005 - val_loss: 1.3072 - val_accuracy: 0.4596\n",
      "Epoch 10/200\n",
      "32/32 [==============================] - 0s 5ms/step - loss: 0.5625 - accuracy: 0.8010 - val_loss: 1.2991 - val_accuracy: 0.4669\n",
      "Epoch 11/200\n",
      "32/32 [==============================] - 0s 5ms/step - loss: 0.5576 - accuracy: 0.8018 - val_loss: 1.2258 - val_accuracy: 0.4964\n",
      "Epoch 12/200\n",
      "32/32 [==============================] - 0s 5ms/step - loss: 0.5541 - accuracy: 0.8025 - val_loss: 1.2392 - val_accuracy: 0.4889\n",
      "Epoch 13/200\n",
      "32/32 [==============================] - 0s 5ms/step - loss: 0.5511 - accuracy: 0.8023 - val_loss: 1.2116 - val_accuracy: 0.4999\n",
      "Epoch 14/200\n",
      "32/32 [==============================] - 0s 5ms/step - loss: 0.5476 - accuracy: 0.8027 - val_loss: 1.3127 - val_accuracy: 0.4652\n",
      "Epoch 15/200\n",
      "32/32 [==============================] - 0s 5ms/step - loss: 0.5467 - accuracy: 0.8026 - val_loss: 1.3001 - val_accuracy: 0.4710\n",
      "Epoch 16/200\n",
      "32/32 [==============================] - 0s 6ms/step - loss: 0.5434 - accuracy: 0.8034 - val_loss: 1.2594 - val_accuracy: 0.4857\n",
      "Epoch 17/200\n",
      "32/32 [==============================] - 0s 5ms/step - loss: 0.5418 - accuracy: 0.8031 - val_loss: 1.2220 - val_accuracy: 0.4999\n",
      "Epoch 18/200\n",
      "32/32 [==============================] - 0s 5ms/step - loss: 0.5406 - accuracy: 0.8035 - val_loss: 1.2475 - val_accuracy: 0.4896\n",
      "Epoch 19/200\n",
      "32/32 [==============================] - 0s 5ms/step - loss: 0.5384 - accuracy: 0.8038 - val_loss: 1.1875 - val_accuracy: 0.5121\n",
      "Epoch 20/200\n",
      "32/32 [==============================] - 0s 5ms/step - loss: 0.5374 - accuracy: 0.8039 - val_loss: 1.2412 - val_accuracy: 0.4947\n",
      "Epoch 21/200\n",
      "32/32 [==============================] - 0s 5ms/step - loss: 0.5367 - accuracy: 0.8031 - val_loss: 1.1778 - val_accuracy: 0.5174\n",
      "Epoch 22/200\n",
      "32/32 [==============================] - 0s 5ms/step - loss: 0.5353 - accuracy: 0.8036 - val_loss: 1.2700 - val_accuracy: 0.4831\n",
      "Epoch 23/200\n",
      "32/32 [==============================] - 0s 5ms/step - loss: 0.5349 - accuracy: 0.8033 - val_loss: 1.2084 - val_accuracy: 0.5063\n",
      "Epoch 24/200\n",
      "32/32 [==============================] - 0s 5ms/step - loss: 0.5327 - accuracy: 0.8042 - val_loss: 1.2405 - val_accuracy: 0.4934\n",
      "Epoch 25/200\n",
      "32/32 [==============================] - 0s 5ms/step - loss: 0.5322 - accuracy: 0.8041 - val_loss: 1.2404 - val_accuracy: 0.4948\n",
      "Epoch 26/200\n",
      "32/32 [==============================] - 0s 5ms/step - loss: 0.5307 - accuracy: 0.8042 - val_loss: 1.2339 - val_accuracy: 0.4981\n",
      "Epoch 27/200\n",
      "32/32 [==============================] - 0s 5ms/step - loss: 0.5302 - accuracy: 0.8041 - val_loss: 1.2597 - val_accuracy: 0.4901\n",
      "Epoch 28/200\n",
      "32/32 [==============================] - 0s 6ms/step - loss: 0.5297 - accuracy: 0.8038 - val_loss: 1.1497 - val_accuracy: 0.5262\n",
      "Epoch 29/200\n",
      "32/32 [==============================] - 0s 5ms/step - loss: 0.5298 - accuracy: 0.8033 - val_loss: 1.2108 - val_accuracy: 0.5042\n",
      "Epoch 30/200\n",
      "32/32 [==============================] - 0s 5ms/step - loss: 0.5278 - accuracy: 0.8043 - val_loss: 1.2098 - val_accuracy: 0.5084\n",
      "Epoch 31/200\n",
      "32/32 [==============================] - 0s 5ms/step - loss: 0.5272 - accuracy: 0.8041 - val_loss: 1.2047 - val_accuracy: 0.5084\n",
      "Epoch 32/200\n",
      "32/32 [==============================] - 0s 5ms/step - loss: 0.5265 - accuracy: 0.8041 - val_loss: 1.2265 - val_accuracy: 0.5033\n",
      "Epoch 33/200\n",
      "32/32 [==============================] - 0s 5ms/step - loss: 0.5263 - accuracy: 0.8041 - val_loss: 1.2708 - val_accuracy: 0.4883\n",
      "Epoch 34/200\n",
      "32/32 [==============================] - 0s 5ms/step - loss: 0.5258 - accuracy: 0.8037 - val_loss: 1.2477 - val_accuracy: 0.4949\n",
      "Epoch 35/200\n",
      "32/32 [==============================] - 0s 5ms/step - loss: 0.5244 - accuracy: 0.8041 - val_loss: 1.2536 - val_accuracy: 0.4934\n",
      "Epoch 36/200\n",
      "32/32 [==============================] - 0s 6ms/step - loss: 0.5248 - accuracy: 0.8043 - val_loss: 1.2887 - val_accuracy: 0.4811\n",
      "Epoch 37/200\n",
      "32/32 [==============================] - 0s 5ms/step - loss: 0.5235 - accuracy: 0.8045 - val_loss: 1.2251 - val_accuracy: 0.5002\n",
      "Epoch 38/200\n",
      "32/32 [==============================] - 0s 5ms/step - loss: 0.5230 - accuracy: 0.8046 - val_loss: 1.2407 - val_accuracy: 0.4984\n",
      "Epoch 39/200\n",
      "32/32 [==============================] - 0s 5ms/step - loss: 0.5223 - accuracy: 0.8044 - val_loss: 1.2035 - val_accuracy: 0.5078\n",
      "Epoch 40/200\n",
      "32/32 [==============================] - 0s 5ms/step - loss: 0.5221 - accuracy: 0.8046 - val_loss: 1.2228 - val_accuracy: 0.5040\n",
      "Epoch 41/200\n",
      "32/32 [==============================] - 0s 5ms/step - loss: 0.5222 - accuracy: 0.8045 - val_loss: 1.2125 - val_accuracy: 0.5073\n",
      "Epoch 42/200\n",
      "32/32 [==============================] - 0s 5ms/step - loss: 0.5210 - accuracy: 0.8047 - val_loss: 1.1527 - val_accuracy: 0.5266\n",
      "Epoch 43/200\n",
      "32/32 [==============================] - 0s 5ms/step - loss: 0.5203 - accuracy: 0.8044 - val_loss: 1.2271 - val_accuracy: 0.5012\n",
      "Epoch 44/200\n",
      "32/32 [==============================] - 0s 5ms/step - loss: 0.5201 - accuracy: 0.8050 - val_loss: 1.2164 - val_accuracy: 0.5065\n",
      "Epoch 45/200\n",
      "32/32 [==============================] - 0s 5ms/step - loss: 0.5204 - accuracy: 0.8042 - val_loss: 1.2384 - val_accuracy: 0.4972\n",
      "Epoch 46/200\n",
      "32/32 [==============================] - 0s 5ms/step - loss: 0.5196 - accuracy: 0.8047 - val_loss: 1.2668 - val_accuracy: 0.4881\n",
      "Epoch 47/200\n",
      "32/32 [==============================] - 0s 5ms/step - loss: 0.5195 - accuracy: 0.8044 - val_loss: 1.1552 - val_accuracy: 0.5289\n",
      "Epoch 48/200\n",
      "32/32 [==============================] - 0s 5ms/step - loss: 0.5186 - accuracy: 0.8051 - val_loss: 1.1752 - val_accuracy: 0.5213\n",
      "Epoch 49/200\n",
      "32/32 [==============================] - 0s 5ms/step - loss: 0.5183 - accuracy: 0.8050 - val_loss: 1.1542 - val_accuracy: 0.5296\n",
      "Epoch 50/200\n",
      "32/32 [==============================] - 0s 5ms/step - loss: 0.5184 - accuracy: 0.8043 - val_loss: 1.2573 - val_accuracy: 0.4921\n",
      "Epoch 51/200\n",
      "32/32 [==============================] - 0s 5ms/step - loss: 0.5174 - accuracy: 0.8050 - val_loss: 1.2205 - val_accuracy: 0.5048\n",
      "Epoch 52/200\n",
      "32/32 [==============================] - 0s 5ms/step - loss: 0.5180 - accuracy: 0.8049 - val_loss: 1.2169 - val_accuracy: 0.5070\n",
      "Epoch 53/200\n",
      "32/32 [==============================] - 0s 5ms/step - loss: 0.5163 - accuracy: 0.8051 - val_loss: 1.1601 - val_accuracy: 0.5264\n",
      "Epoch 54/200\n",
      "32/32 [==============================] - 0s 5ms/step - loss: 0.5172 - accuracy: 0.8045 - val_loss: 1.2064 - val_accuracy: 0.5095\n",
      "Epoch 55/200\n",
      "32/32 [==============================] - 0s 5ms/step - loss: 0.5163 - accuracy: 0.8050 - val_loss: 1.2852 - val_accuracy: 0.4848\n",
      "Epoch 56/200\n",
      "32/32 [==============================] - 0s 5ms/step - loss: 0.5161 - accuracy: 0.8053 - val_loss: 1.2383 - val_accuracy: 0.5028\n",
      "Epoch 57/200\n",
      "32/32 [==============================] - 0s 5ms/step - loss: 0.5155 - accuracy: 0.8050 - val_loss: 1.2081 - val_accuracy: 0.5098\n",
      "Epoch 58/200\n",
      "32/32 [==============================] - 0s 5ms/step - loss: 0.5159 - accuracy: 0.8044 - val_loss: 1.2134 - val_accuracy: 0.5092\n"
     ]
    },
    {
     "name": "stdout",
     "output_type": "stream",
     "text": [
      "Epoch 59/200\n",
      "32/32 [==============================] - 0s 5ms/step - loss: 0.5150 - accuracy: 0.8051 - val_loss: 1.2523 - val_accuracy: 0.4972\n",
      "Epoch 60/200\n",
      "32/32 [==============================] - 0s 5ms/step - loss: 0.5148 - accuracy: 0.8049 - val_loss: 1.2020 - val_accuracy: 0.5139\n",
      "Epoch 61/200\n",
      "32/32 [==============================] - 0s 5ms/step - loss: 0.5152 - accuracy: 0.8047 - val_loss: 1.2358 - val_accuracy: 0.5016\n",
      "Epoch 62/200\n",
      "32/32 [==============================] - 0s 5ms/step - loss: 0.5151 - accuracy: 0.8049 - val_loss: 1.2584 - val_accuracy: 0.4939\n",
      "Epoch 63/200\n",
      "32/32 [==============================] - 0s 5ms/step - loss: 0.5140 - accuracy: 0.8054 - val_loss: 1.2235 - val_accuracy: 0.5035\n",
      "Epoch 64/200\n",
      "32/32 [==============================] - 0s 5ms/step - loss: 0.5137 - accuracy: 0.8055 - val_loss: 1.2683 - val_accuracy: 0.4922\n",
      "Epoch 65/200\n",
      "32/32 [==============================] - 0s 5ms/step - loss: 0.5134 - accuracy: 0.8058 - val_loss: 1.1457 - val_accuracy: 0.5323\n",
      "Epoch 66/200\n",
      "32/32 [==============================] - 0s 5ms/step - loss: 0.5135 - accuracy: 0.8050 - val_loss: 1.1267 - val_accuracy: 0.5380\n",
      "Epoch 67/200\n",
      "32/32 [==============================] - 0s 5ms/step - loss: 0.5140 - accuracy: 0.8053 - val_loss: 1.2215 - val_accuracy: 0.5063\n",
      "Epoch 68/200\n",
      "32/32 [==============================] - 0s 5ms/step - loss: 0.5130 - accuracy: 0.8052 - val_loss: 1.1983 - val_accuracy: 0.5143\n",
      "Epoch 69/200\n",
      "32/32 [==============================] - 0s 5ms/step - loss: 0.5122 - accuracy: 0.8056 - val_loss: 1.1831 - val_accuracy: 0.5195\n",
      "Epoch 70/200\n",
      "32/32 [==============================] - 0s 5ms/step - loss: 0.5123 - accuracy: 0.8053 - val_loss: 1.1887 - val_accuracy: 0.5173\n",
      "Epoch 71/200\n",
      "32/32 [==============================] - 0s 5ms/step - loss: 0.5130 - accuracy: 0.8046 - val_loss: 1.1664 - val_accuracy: 0.5277\n",
      "Epoch 72/200\n",
      "32/32 [==============================] - 0s 5ms/step - loss: 0.5124 - accuracy: 0.8050 - val_loss: 1.1859 - val_accuracy: 0.5201\n",
      "Epoch 73/200\n",
      "32/32 [==============================] - 0s 5ms/step - loss: 0.5113 - accuracy: 0.8054 - val_loss: 1.1950 - val_accuracy: 0.5189\n",
      "Epoch 74/200\n",
      "32/32 [==============================] - 0s 5ms/step - loss: 0.5124 - accuracy: 0.8050 - val_loss: 1.1985 - val_accuracy: 0.5171\n",
      "Epoch 75/200\n",
      "32/32 [==============================] - 0s 5ms/step - loss: 0.5115 - accuracy: 0.8051 - val_loss: 1.1530 - val_accuracy: 0.5302\n",
      "Epoch 76/200\n",
      "32/32 [==============================] - 0s 5ms/step - loss: 0.5126 - accuracy: 0.8042 - val_loss: 1.1660 - val_accuracy: 0.5219\n",
      "Epoch 77/200\n",
      "32/32 [==============================] - 0s 5ms/step - loss: 0.5108 - accuracy: 0.8058 - val_loss: 1.2621 - val_accuracy: 0.4942\n",
      "Epoch 78/200\n",
      "32/32 [==============================] - 0s 5ms/step - loss: 0.5112 - accuracy: 0.8053 - val_loss: 1.2012 - val_accuracy: 0.5162\n",
      "Epoch 79/200\n",
      "32/32 [==============================] - 0s 5ms/step - loss: 0.5106 - accuracy: 0.8061 - val_loss: 1.1524 - val_accuracy: 0.5321\n",
      "Epoch 80/200\n",
      "32/32 [==============================] - 0s 5ms/step - loss: 0.5112 - accuracy: 0.8049 - val_loss: 1.1458 - val_accuracy: 0.5329\n",
      "Epoch 81/200\n",
      "32/32 [==============================] - 0s 5ms/step - loss: 0.5103 - accuracy: 0.8052 - val_loss: 1.1501 - val_accuracy: 0.5305\n",
      "Epoch 82/200\n",
      "32/32 [==============================] - 0s 5ms/step - loss: 0.5105 - accuracy: 0.8057 - val_loss: 1.2632 - val_accuracy: 0.4926\n",
      "Epoch 83/200\n",
      "32/32 [==============================] - 0s 5ms/step - loss: 0.5097 - accuracy: 0.8060 - val_loss: 1.2555 - val_accuracy: 0.4938\n",
      "Epoch 84/200\n",
      "32/32 [==============================] - 0s 5ms/step - loss: 0.5108 - accuracy: 0.8047 - val_loss: 1.2332 - val_accuracy: 0.5013\n",
      "Epoch 85/200\n",
      "32/32 [==============================] - 0s 5ms/step - loss: 0.5107 - accuracy: 0.8047 - val_loss: 1.1597 - val_accuracy: 0.5269\n",
      "Epoch 86/200\n",
      "32/32 [==============================] - 0s 5ms/step - loss: 0.5093 - accuracy: 0.8058 - val_loss: 1.1549 - val_accuracy: 0.5279\n",
      "Epoch 87/200\n",
      "32/32 [==============================] - 0s 5ms/step - loss: 0.5098 - accuracy: 0.8055 - val_loss: 1.1930 - val_accuracy: 0.5173\n",
      "Epoch 88/200\n",
      "32/32 [==============================] - 0s 5ms/step - loss: 0.5097 - accuracy: 0.8057 - val_loss: 1.2491 - val_accuracy: 0.5021\n",
      "Epoch 89/200\n",
      "32/32 [==============================] - 0s 5ms/step - loss: 0.5088 - accuracy: 0.8059 - val_loss: 1.1642 - val_accuracy: 0.5293\n",
      "Epoch 90/200\n",
      "32/32 [==============================] - 0s 5ms/step - loss: 0.5099 - accuracy: 0.8052 - val_loss: 1.1685 - val_accuracy: 0.5286\n",
      "Epoch 91/200\n",
      "32/32 [==============================] - 0s 5ms/step - loss: 0.5082 - accuracy: 0.8055 - val_loss: 1.2223 - val_accuracy: 0.5075\n",
      "Epoch 92/200\n",
      "32/32 [==============================] - 0s 5ms/step - loss: 0.5086 - accuracy: 0.8053 - val_loss: 1.1651 - val_accuracy: 0.5252\n",
      "Epoch 93/200\n",
      "32/32 [==============================] - 0s 5ms/step - loss: 0.5078 - accuracy: 0.8059 - val_loss: 1.1522 - val_accuracy: 0.5335\n",
      "Epoch 94/200\n",
      "32/32 [==============================] - 0s 5ms/step - loss: 0.5084 - accuracy: 0.8058 - val_loss: 1.1355 - val_accuracy: 0.5380\n",
      "Epoch 95/200\n",
      "32/32 [==============================] - 0s 5ms/step - loss: 0.5083 - accuracy: 0.8056 - val_loss: 1.1285 - val_accuracy: 0.5380\n",
      "Epoch 96/200\n",
      "32/32 [==============================] - 0s 5ms/step - loss: 0.5092 - accuracy: 0.8050 - val_loss: 1.1716 - val_accuracy: 0.5243\n",
      "Epoch 97/200\n",
      "32/32 [==============================] - 0s 5ms/step - loss: 0.5087 - accuracy: 0.8049 - val_loss: 1.1213 - val_accuracy: 0.5434\n",
      "Epoch 98/200\n",
      "32/32 [==============================] - 0s 5ms/step - loss: 0.5078 - accuracy: 0.8059 - val_loss: 1.2029 - val_accuracy: 0.5152\n",
      "Epoch 99/200\n",
      "32/32 [==============================] - 0s 5ms/step - loss: 0.5076 - accuracy: 0.8054 - val_loss: 1.2250 - val_accuracy: 0.5062\n",
      "Epoch 100/200\n",
      "32/32 [==============================] - 0s 5ms/step - loss: 0.5079 - accuracy: 0.8059 - val_loss: 1.1889 - val_accuracy: 0.5222\n",
      "Epoch 101/200\n",
      "32/32 [==============================] - 0s 5ms/step - loss: 0.5069 - accuracy: 0.8056 - val_loss: 1.1938 - val_accuracy: 0.5182\n",
      "Epoch 102/200\n",
      "32/32 [==============================] - 0s 5ms/step - loss: 0.5069 - accuracy: 0.8057 - val_loss: 1.1968 - val_accuracy: 0.5174\n",
      "Epoch 103/200\n",
      "32/32 [==============================] - 0s 5ms/step - loss: 0.5069 - accuracy: 0.8059 - val_loss: 1.1835 - val_accuracy: 0.5253\n",
      "Epoch 104/200\n",
      "32/32 [==============================] - 0s 5ms/step - loss: 0.5076 - accuracy: 0.8053 - val_loss: 1.1886 - val_accuracy: 0.5212\n",
      "Epoch 105/200\n",
      "32/32 [==============================] - 0s 5ms/step - loss: 0.5068 - accuracy: 0.8057 - val_loss: 1.1972 - val_accuracy: 0.5189\n",
      "Epoch 106/200\n",
      "32/32 [==============================] - 0s 5ms/step - loss: 0.5066 - accuracy: 0.8055 - val_loss: 1.1717 - val_accuracy: 0.5284\n",
      "Epoch 107/200\n",
      "32/32 [==============================] - 0s 5ms/step - loss: 0.5067 - accuracy: 0.8059 - val_loss: 1.2254 - val_accuracy: 0.5111\n",
      "Epoch 108/200\n",
      "32/32 [==============================] - 0s 5ms/step - loss: 0.5064 - accuracy: 0.8060 - val_loss: 1.1920 - val_accuracy: 0.5237\n",
      "Epoch 109/200\n",
      "32/32 [==============================] - 0s 5ms/step - loss: 0.5073 - accuracy: 0.8051 - val_loss: 1.1916 - val_accuracy: 0.5227\n",
      "Epoch 110/200\n",
      "32/32 [==============================] - 0s 5ms/step - loss: 0.5073 - accuracy: 0.8048 - val_loss: 1.1734 - val_accuracy: 0.5281\n",
      "Epoch 111/200\n",
      "32/32 [==============================] - 0s 5ms/step - loss: 0.5083 - accuracy: 0.8054 - val_loss: 1.1979 - val_accuracy: 0.5167\n",
      "Epoch 112/200\n",
      "32/32 [==============================] - 0s 5ms/step - loss: 0.5061 - accuracy: 0.8058 - val_loss: 1.1726 - val_accuracy: 0.5289\n",
      "Epoch 113/200\n",
      "32/32 [==============================] - 0s 5ms/step - loss: 0.5063 - accuracy: 0.8054 - val_loss: 1.2195 - val_accuracy: 0.5078\n",
      "Epoch 114/200\n",
      "32/32 [==============================] - 0s 5ms/step - loss: 0.5062 - accuracy: 0.8055 - val_loss: 1.2385 - val_accuracy: 0.5027\n",
      "Epoch 115/200\n",
      "32/32 [==============================] - 0s 5ms/step - loss: 0.5054 - accuracy: 0.8056 - val_loss: 1.1665 - val_accuracy: 0.5260\n",
      "Epoch 116/200\n"
     ]
    },
    {
     "name": "stdout",
     "output_type": "stream",
     "text": [
      "32/32 [==============================] - 0s 5ms/step - loss: 0.5062 - accuracy: 0.8059 - val_loss: 1.2107 - val_accuracy: 0.5128\n",
      "Epoch 117/200\n",
      "32/32 [==============================] - 0s 5ms/step - loss: 0.5053 - accuracy: 0.8054 - val_loss: 1.2045 - val_accuracy: 0.5156\n",
      "Epoch 118/200\n",
      "32/32 [==============================] - 0s 5ms/step - loss: 0.5063 - accuracy: 0.8054 - val_loss: 1.2030 - val_accuracy: 0.5164\n",
      "Epoch 119/200\n",
      "32/32 [==============================] - 0s 5ms/step - loss: 0.5057 - accuracy: 0.8061 - val_loss: 1.2541 - val_accuracy: 0.4992\n",
      "Epoch 120/200\n",
      "32/32 [==============================] - 0s 5ms/step - loss: 0.5060 - accuracy: 0.8051 - val_loss: 1.1925 - val_accuracy: 0.5214\n",
      "Epoch 121/200\n",
      "32/32 [==============================] - 0s 5ms/step - loss: 0.5056 - accuracy: 0.8056 - val_loss: 1.1639 - val_accuracy: 0.5297\n",
      "Epoch 122/200\n",
      "32/32 [==============================] - 0s 5ms/step - loss: 0.5049 - accuracy: 0.8061 - val_loss: 1.1863 - val_accuracy: 0.5225\n",
      "Epoch 123/200\n",
      "32/32 [==============================] - 0s 5ms/step - loss: 0.5052 - accuracy: 0.8057 - val_loss: 1.1631 - val_accuracy: 0.5283\n",
      "Epoch 124/200\n",
      "32/32 [==============================] - 0s 5ms/step - loss: 0.5050 - accuracy: 0.8060 - val_loss: 1.1826 - val_accuracy: 0.5220\n",
      "Epoch 125/200\n",
      "32/32 [==============================] - 0s 5ms/step - loss: 0.5048 - accuracy: 0.8055 - val_loss: 1.2411 - val_accuracy: 0.5012\n",
      "Epoch 126/200\n",
      "32/32 [==============================] - 0s 5ms/step - loss: 0.5049 - accuracy: 0.8056 - val_loss: 1.1200 - val_accuracy: 0.5432\n",
      "Epoch 127/200\n",
      "32/32 [==============================] - 0s 5ms/step - loss: 0.5049 - accuracy: 0.8061 - val_loss: 1.1690 - val_accuracy: 0.5261\n",
      "Epoch 128/200\n",
      "32/32 [==============================] - 0s 5ms/step - loss: 0.5051 - accuracy: 0.8052 - val_loss: 1.2024 - val_accuracy: 0.5160\n",
      "Epoch 129/200\n",
      "32/32 [==============================] - 0s 5ms/step - loss: 0.5043 - accuracy: 0.8058 - val_loss: 1.1988 - val_accuracy: 0.5188\n",
      "Epoch 130/200\n",
      "32/32 [==============================] - 0s 6ms/step - loss: 0.5041 - accuracy: 0.8059 - val_loss: 1.1717 - val_accuracy: 0.5310\n",
      "Epoch 131/200\n",
      "32/32 [==============================] - 0s 5ms/step - loss: 0.5048 - accuracy: 0.8060 - val_loss: 1.2183 - val_accuracy: 0.5134\n",
      "Epoch 132/200\n",
      "32/32 [==============================] - 0s 5ms/step - loss: 0.5049 - accuracy: 0.8061 - val_loss: 1.1855 - val_accuracy: 0.5203\n",
      "Epoch 133/200\n",
      "32/32 [==============================] - 0s 5ms/step - loss: 0.5043 - accuracy: 0.8056 - val_loss: 1.1830 - val_accuracy: 0.5219\n",
      "Epoch 134/200\n",
      "32/32 [==============================] - 0s 5ms/step - loss: 0.5039 - accuracy: 0.8059 - val_loss: 1.2699 - val_accuracy: 0.4991\n",
      "Epoch 135/200\n",
      "32/32 [==============================] - 0s 5ms/step - loss: 0.5042 - accuracy: 0.8056 - val_loss: 1.1673 - val_accuracy: 0.5309\n",
      "Epoch 136/200\n",
      "32/32 [==============================] - 0s 5ms/step - loss: 0.5045 - accuracy: 0.8055 - val_loss: 1.2403 - val_accuracy: 0.5043\n",
      "Epoch 137/200\n",
      "32/32 [==============================] - 0s 5ms/step - loss: 0.5038 - accuracy: 0.8057 - val_loss: 1.1965 - val_accuracy: 0.5177\n",
      "Epoch 138/200\n",
      "32/32 [==============================] - 0s 5ms/step - loss: 0.5032 - accuracy: 0.8065 - val_loss: 1.1824 - val_accuracy: 0.5247\n",
      "Epoch 139/200\n",
      "32/32 [==============================] - 0s 5ms/step - loss: 0.5031 - accuracy: 0.8064 - val_loss: 1.1885 - val_accuracy: 0.5246\n",
      "Epoch 140/200\n",
      "32/32 [==============================] - 0s 5ms/step - loss: 0.5038 - accuracy: 0.8059 - val_loss: 1.1427 - val_accuracy: 0.5349\n",
      "Epoch 141/200\n",
      "32/32 [==============================] - 0s 5ms/step - loss: 0.5048 - accuracy: 0.8059 - val_loss: 1.1167 - val_accuracy: 0.5438\n",
      "Epoch 142/200\n",
      "32/32 [==============================] - 0s 5ms/step - loss: 0.5035 - accuracy: 0.8059 - val_loss: 1.1706 - val_accuracy: 0.5249\n",
      "Epoch 143/200\n",
      "32/32 [==============================] - 0s 5ms/step - loss: 0.5031 - accuracy: 0.8057 - val_loss: 1.1634 - val_accuracy: 0.5314\n",
      "Epoch 144/200\n",
      "32/32 [==============================] - 0s 5ms/step - loss: 0.5028 - accuracy: 0.8061 - val_loss: 1.1468 - val_accuracy: 0.5338\n",
      "Epoch 145/200\n",
      "32/32 [==============================] - 0s 5ms/step - loss: 0.5032 - accuracy: 0.8055 - val_loss: 1.1017 - val_accuracy: 0.5491\n",
      "Epoch 146/200\n",
      "32/32 [==============================] - 0s 5ms/step - loss: 0.5030 - accuracy: 0.8057 - val_loss: 1.1624 - val_accuracy: 0.5246\n",
      "Epoch 147/200\n",
      "32/32 [==============================] - 0s 5ms/step - loss: 0.5034 - accuracy: 0.8055 - val_loss: 1.2129 - val_accuracy: 0.5181\n",
      "Epoch 148/200\n",
      "32/32 [==============================] - 0s 5ms/step - loss: 0.5024 - accuracy: 0.8067 - val_loss: 1.1237 - val_accuracy: 0.5449\n",
      "Epoch 149/200\n",
      "32/32 [==============================] - 0s 5ms/step - loss: 0.5018 - accuracy: 0.8059 - val_loss: 1.1991 - val_accuracy: 0.5178\n",
      "Epoch 150/200\n",
      "32/32 [==============================] - 0s 5ms/step - loss: 0.5030 - accuracy: 0.8057 - val_loss: 1.2341 - val_accuracy: 0.5061\n",
      "Epoch 151/200\n",
      "32/32 [==============================] - 0s 5ms/step - loss: 0.5024 - accuracy: 0.8062 - val_loss: 1.2214 - val_accuracy: 0.5094\n",
      "Epoch 152/200\n",
      "32/32 [==============================] - 0s 5ms/step - loss: 0.5032 - accuracy: 0.8053 - val_loss: 1.1431 - val_accuracy: 0.5383\n",
      "Epoch 153/200\n",
      "32/32 [==============================] - 0s 5ms/step - loss: 0.5023 - accuracy: 0.8057 - val_loss: 1.1316 - val_accuracy: 0.5366\n",
      "Epoch 154/200\n",
      "32/32 [==============================] - 0s 5ms/step - loss: 0.5026 - accuracy: 0.8056 - val_loss: 1.2088 - val_accuracy: 0.5133\n",
      "Epoch 155/200\n",
      "32/32 [==============================] - 0s 5ms/step - loss: 0.5032 - accuracy: 0.8061 - val_loss: 1.2000 - val_accuracy: 0.5211\n",
      "Epoch 156/200\n",
      "32/32 [==============================] - 0s 5ms/step - loss: 0.5031 - accuracy: 0.8055 - val_loss: 1.1824 - val_accuracy: 0.5289\n",
      "Epoch 157/200\n",
      "32/32 [==============================] - 0s 5ms/step - loss: 0.5026 - accuracy: 0.8053 - val_loss: 1.2391 - val_accuracy: 0.5017\n",
      "Epoch 158/200\n",
      "32/32 [==============================] - 0s 5ms/step - loss: 0.5027 - accuracy: 0.8054 - val_loss: 1.1579 - val_accuracy: 0.5294\n",
      "Epoch 159/200\n",
      "32/32 [==============================] - 0s 5ms/step - loss: 0.5017 - accuracy: 0.8067 - val_loss: 1.2190 - val_accuracy: 0.5071\n",
      "Epoch 160/200\n",
      "32/32 [==============================] - 0s 5ms/step - loss: 0.5016 - accuracy: 0.8063 - val_loss: 1.2057 - val_accuracy: 0.5142\n",
      "Epoch 161/200\n",
      "32/32 [==============================] - 0s 5ms/step - loss: 0.5025 - accuracy: 0.8060 - val_loss: 1.1430 - val_accuracy: 0.5383\n",
      "Epoch 162/200\n",
      "32/32 [==============================] - 0s 5ms/step - loss: 0.5026 - accuracy: 0.8060 - val_loss: 1.2081 - val_accuracy: 0.5159\n",
      "Epoch 163/200\n",
      "32/32 [==============================] - 0s 5ms/step - loss: 0.5025 - accuracy: 0.8056 - val_loss: 1.1937 - val_accuracy: 0.5184\n",
      "Epoch 164/200\n",
      "32/32 [==============================] - 0s 5ms/step - loss: 0.5022 - accuracy: 0.8052 - val_loss: 1.2148 - val_accuracy: 0.5137\n",
      "Epoch 165/200\n",
      "32/32 [==============================] - 0s 5ms/step - loss: 0.5023 - accuracy: 0.8057 - val_loss: 1.1822 - val_accuracy: 0.5223\n",
      "Epoch 166/200\n",
      "32/32 [==============================] - 0s 5ms/step - loss: 0.5021 - accuracy: 0.8056 - val_loss: 1.1028 - val_accuracy: 0.5501\n",
      "Epoch 167/200\n",
      "32/32 [==============================] - 0s 5ms/step - loss: 0.5016 - accuracy: 0.8057 - val_loss: 1.2425 - val_accuracy: 0.5071\n",
      "Epoch 168/200\n",
      "32/32 [==============================] - 0s 5ms/step - loss: 0.5018 - accuracy: 0.8063 - val_loss: 1.1404 - val_accuracy: 0.5427\n",
      "Epoch 169/200\n",
      "32/32 [==============================] - 0s 5ms/step - loss: 0.5013 - accuracy: 0.8062 - val_loss: 1.2087 - val_accuracy: 0.5153\n",
      "Epoch 170/200\n",
      "32/32 [==============================] - 0s 5ms/step - loss: 0.5014 - accuracy: 0.8059 - val_loss: 1.1367 - val_accuracy: 0.5382\n",
      "Epoch 171/200\n",
      "32/32 [==============================] - 0s 5ms/step - loss: 0.5016 - accuracy: 0.8057 - val_loss: 1.1857 - val_accuracy: 0.5183\n",
      "Epoch 172/200\n",
      "32/32 [==============================] - 0s 5ms/step - loss: 0.5015 - accuracy: 0.8057 - val_loss: 1.2027 - val_accuracy: 0.5186\n",
      "Epoch 173/200\n"
     ]
    },
    {
     "name": "stdout",
     "output_type": "stream",
     "text": [
      "32/32 [==============================] - 0s 5ms/step - loss: 0.5014 - accuracy: 0.8061 - val_loss: 1.2112 - val_accuracy: 0.5128\n",
      "Epoch 174/200\n",
      "32/32 [==============================] - 0s 5ms/step - loss: 0.5013 - accuracy: 0.8061 - val_loss: 1.1872 - val_accuracy: 0.5228\n",
      "Epoch 175/200\n",
      "32/32 [==============================] - 0s 5ms/step - loss: 0.5017 - accuracy: 0.8050 - val_loss: 1.1650 - val_accuracy: 0.5290\n",
      "Epoch 176/200\n",
      "32/32 [==============================] - 0s 5ms/step - loss: 0.5019 - accuracy: 0.8057 - val_loss: 1.1448 - val_accuracy: 0.5360\n",
      "Epoch 177/200\n",
      "32/32 [==============================] - 0s 5ms/step - loss: 0.5014 - accuracy: 0.8062 - val_loss: 1.1897 - val_accuracy: 0.5230\n",
      "Epoch 178/200\n",
      "32/32 [==============================] - 0s 5ms/step - loss: 0.5014 - accuracy: 0.8060 - val_loss: 1.1530 - val_accuracy: 0.5325\n",
      "Epoch 179/200\n",
      "32/32 [==============================] - 0s 5ms/step - loss: 0.5012 - accuracy: 0.8064 - val_loss: 1.1836 - val_accuracy: 0.5246\n",
      "Epoch 180/200\n",
      "32/32 [==============================] - 0s 5ms/step - loss: 0.5013 - accuracy: 0.8059 - val_loss: 1.1654 - val_accuracy: 0.5285\n",
      "Epoch 181/200\n",
      "32/32 [==============================] - 0s 5ms/step - loss: 0.5013 - accuracy: 0.8061 - val_loss: 1.1971 - val_accuracy: 0.5211\n",
      "Epoch 182/200\n",
      "32/32 [==============================] - 0s 5ms/step - loss: 0.5007 - accuracy: 0.8063 - val_loss: 1.2033 - val_accuracy: 0.5199\n",
      "Epoch 183/200\n",
      "32/32 [==============================] - 0s 5ms/step - loss: 0.5013 - accuracy: 0.8056 - val_loss: 1.2068 - val_accuracy: 0.5101\n",
      "Epoch 184/200\n",
      "32/32 [==============================] - 0s 5ms/step - loss: 0.5014 - accuracy: 0.8057 - val_loss: 1.2256 - val_accuracy: 0.5063\n",
      "Epoch 185/200\n",
      "32/32 [==============================] - 0s 5ms/step - loss: 0.5008 - accuracy: 0.8061 - val_loss: 1.1655 - val_accuracy: 0.5269\n",
      "Epoch 186/200\n",
      "32/32 [==============================] - 0s 5ms/step - loss: 0.5005 - accuracy: 0.8059 - val_loss: 1.1574 - val_accuracy: 0.5292\n",
      "Epoch 187/200\n",
      "32/32 [==============================] - 0s 5ms/step - loss: 0.5001 - accuracy: 0.8062 - val_loss: 1.2479 - val_accuracy: 0.5054\n",
      "Epoch 188/200\n",
      "32/32 [==============================] - 0s 5ms/step - loss: 0.5002 - accuracy: 0.8063 - val_loss: 1.1758 - val_accuracy: 0.5286\n",
      "Epoch 189/200\n",
      "32/32 [==============================] - 0s 5ms/step - loss: 0.5009 - accuracy: 0.8057 - val_loss: 1.1367 - val_accuracy: 0.5421\n",
      "Epoch 190/200\n",
      "32/32 [==============================] - 0s 5ms/step - loss: 0.5006 - accuracy: 0.8061 - val_loss: 1.1486 - val_accuracy: 0.5399\n",
      "Epoch 191/200\n",
      "32/32 [==============================] - 0s 5ms/step - loss: 0.5016 - accuracy: 0.8052 - val_loss: 1.1891 - val_accuracy: 0.5248\n",
      "Epoch 192/200\n",
      "32/32 [==============================] - 0s 5ms/step - loss: 0.5007 - accuracy: 0.8054 - val_loss: 1.2058 - val_accuracy: 0.5217\n",
      "Epoch 193/200\n",
      "32/32 [==============================] - 0s 5ms/step - loss: 0.5008 - accuracy: 0.8057 - val_loss: 1.2262 - val_accuracy: 0.5056\n",
      "Epoch 194/200\n",
      "32/32 [==============================] - 0s 5ms/step - loss: 0.5003 - accuracy: 0.8063 - val_loss: 1.1888 - val_accuracy: 0.5234\n",
      "Epoch 195/200\n",
      "32/32 [==============================] - 0s 5ms/step - loss: 0.5010 - accuracy: 0.8058 - val_loss: 1.1661 - val_accuracy: 0.5300\n",
      "Epoch 196/200\n",
      "32/32 [==============================] - 0s 5ms/step - loss: 0.4999 - accuracy: 0.8060 - val_loss: 1.1537 - val_accuracy: 0.5340\n",
      "Epoch 197/200\n",
      "32/32 [==============================] - 0s 5ms/step - loss: 0.5005 - accuracy: 0.8056 - val_loss: 1.1873 - val_accuracy: 0.5251\n",
      "Epoch 198/200\n",
      "32/32 [==============================] - 0s 5ms/step - loss: 0.5005 - accuracy: 0.8057 - val_loss: 1.1077 - val_accuracy: 0.5501\n",
      "Epoch 199/200\n",
      "32/32 [==============================] - 0s 5ms/step - loss: 0.5005 - accuracy: 0.8062 - val_loss: 1.2090 - val_accuracy: 0.5114\n",
      "Epoch 200/200\n",
      "32/32 [==============================] - 0s 5ms/step - loss: 0.5009 - accuracy: 0.8056 - val_loss: 1.1075 - val_accuracy: 0.5436\n"
     ]
    }
   ],
   "source": [
    "history = tf.model.fit(x_data, y_one_hot, batch_size=batch_size , validation_split=0.2, epochs=training_epochs)"
   ]
  },
  {
   "cell_type": "code",
   "execution_count": 8,
   "id": "0f3f6697",
   "metadata": {},
   "outputs": [
    {
     "data": {
      "image/png": "[encoded data removed]",
      "text/plain": [
       "<Figure size 460.8x403.2 with 1 Axes>"
      ]
     },
     "metadata": {},
     "output_type": "display_data"
    }
   ],
   "source": [
    "# 모델 손실 함수 시각화\n",
    "from jupyterthemes import jtplot\n",
    "jtplot.style(theme='monokai')\n",
    "\n",
    "plt.plot(history.history['loss'], 'b-', label='loss')\n",
    "plt.plot(history.history['val_loss'], 'r-', label='val_loss')\n",
    "plt.title('Model loss')\n",
    "plt.xlabel('Epoch')\n",
    "plt.ylabel('Loss')\n",
    "plt.legend()\n",
    "plt.show()"
   ]
  },
  {
   "cell_type": "code",
   "execution_count": 9,
   "id": "83e399f2",
   "metadata": {},
   "outputs": [
    {
     "data": {
      "image/png": "[encoded data removed]",
      "text/plain": [
       "<Figure size 460.8x403.2 with 1 Axes>"
      ]
     },
     "metadata": {},
     "output_type": "display_data"
    }
   ],
   "source": [
    "# 모델 정확도 시각화\n",
    "plt.plot(history.history['accuracy'], 'g-', label='accuracy')\n",
    "plt.plot(history.history['val_accuracy'], 'r-', label='val_accuracy')\n",
    "plt.title('Model Accuracy')\n",
    "plt.xlabel('Epoch')\n",
    "plt.ylabel('Accuracy')\n",
    "plt.legend()\n",
    "plt.show()"
   ]
  },
  {
   "cell_type": "code",
   "execution_count": 10,
   "id": "f860be4f",
   "metadata": {},
   "outputs": [
    {
     "name": "stdout",
     "output_type": "stream",
     "text": [
      "(80000, 20) (80000, 4)\n"
     ]
    }
   ],
   "source": [
    "# Full x_data test\n",
    "test_data = np.loadtxt('MIMO_2_0dB_test.csv', delimiter=',', dtype=np.float32)\n",
    "x_test_data = test_data[:, 1:21]\n",
    "y_test_data = test_data[:, -4:]\n",
    "print(x_test_data.shape, y_test_data.shape)"
   ]
  },
  {
   "cell_type": "code",
   "execution_count": 11,
   "id": "1b49e243",
   "metadata": {},
   "outputs": [
    {
     "name": "stdout",
     "output_type": "stream",
     "text": [
      "[[1]\n",
      " [1]\n",
      " [1]\n",
      " ...\n",
      " [2]\n",
      " [2]\n",
      " [2]]\n"
     ]
    }
   ],
   "source": [
    "# Convert y_test_data to y_test_bit\n",
    "i=1\n",
    "y_test_merge = []\n",
    "while i <= y_test_data.shape[0]:\n",
    "    temp2 = \"\".join(str(_) for _ in y_test_data[i-1,:])\n",
    "    y_test_merge.append(temp2)\n",
    "    i = i + 1\n",
    "\n",
    "encoder = LabelEncoder()\n",
    "encoder.fit(y_test_merge)\n",
    "y_test_bit = encoder.transform(y_test_merge)\n",
    "y_test_bit = y_test_bit.reshape(-1, 1)\n",
    "print(y_test_bit)"
   ]
  },
  {
   "cell_type": "code",
   "execution_count": 12,
   "id": "02ceb9be",
   "metadata": {},
   "outputs": [
    {
     "name": "stdout",
     "output_type": "stream",
     "text": [
      "one_hot: [[0. 1. 0. 0.]\n",
      " [0. 1. 0. 0.]\n",
      " [0. 1. 0. 0.]\n",
      " ...\n",
      " [0. 0. 1. 0.]\n",
      " [0. 0. 1. 0.]\n",
      " [0. 0. 1. 0.]]\n"
     ]
    }
   ],
   "source": [
    "# Convert y_data to one_hot\n",
    "y_test_one_hot = tf.keras.utils.to_categorical(y_test_bit, nb_classes)\n",
    "print(\"one_hot:\", y_test_one_hot)"
   ]
  },
  {
   "cell_type": "code",
   "execution_count": 13,
   "id": "26d7e049",
   "metadata": {},
   "outputs": [
    {
     "name": "stdout",
     "output_type": "stream",
     "text": [
      "2500/2500 [==============================] - 3s 1ms/step - loss: 0.6098 - accuracy: 0.7560\n",
      "loss:  0.6097745299339294\n",
      "accuracy 0.7560250163078308\n"
     ]
    }
   ],
   "source": [
    "evaluation = tf.model.evaluate(x_test_data, y_test_one_hot)\n",
    "print('loss: ', evaluation[0])\n",
    "print('accuracy', evaluation[1])"
   ]
  },
  {
   "cell_type": "code",
   "execution_count": 14,
   "id": "d62b59fa",
   "metadata": {},
   "outputs": [],
   "source": [
    "predict_x = tf.model.predict(x_test_data) \n",
    "pred = np.argmax(predict_x,axis=1)\n",
    "# for p, y in zip(pred, y_test_bit.flatten()):\n",
    " #   print(\"[{}] Prediction: {} True Y: {}\".format(p == int(y), p, int(y)))"
   ]
  },
  {
   "cell_type": "code",
   "execution_count": 15,
   "id": "e5514203",
   "metadata": {},
   "outputs": [
    {
     "name": "stdout",
     "output_type": "stream",
     "text": [
      "Error : 19518\n",
      "Error Count: 21417\n"
     ]
    }
   ],
   "source": [
    "res_pred = pred.reshape(y_test_data.shape[0], 1)\n",
    "error_cnt = 0\n",
    "error = 0\n",
    "for i in range(0, y_test_data.shape[0]):\n",
    "    if res_pred[i] != y_test_bit[i]:\n",
    "        #print(\"False : {}\".format(i))\n",
    "        #print(\"[{}] data : {}\".format(i, y_test_data[i]))\n",
    "        error += 1\n",
    "        for n in range(0, y_test_data.shape[0], int(y_test_data.shape[0]/nb_classes)):\n",
    "            if y_test_bit[n] == res_pred[i]:\n",
    "                #print(\"[{}] pred data: {}\".format(n, y_test_data[n]))\n",
    "                bit_error = 0\n",
    "                for m in range(0, y_test_data.shape[1]): \n",
    "                    if y_test_data[i, m] != y_test_data[n, m]:\n",
    "                        bit_error += 1\n",
    "                        error_cnt += 1\n",
    "                #print(\"bit error count : \", bit_error)\n",
    "                break\n",
    "print(\"Error : {}\".format(error))\n",
    "print(\"Error Count: {}\".format(error_cnt))"
   ]
  },
  {
   "cell_type": "code",
   "execution_count": 16,
   "id": "979f11c4",
   "metadata": {},
   "outputs": [
    {
     "name": "stdout",
     "output_type": "stream",
     "text": [
      "BER: 0.066928125\n"
     ]
    }
   ],
   "source": [
    "BER = (error_cnt)/(y_test_data.shape[0]*2*2)\n",
    "print(\"BER: {}\".format(BER))"
   ]
  },
  {
   "cell_type": "code",
   "execution_count": null,
   "id": "5a5b98a7",
   "metadata": {},
   "outputs": [],
   "source": []
  }
 ],
 "metadata": {
  "kernelspec": {
   "display_name": "Python 3 (ipykernel)",
   "language": "python",
   "name": "python3"
  },
  "language_info": {
   "codemirror_mode": {
    "name": "ipython",
    "version": 3
   },
   "file_extension": ".py",
   "mimetype": "text/x-python",
   "name": "python",
   "nbconvert_exporter": "python",
   "pygments_lexer": "ipython3",
   "version": "3.8.12"
  }
 },
 "nbformat": 4,
 "nbformat_minor": 5
}
