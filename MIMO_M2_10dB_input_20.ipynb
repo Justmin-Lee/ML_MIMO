{
 "cells": [
  {
   "cell_type": "code",
   "execution_count": 1,
   "id": "39878172",
   "metadata": {},
   "outputs": [],
   "source": [
    "import numpy as np\n",
    "import random\n",
    "import matplotlib.pyplot as plt\n",
    "import tensorflow as tf\n",
    "from sklearn.model_selection import train_test_split\n",
    "from sklearn.preprocessing import LabelEncoder\n",
    "\n",
    "random.seed(777)  # for reproducibility\n",
    "learning_rate = 0.001\n",
    "batch_size = 10000\n",
    "training_epochs = 200\n",
    "nb_classes = 4\n",
    "drop_rate = 0.3"
   ]
  },
  {
   "cell_type": "code",
   "execution_count": 2,
   "id": "6a28f0ed",
   "metadata": {
    "scrolled": false
   },
   "outputs": [
    {
     "name": "stdout",
     "output_type": "stream",
     "text": [
      "(40000, 20) (40000, 4)\n",
      "[[ 0.06907259 -0.7754382  -0.02926022 ... -0.70710677  0.70710677\n",
      "  -0.70710677]\n",
      " [ 0.22259928 -0.39343154 -0.27505288 ... -0.70710677  0.70710677\n",
      "  -0.70710677]\n",
      " [ 0.3979375  -0.57233614 -0.14153855 ... -0.70710677  0.70710677\n",
      "  -0.70710677]\n",
      " ...\n",
      " [ 0.09748081 -0.8959886  -0.5795385  ... -0.70710677  0.70710677\n",
      "  -0.70710677]\n",
      " [-0.7765729  -1.1802692   0.63803524 ... -0.70710677  0.70710677\n",
      "  -0.70710677]\n",
      " [ 1.7183214   1.642255    0.2505213  ... -0.70710677  0.70710677\n",
      "  -0.70710677]]\n"
     ]
    }
   ],
   "source": [
    "xy = np.loadtxt('MIMO_2_10dB.csv', delimiter=',', dtype=np.float32)\n",
    "x_data = xy[:, 1:21]\n",
    "y_data = xy[:, -4:]\n",
    "\n",
    "print(x_data.shape, y_data.shape)\n",
    "print(x_data)"
   ]
  },
  {
   "cell_type": "code",
   "execution_count": 3,
   "id": "ee73316f",
   "metadata": {},
   "outputs": [
    {
     "name": "stdout",
     "output_type": "stream",
     "text": [
      "[[1]\n",
      " [1]\n",
      " [1]\n",
      " ...\n",
      " [2]\n",
      " [2]\n",
      " [2]]\n"
     ]
    }
   ],
   "source": [
    "# Convert y_data to y_bit\n",
    "i=1\n",
    "y_merge = []\n",
    "while i <= y_data.shape[0]:\n",
    "    temp = \"\".join(str(_) for _ in y_data[i-1,:])\n",
    "    y_merge.append(temp)\n",
    "    i = i + 1\n",
    "\n",
    "encoder = LabelEncoder()\n",
    "encoder.fit(y_merge)\n",
    "y_bit = encoder.transform(y_merge)\n",
    "y_bit = y_bit.reshape(-1, 1)\n",
    "print(y_bit)"
   ]
  },
  {
   "cell_type": "code",
   "execution_count": 4,
   "id": "633ea46e",
   "metadata": {},
   "outputs": [
    {
     "name": "stdout",
     "output_type": "stream",
     "text": [
      "one_hot: [[0. 1. 0. 0.]\n",
      " [0. 1. 0. 0.]\n",
      " [0. 1. 0. 0.]\n",
      " ...\n",
      " [0. 0. 1. 0.]\n",
      " [0. 0. 1. 0.]\n",
      " [0. 0. 1. 0.]]\n"
     ]
    }
   ],
   "source": [
    "# Convert y_data to one_hot\n",
    "y_one_hot = tf.keras.utils.to_categorical(y_bit, nb_classes)\n",
    "print(\"one_hot:\", y_one_hot)"
   ]
  },
  {
   "cell_type": "code",
   "execution_count": 5,
   "id": "d6f44f52",
   "metadata": {},
   "outputs": [],
   "source": [
    "tf.model = tf.keras.Sequential()\n",
    "# Glorot normal initializer, also called Xavier normal initializer.\n",
    "# see https://www.tensorflow.org/api_docs/python/tf/initializers"
   ]
  },
  {
   "cell_type": "code",
   "execution_count": 6,
   "id": "9e58a9ba",
   "metadata": {},
   "outputs": [
    {
     "name": "stdout",
     "output_type": "stream",
     "text": [
      "Model: \"sequential\"\n",
      "_________________________________________________________________\n",
      "Layer (type)                 Output Shape              Param #   \n",
      "=================================================================\n",
      "dense (Dense)                (None, 640)               13440     \n",
      "_________________________________________________________________\n",
      "dropout (Dropout)            (None, 640)               0         \n",
      "_________________________________________________________________\n",
      "dense_1 (Dense)              (None, 320)               205120    \n",
      "_________________________________________________________________\n",
      "dropout_1 (Dropout)          (None, 320)               0         \n",
      "_________________________________________________________________\n",
      "dense_2 (Dense)              (None, 4)                 1284      \n",
      "=================================================================\n",
      "Total params: 219,844\n",
      "Trainable params: 219,844\n",
      "Non-trainable params: 0\n",
      "_________________________________________________________________\n"
     ]
    }
   ],
   "source": [
    "tf.model.add(tf.keras.layers.Dense(input_dim=x_data.shape[1], units=640, kernel_regularizer=tf.keras.regularizers.l2(0.001), activation='relu'))\n",
    "tf.model.add(tf.keras.layers.Dropout(drop_rate))\n",
    "tf.model.add(tf.keras.layers.Dense(units=320, kernel_regularizer=tf.keras.regularizers.l2(0.001), activation='relu'))\n",
    "tf.model.add(tf.keras.layers.Dropout(drop_rate))\n",
    "tf.model.add(tf.keras.layers.Dense(units=nb_classes, activation='softmax'))\n",
    "tf.model.compile(loss='categorical_crossentropy',\n",
    "                 optimizer=tf.keras.optimizers.Adam(learning_rate=learning_rate), metrics=['accuracy'])\n",
    "tf.model.summary()"
   ]
  },
  {
   "cell_type": "code",
   "execution_count": 7,
   "id": "c346ad84",
   "metadata": {
    "scrolled": true
   },
   "outputs": [
    {
     "name": "stdout",
     "output_type": "stream",
     "text": [
      "Epoch 1/200\n",
      "4/4 [==============================] - 1s 49ms/step - loss: 1.7830 - accuracy: 0.3153 - val_loss: 3.6000 - val_accuracy: 0.0000e+00\n",
      "Epoch 2/200\n",
      "4/4 [==============================] - 0s 11ms/step - loss: 1.6523 - accuracy: 0.4620 - val_loss: 3.7426 - val_accuracy: 0.0000e+00\n",
      "Epoch 3/200\n",
      "4/4 [==============================] - 0s 11ms/step - loss: 1.5542 - accuracy: 0.5760 - val_loss: 3.1764 - val_accuracy: 0.0000e+00\n",
      "Epoch 4/200\n",
      "4/4 [==============================] - 0s 11ms/step - loss: 1.4420 - accuracy: 0.6607 - val_loss: 2.7353 - val_accuracy: 0.0000e+00\n",
      "Epoch 5/200\n",
      "4/4 [==============================] - 0s 11ms/step - loss: 1.3358 - accuracy: 0.7034 - val_loss: 2.6901 - val_accuracy: 0.0000e+00\n",
      "Epoch 6/200\n",
      "4/4 [==============================] - 0s 11ms/step - loss: 1.2208 - accuracy: 0.7355 - val_loss: 2.8145 - val_accuracy: 0.0000e+00\n",
      "Epoch 7/200\n",
      "4/4 [==============================] - 0s 11ms/step - loss: 1.1113 - accuracy: 0.7618 - val_loss: 2.7252 - val_accuracy: 0.0000e+00\n",
      "Epoch 8/200\n",
      "4/4 [==============================] - 0s 11ms/step - loss: 1.0137 - accuracy: 0.7826 - val_loss: 2.3754 - val_accuracy: 0.0000e+00\n",
      "Epoch 9/200\n",
      "4/4 [==============================] - 0s 11ms/step - loss: 0.9225 - accuracy: 0.8047 - val_loss: 2.0683 - val_accuracy: 6.2500e-04\n",
      "Epoch 10/200\n",
      "4/4 [==============================] - 0s 11ms/step - loss: 0.8422 - accuracy: 0.8249 - val_loss: 2.0075 - val_accuracy: 0.0089\n",
      "Epoch 11/200\n",
      "4/4 [==============================] - 0s 10ms/step - loss: 0.7710 - accuracy: 0.8424 - val_loss: 1.8413 - val_accuracy: 0.0750\n",
      "Epoch 12/200\n",
      "4/4 [==============================] - 0s 11ms/step - loss: 0.7108 - accuracy: 0.8589 - val_loss: 1.5347 - val_accuracy: 0.2784\n",
      "Epoch 13/200\n",
      "4/4 [==============================] - 0s 10ms/step - loss: 0.6561 - accuracy: 0.8814 - val_loss: 1.3043 - val_accuracy: 0.4568\n",
      "Epoch 14/200\n",
      "4/4 [==============================] - 0s 11ms/step - loss: 0.6128 - accuracy: 0.8976 - val_loss: 1.2449 - val_accuracy: 0.5063\n",
      "Epoch 15/200\n",
      "4/4 [==============================] - 0s 11ms/step - loss: 0.5754 - accuracy: 0.9018 - val_loss: 1.1450 - val_accuracy: 0.5738\n",
      "Epoch 16/200\n",
      "4/4 [==============================] - 0s 11ms/step - loss: 0.5444 - accuracy: 0.9096 - val_loss: 1.0336 - val_accuracy: 0.6403\n",
      "Epoch 17/200\n",
      "4/4 [==============================] - 0s 10ms/step - loss: 0.5146 - accuracy: 0.9196 - val_loss: 0.9294 - val_accuracy: 0.6917\n",
      "Epoch 18/200\n",
      "4/4 [==============================] - 0s 10ms/step - loss: 0.4941 - accuracy: 0.9202 - val_loss: 0.9029 - val_accuracy: 0.7006\n",
      "Epoch 19/200\n",
      "4/4 [==============================] - 0s 10ms/step - loss: 0.4733 - accuracy: 0.9249 - val_loss: 0.8098 - val_accuracy: 0.7510\n",
      "Epoch 20/200\n",
      "4/4 [==============================] - 0s 10ms/step - loss: 0.4564 - accuracy: 0.9251 - val_loss: 0.8041 - val_accuracy: 0.7450\n",
      "Epoch 21/200\n",
      "4/4 [==============================] - 0s 10ms/step - loss: 0.4420 - accuracy: 0.9280 - val_loss: 0.7961 - val_accuracy: 0.7498\n",
      "Epoch 22/200\n",
      "4/4 [==============================] - 0s 10ms/step - loss: 0.4268 - accuracy: 0.9277 - val_loss: 0.7268 - val_accuracy: 0.7786\n",
      "Epoch 23/200\n",
      "4/4 [==============================] - 0s 10ms/step - loss: 0.4142 - accuracy: 0.9293 - val_loss: 0.7379 - val_accuracy: 0.7674\n",
      "Epoch 24/200\n",
      "4/4 [==============================] - 0s 11ms/step - loss: 0.4021 - accuracy: 0.9308 - val_loss: 0.7118 - val_accuracy: 0.7784\n",
      "Epoch 25/200\n",
      "4/4 [==============================] - 0s 10ms/step - loss: 0.3907 - accuracy: 0.9327 - val_loss: 0.7076 - val_accuracy: 0.7764\n",
      "Epoch 26/200\n",
      "4/4 [==============================] - 0s 11ms/step - loss: 0.3798 - accuracy: 0.9327 - val_loss: 0.6624 - val_accuracy: 0.7961\n",
      "Epoch 27/200\n",
      "4/4 [==============================] - 0s 10ms/step - loss: 0.3713 - accuracy: 0.9330 - val_loss: 0.6693 - val_accuracy: 0.7889\n",
      "Epoch 28/200\n",
      "4/4 [==============================] - 0s 11ms/step - loss: 0.3615 - accuracy: 0.9327 - val_loss: 0.6764 - val_accuracy: 0.7828\n",
      "Epoch 29/200\n",
      "4/4 [==============================] - 0s 11ms/step - loss: 0.3540 - accuracy: 0.9345 - val_loss: 0.6454 - val_accuracy: 0.7958\n",
      "Epoch 30/200\n",
      "4/4 [==============================] - 0s 10ms/step - loss: 0.3465 - accuracy: 0.9334 - val_loss: 0.6468 - val_accuracy: 0.7909\n",
      "Epoch 31/200\n",
      "4/4 [==============================] - 0s 11ms/step - loss: 0.3388 - accuracy: 0.9357 - val_loss: 0.6376 - val_accuracy: 0.7944\n",
      "Epoch 32/200\n",
      "4/4 [==============================] - 0s 11ms/step - loss: 0.3336 - accuracy: 0.9349 - val_loss: 0.5797 - val_accuracy: 0.8166\n",
      "Epoch 33/200\n",
      "4/4 [==============================] - 0s 10ms/step - loss: 0.3286 - accuracy: 0.9340 - val_loss: 0.6462 - val_accuracy: 0.7849\n",
      "Epoch 34/200\n",
      "4/4 [==============================] - 0s 10ms/step - loss: 0.3229 - accuracy: 0.9347 - val_loss: 0.5872 - val_accuracy: 0.8071\n",
      "Epoch 35/200\n",
      "4/4 [==============================] - 0s 11ms/step - loss: 0.3183 - accuracy: 0.9356 - val_loss: 0.6281 - val_accuracy: 0.7891\n",
      "Epoch 36/200\n",
      "4/4 [==============================] - 0s 10ms/step - loss: 0.3128 - accuracy: 0.9349 - val_loss: 0.5943 - val_accuracy: 0.8037\n",
      "Epoch 37/200\n",
      "4/4 [==============================] - 0s 11ms/step - loss: 0.3080 - accuracy: 0.9360 - val_loss: 0.5740 - val_accuracy: 0.8117\n",
      "Epoch 38/200\n",
      "4/4 [==============================] - 0s 10ms/step - loss: 0.3051 - accuracy: 0.9361 - val_loss: 0.5931 - val_accuracy: 0.8004\n",
      "Epoch 39/200\n",
      "4/4 [==============================] - 0s 11ms/step - loss: 0.3002 - accuracy: 0.9356 - val_loss: 0.5731 - val_accuracy: 0.8084\n",
      "Epoch 40/200\n",
      "4/4 [==============================] - 0s 11ms/step - loss: 0.2967 - accuracy: 0.9368 - val_loss: 0.5697 - val_accuracy: 0.8084\n",
      "Epoch 41/200\n",
      "4/4 [==============================] - 0s 10ms/step - loss: 0.2935 - accuracy: 0.9361 - val_loss: 0.5599 - val_accuracy: 0.8126\n",
      "Epoch 42/200\n",
      "4/4 [==============================] - 0s 11ms/step - loss: 0.2907 - accuracy: 0.9372 - val_loss: 0.5432 - val_accuracy: 0.8199\n",
      "Epoch 43/200\n",
      "4/4 [==============================] - 0s 10ms/step - loss: 0.2870 - accuracy: 0.9365 - val_loss: 0.5771 - val_accuracy: 0.8023\n",
      "Epoch 44/200\n",
      "4/4 [==============================] - 0s 10ms/step - loss: 0.2842 - accuracy: 0.9374 - val_loss: 0.5333 - val_accuracy: 0.8213\n",
      "Epoch 45/200\n",
      "4/4 [==============================] - 0s 11ms/step - loss: 0.2818 - accuracy: 0.9386 - val_loss: 0.5599 - val_accuracy: 0.8099\n",
      "Epoch 46/200\n",
      "4/4 [==============================] - 0s 11ms/step - loss: 0.2803 - accuracy: 0.9381 - val_loss: 0.5384 - val_accuracy: 0.8192\n",
      "Epoch 47/200\n",
      "4/4 [==============================] - 0s 11ms/step - loss: 0.2793 - accuracy: 0.9376 - val_loss: 0.5634 - val_accuracy: 0.8077\n",
      "Epoch 48/200\n",
      "4/4 [==============================] - 0s 10ms/step - loss: 0.2756 - accuracy: 0.9382 - val_loss: 0.5550 - val_accuracy: 0.8094\n",
      "Epoch 49/200\n",
      "4/4 [==============================] - 0s 11ms/step - loss: 0.2733 - accuracy: 0.9380 - val_loss: 0.5364 - val_accuracy: 0.8170\n",
      "Epoch 50/200\n",
      "4/4 [==============================] - 0s 11ms/step - loss: 0.2713 - accuracy: 0.9376 - val_loss: 0.5400 - val_accuracy: 0.8152\n",
      "Epoch 51/200\n",
      "4/4 [==============================] - 0s 10ms/step - loss: 0.2689 - accuracy: 0.9381 - val_loss: 0.5317 - val_accuracy: 0.8175\n",
      "Epoch 52/200\n",
      "4/4 [==============================] - 0s 10ms/step - loss: 0.2672 - accuracy: 0.9379 - val_loss: 0.5267 - val_accuracy: 0.8190\n",
      "Epoch 53/200\n",
      "4/4 [==============================] - 0s 10ms/step - loss: 0.2668 - accuracy: 0.9370 - val_loss: 0.5335 - val_accuracy: 0.8138\n",
      "Epoch 54/200\n",
      "4/4 [==============================] - 0s 11ms/step - loss: 0.2639 - accuracy: 0.9383 - val_loss: 0.5114 - val_accuracy: 0.8244\n",
      "Epoch 55/200\n",
      "4/4 [==============================] - 0s 10ms/step - loss: 0.2625 - accuracy: 0.9387 - val_loss: 0.5692 - val_accuracy: 0.7995\n",
      "Epoch 56/200\n",
      "4/4 [==============================] - 0s 10ms/step - loss: 0.2618 - accuracy: 0.9384 - val_loss: 0.5253 - val_accuracy: 0.8171\n",
      "Epoch 57/200\n",
      "4/4 [==============================] - 0s 10ms/step - loss: 0.2600 - accuracy: 0.9388 - val_loss: 0.5619 - val_accuracy: 0.8023\n",
      "Epoch 58/200\n",
      "4/4 [==============================] - 0s 10ms/step - loss: 0.2604 - accuracy: 0.9376 - val_loss: 0.5038 - val_accuracy: 0.8251\n"
     ]
    },
    {
     "name": "stdout",
     "output_type": "stream",
     "text": [
      "Epoch 59/200\n",
      "4/4 [==============================] - 0s 10ms/step - loss: 0.2572 - accuracy: 0.9394 - val_loss: 0.5350 - val_accuracy: 0.8115\n",
      "Epoch 60/200\n",
      "4/4 [==============================] - 0s 10ms/step - loss: 0.2592 - accuracy: 0.9378 - val_loss: 0.5255 - val_accuracy: 0.8183\n",
      "Epoch 61/200\n",
      "4/4 [==============================] - 0s 11ms/step - loss: 0.2566 - accuracy: 0.9382 - val_loss: 0.5154 - val_accuracy: 0.8200\n",
      "Epoch 62/200\n",
      "4/4 [==============================] - 0s 10ms/step - loss: 0.2553 - accuracy: 0.9382 - val_loss: 0.5136 - val_accuracy: 0.8202\n",
      "Epoch 63/200\n",
      "4/4 [==============================] - 0s 10ms/step - loss: 0.2537 - accuracy: 0.9379 - val_loss: 0.5131 - val_accuracy: 0.8200\n",
      "Epoch 64/200\n",
      "4/4 [==============================] - 0s 10ms/step - loss: 0.2533 - accuracy: 0.9407 - val_loss: 0.5096 - val_accuracy: 0.8220\n",
      "Epoch 65/200\n",
      "4/4 [==============================] - 0s 10ms/step - loss: 0.2512 - accuracy: 0.9395 - val_loss: 0.5173 - val_accuracy: 0.8190\n",
      "Epoch 66/200\n",
      "4/4 [==============================] - 0s 10ms/step - loss: 0.2503 - accuracy: 0.9390 - val_loss: 0.4909 - val_accuracy: 0.8301\n",
      "Epoch 67/200\n",
      "4/4 [==============================] - 0s 11ms/step - loss: 0.2500 - accuracy: 0.9400 - val_loss: 0.5055 - val_accuracy: 0.8242\n",
      "Epoch 68/200\n",
      "4/4 [==============================] - 0s 10ms/step - loss: 0.2484 - accuracy: 0.9401 - val_loss: 0.5428 - val_accuracy: 0.8074\n",
      "Epoch 69/200\n",
      "4/4 [==============================] - 0s 10ms/step - loss: 0.2498 - accuracy: 0.9385 - val_loss: 0.4435 - val_accuracy: 0.8497\n",
      "Epoch 70/200\n",
      "4/4 [==============================] - 0s 10ms/step - loss: 0.2489 - accuracy: 0.9388 - val_loss: 0.5268 - val_accuracy: 0.8141\n",
      "Epoch 71/200\n",
      "4/4 [==============================] - 0s 10ms/step - loss: 0.2475 - accuracy: 0.9390 - val_loss: 0.4955 - val_accuracy: 0.8257\n",
      "Epoch 72/200\n",
      "4/4 [==============================] - 0s 10ms/step - loss: 0.2468 - accuracy: 0.9390 - val_loss: 0.4880 - val_accuracy: 0.8301\n",
      "Epoch 73/200\n",
      "4/4 [==============================] - 0s 10ms/step - loss: 0.2459 - accuracy: 0.9397 - val_loss: 0.5191 - val_accuracy: 0.8186\n",
      "Epoch 74/200\n",
      "4/4 [==============================] - 0s 10ms/step - loss: 0.2454 - accuracy: 0.9394 - val_loss: 0.4758 - val_accuracy: 0.8338\n",
      "Epoch 75/200\n",
      "4/4 [==============================] - 0s 10ms/step - loss: 0.2430 - accuracy: 0.9394 - val_loss: 0.5088 - val_accuracy: 0.8184\n",
      "Epoch 76/200\n",
      "4/4 [==============================] - 0s 10ms/step - loss: 0.2437 - accuracy: 0.9394 - val_loss: 0.5190 - val_accuracy: 0.8167\n",
      "Epoch 77/200\n",
      "4/4 [==============================] - 0s 11ms/step - loss: 0.2417 - accuracy: 0.9406 - val_loss: 0.4627 - val_accuracy: 0.8399\n",
      "Epoch 78/200\n",
      "4/4 [==============================] - 0s 10ms/step - loss: 0.2428 - accuracy: 0.9404 - val_loss: 0.5338 - val_accuracy: 0.8096\n",
      "Epoch 79/200\n",
      "4/4 [==============================] - 0s 10ms/step - loss: 0.2422 - accuracy: 0.9402 - val_loss: 0.4535 - val_accuracy: 0.8431\n",
      "Epoch 80/200\n",
      "4/4 [==============================] - 0s 10ms/step - loss: 0.2390 - accuracy: 0.9409 - val_loss: 0.5425 - val_accuracy: 0.8054\n",
      "Epoch 81/200\n",
      "4/4 [==============================] - 0s 10ms/step - loss: 0.2400 - accuracy: 0.9399 - val_loss: 0.4756 - val_accuracy: 0.8353\n",
      "Epoch 82/200\n",
      "4/4 [==============================] - 0s 10ms/step - loss: 0.2404 - accuracy: 0.9391 - val_loss: 0.4943 - val_accuracy: 0.8279\n",
      "Epoch 83/200\n",
      "4/4 [==============================] - 0s 10ms/step - loss: 0.2397 - accuracy: 0.9397 - val_loss: 0.5052 - val_accuracy: 0.8217\n",
      "Epoch 84/200\n",
      "4/4 [==============================] - 0s 10ms/step - loss: 0.2371 - accuracy: 0.9413 - val_loss: 0.4795 - val_accuracy: 0.8324\n",
      "Epoch 85/200\n",
      "4/4 [==============================] - 0s 10ms/step - loss: 0.2375 - accuracy: 0.9400 - val_loss: 0.4904 - val_accuracy: 0.8282\n",
      "Epoch 86/200\n",
      "4/4 [==============================] - 0s 10ms/step - loss: 0.2373 - accuracy: 0.9407 - val_loss: 0.4914 - val_accuracy: 0.8271\n",
      "Epoch 87/200\n",
      "4/4 [==============================] - 0s 10ms/step - loss: 0.2363 - accuracy: 0.9413 - val_loss: 0.4980 - val_accuracy: 0.8249\n",
      "Epoch 88/200\n",
      "4/4 [==============================] - 0s 11ms/step - loss: 0.2359 - accuracy: 0.9414 - val_loss: 0.4728 - val_accuracy: 0.8360\n",
      "Epoch 89/200\n",
      "4/4 [==============================] - 0s 10ms/step - loss: 0.2348 - accuracy: 0.9404 - val_loss: 0.4848 - val_accuracy: 0.8305\n",
      "Epoch 90/200\n",
      "4/4 [==============================] - 0s 11ms/step - loss: 0.2359 - accuracy: 0.9405 - val_loss: 0.5004 - val_accuracy: 0.8239\n",
      "Epoch 91/200\n",
      "4/4 [==============================] - 0s 11ms/step - loss: 0.2349 - accuracy: 0.9410 - val_loss: 0.4618 - val_accuracy: 0.8410\n",
      "Epoch 92/200\n",
      "4/4 [==============================] - 0s 10ms/step - loss: 0.2345 - accuracy: 0.9402 - val_loss: 0.5252 - val_accuracy: 0.8135\n",
      "Epoch 93/200\n",
      "4/4 [==============================] - 0s 10ms/step - loss: 0.2335 - accuracy: 0.9405 - val_loss: 0.4834 - val_accuracy: 0.8311\n",
      "Epoch 94/200\n",
      "4/4 [==============================] - 0s 10ms/step - loss: 0.2344 - accuracy: 0.9403 - val_loss: 0.4441 - val_accuracy: 0.8461\n",
      "Epoch 95/200\n",
      "4/4 [==============================] - 0s 10ms/step - loss: 0.2353 - accuracy: 0.9402 - val_loss: 0.5467 - val_accuracy: 0.8043\n",
      "Epoch 96/200\n",
      "4/4 [==============================] - 0s 10ms/step - loss: 0.2329 - accuracy: 0.9415 - val_loss: 0.4824 - val_accuracy: 0.8309\n",
      "Epoch 97/200\n",
      "4/4 [==============================] - 0s 10ms/step - loss: 0.2323 - accuracy: 0.9403 - val_loss: 0.4438 - val_accuracy: 0.8469\n",
      "Epoch 98/200\n",
      "4/4 [==============================] - 0s 11ms/step - loss: 0.2324 - accuracy: 0.9402 - val_loss: 0.5090 - val_accuracy: 0.8183\n",
      "Epoch 99/200\n",
      "4/4 [==============================] - 0s 10ms/step - loss: 0.2310 - accuracy: 0.9415 - val_loss: 0.4688 - val_accuracy: 0.8330\n",
      "Epoch 100/200\n",
      "4/4 [==============================] - 0s 11ms/step - loss: 0.2313 - accuracy: 0.9415 - val_loss: 0.4612 - val_accuracy: 0.8382\n",
      "Epoch 101/200\n",
      "4/4 [==============================] - 0s 10ms/step - loss: 0.2316 - accuracy: 0.9411 - val_loss: 0.4843 - val_accuracy: 0.8273\n",
      "Epoch 102/200\n",
      "4/4 [==============================] - 0s 10ms/step - loss: 0.2306 - accuracy: 0.9407 - val_loss: 0.5005 - val_accuracy: 0.8226\n",
      "Epoch 103/200\n",
      "4/4 [==============================] - 0s 10ms/step - loss: 0.2309 - accuracy: 0.9411 - val_loss: 0.4512 - val_accuracy: 0.8409\n",
      "Epoch 104/200\n",
      "4/4 [==============================] - 0s 10ms/step - loss: 0.2307 - accuracy: 0.9395 - val_loss: 0.4952 - val_accuracy: 0.8239\n",
      "Epoch 105/200\n",
      "4/4 [==============================] - 0s 10ms/step - loss: 0.2286 - accuracy: 0.9411 - val_loss: 0.4926 - val_accuracy: 0.8271\n",
      "Epoch 106/200\n",
      "4/4 [==============================] - 0s 10ms/step - loss: 0.2301 - accuracy: 0.9410 - val_loss: 0.4328 - val_accuracy: 0.8481\n",
      "Epoch 107/200\n",
      "4/4 [==============================] - 0s 11ms/step - loss: 0.2284 - accuracy: 0.9413 - val_loss: 0.5059 - val_accuracy: 0.8196\n",
      "Epoch 108/200\n",
      "4/4 [==============================] - 0s 10ms/step - loss: 0.2271 - accuracy: 0.9420 - val_loss: 0.4763 - val_accuracy: 0.8314\n",
      "Epoch 109/200\n",
      "4/4 [==============================] - 0s 10ms/step - loss: 0.2286 - accuracy: 0.9408 - val_loss: 0.4529 - val_accuracy: 0.8404\n",
      "Epoch 110/200\n",
      "4/4 [==============================] - 0s 10ms/step - loss: 0.2274 - accuracy: 0.9409 - val_loss: 0.4816 - val_accuracy: 0.8295\n",
      "Epoch 111/200\n",
      "4/4 [==============================] - 0s 10ms/step - loss: 0.2258 - accuracy: 0.9416 - val_loss: 0.4952 - val_accuracy: 0.8236\n",
      "Epoch 112/200\n",
      "4/4 [==============================] - 0s 11ms/step - loss: 0.2265 - accuracy: 0.9416 - val_loss: 0.4495 - val_accuracy: 0.8414\n",
      "Epoch 113/200\n",
      "4/4 [==============================] - 0s 10ms/step - loss: 0.2260 - accuracy: 0.9408 - val_loss: 0.4721 - val_accuracy: 0.8325\n",
      "Epoch 114/200\n",
      "4/4 [==============================] - 0s 10ms/step - loss: 0.2259 - accuracy: 0.9417 - val_loss: 0.5074 - val_accuracy: 0.8188\n",
      "Epoch 115/200\n",
      "4/4 [==============================] - 0s 10ms/step - loss: 0.2250 - accuracy: 0.9416 - val_loss: 0.4343 - val_accuracy: 0.8470\n",
      "Epoch 116/200\n",
      "4/4 [==============================] - 0s 10ms/step - loss: 0.2258 - accuracy: 0.9406 - val_loss: 0.4928 - val_accuracy: 0.8225\n"
     ]
    },
    {
     "name": "stdout",
     "output_type": "stream",
     "text": [
      "Epoch 117/200\n",
      "4/4 [==============================] - 0s 10ms/step - loss: 0.2246 - accuracy: 0.9417 - val_loss: 0.4986 - val_accuracy: 0.8220\n",
      "Epoch 118/200\n",
      "4/4 [==============================] - 0s 11ms/step - loss: 0.2272 - accuracy: 0.9390 - val_loss: 0.4386 - val_accuracy: 0.8478\n",
      "Epoch 119/200\n",
      "4/4 [==============================] - 0s 10ms/step - loss: 0.2249 - accuracy: 0.9414 - val_loss: 0.5065 - val_accuracy: 0.8192\n",
      "Epoch 120/200\n",
      "4/4 [==============================] - 0s 10ms/step - loss: 0.2253 - accuracy: 0.9416 - val_loss: 0.4555 - val_accuracy: 0.8404\n",
      "Epoch 121/200\n",
      "4/4 [==============================] - 0s 10ms/step - loss: 0.2238 - accuracy: 0.9416 - val_loss: 0.4713 - val_accuracy: 0.8322\n",
      "Epoch 122/200\n",
      "4/4 [==============================] - 0s 10ms/step - loss: 0.2222 - accuracy: 0.9434 - val_loss: 0.4747 - val_accuracy: 0.8319\n",
      "Epoch 123/200\n",
      "4/4 [==============================] - 0s 10ms/step - loss: 0.2239 - accuracy: 0.9405 - val_loss: 0.4458 - val_accuracy: 0.8443\n",
      "Epoch 124/200\n",
      "4/4 [==============================] - 0s 10ms/step - loss: 0.2217 - accuracy: 0.9413 - val_loss: 0.4516 - val_accuracy: 0.8415\n",
      "Epoch 125/200\n",
      "4/4 [==============================] - 0s 10ms/step - loss: 0.2232 - accuracy: 0.9411 - val_loss: 0.4949 - val_accuracy: 0.8230\n",
      "Epoch 126/200\n",
      "4/4 [==============================] - 0s 10ms/step - loss: 0.2200 - accuracy: 0.9428 - val_loss: 0.4988 - val_accuracy: 0.8210\n",
      "Epoch 127/200\n",
      "4/4 [==============================] - 0s 11ms/step - loss: 0.2215 - accuracy: 0.9407 - val_loss: 0.4366 - val_accuracy: 0.8501\n",
      "Epoch 128/200\n",
      "4/4 [==============================] - 0s 10ms/step - loss: 0.2219 - accuracy: 0.9424 - val_loss: 0.4736 - val_accuracy: 0.8300\n",
      "Epoch 129/200\n",
      "4/4 [==============================] - 0s 11ms/step - loss: 0.2226 - accuracy: 0.9413 - val_loss: 0.4640 - val_accuracy: 0.8366\n",
      "Epoch 130/200\n",
      "4/4 [==============================] - 0s 10ms/step - loss: 0.2194 - accuracy: 0.9426 - val_loss: 0.5005 - val_accuracy: 0.8200\n",
      "Epoch 131/200\n",
      "4/4 [==============================] - 0s 10ms/step - loss: 0.2209 - accuracy: 0.9418 - val_loss: 0.4821 - val_accuracy: 0.8300\n",
      "Epoch 132/200\n",
      "4/4 [==============================] - 0s 10ms/step - loss: 0.2211 - accuracy: 0.9404 - val_loss: 0.4569 - val_accuracy: 0.8401\n",
      "Epoch 133/200\n",
      "4/4 [==============================] - 0s 10ms/step - loss: 0.2201 - accuracy: 0.9418 - val_loss: 0.4835 - val_accuracy: 0.8273\n",
      "Epoch 134/200\n",
      "4/4 [==============================] - 0s 10ms/step - loss: 0.2203 - accuracy: 0.9418 - val_loss: 0.4439 - val_accuracy: 0.8426\n",
      "Epoch 135/200\n",
      "4/4 [==============================] - 0s 10ms/step - loss: 0.2212 - accuracy: 0.9424 - val_loss: 0.4627 - val_accuracy: 0.8379\n",
      "Epoch 136/200\n",
      "4/4 [==============================] - 0s 11ms/step - loss: 0.2183 - accuracy: 0.9425 - val_loss: 0.4988 - val_accuracy: 0.8214\n",
      "Epoch 137/200\n",
      "4/4 [==============================] - 0s 10ms/step - loss: 0.2202 - accuracy: 0.9415 - val_loss: 0.4870 - val_accuracy: 0.8257\n",
      "Epoch 138/200\n",
      "4/4 [==============================] - 0s 11ms/step - loss: 0.2189 - accuracy: 0.9417 - val_loss: 0.4499 - val_accuracy: 0.8416\n",
      "Epoch 139/200\n",
      "4/4 [==============================] - 0s 11ms/step - loss: 0.2194 - accuracy: 0.9427 - val_loss: 0.4537 - val_accuracy: 0.8401\n",
      "Epoch 140/200\n",
      "4/4 [==============================] - 0s 10ms/step - loss: 0.2189 - accuracy: 0.9411 - val_loss: 0.4734 - val_accuracy: 0.8299\n",
      "Epoch 141/200\n",
      "4/4 [==============================] - 0s 10ms/step - loss: 0.2183 - accuracy: 0.9423 - val_loss: 0.4506 - val_accuracy: 0.8409\n",
      "Epoch 142/200\n",
      "4/4 [==============================] - 0s 10ms/step - loss: 0.2191 - accuracy: 0.9437 - val_loss: 0.4771 - val_accuracy: 0.8278\n",
      "Epoch 143/200\n",
      "4/4 [==============================] - 0s 10ms/step - loss: 0.2192 - accuracy: 0.9412 - val_loss: 0.4558 - val_accuracy: 0.8367\n",
      "Epoch 144/200\n",
      "4/4 [==============================] - 0s 10ms/step - loss: 0.2189 - accuracy: 0.9419 - val_loss: 0.4590 - val_accuracy: 0.8379\n",
      "Epoch 145/200\n",
      "4/4 [==============================] - 0s 11ms/step - loss: 0.2187 - accuracy: 0.9418 - val_loss: 0.4825 - val_accuracy: 0.8265\n",
      "Epoch 146/200\n",
      "4/4 [==============================] - 0s 10ms/step - loss: 0.2177 - accuracy: 0.9414 - val_loss: 0.4578 - val_accuracy: 0.8363\n",
      "Epoch 147/200\n",
      "4/4 [==============================] - 0s 11ms/step - loss: 0.2177 - accuracy: 0.9414 - val_loss: 0.4930 - val_accuracy: 0.8229\n",
      "Epoch 148/200\n",
      "4/4 [==============================] - 0s 11ms/step - loss: 0.2183 - accuracy: 0.9418 - val_loss: 0.4598 - val_accuracy: 0.8371\n",
      "Epoch 149/200\n",
      "4/4 [==============================] - 0s 10ms/step - loss: 0.2187 - accuracy: 0.9413 - val_loss: 0.4089 - val_accuracy: 0.8572\n",
      "Epoch 150/200\n",
      "4/4 [==============================] - 0s 11ms/step - loss: 0.2169 - accuracy: 0.9418 - val_loss: 0.5103 - val_accuracy: 0.8175\n",
      "Epoch 151/200\n",
      "4/4 [==============================] - 0s 10ms/step - loss: 0.2171 - accuracy: 0.9418 - val_loss: 0.4722 - val_accuracy: 0.8316\n",
      "Epoch 152/200\n",
      "4/4 [==============================] - 0s 10ms/step - loss: 0.2161 - accuracy: 0.9422 - val_loss: 0.4428 - val_accuracy: 0.8436\n",
      "Epoch 153/200\n",
      "4/4 [==============================] - 0s 10ms/step - loss: 0.2157 - accuracy: 0.9415 - val_loss: 0.5131 - val_accuracy: 0.8179\n",
      "Epoch 154/200\n",
      "4/4 [==============================] - 0s 11ms/step - loss: 0.2145 - accuracy: 0.9423 - val_loss: 0.4459 - val_accuracy: 0.8449\n",
      "Epoch 155/200\n",
      "4/4 [==============================] - 0s 10ms/step - loss: 0.2169 - accuracy: 0.9419 - val_loss: 0.4488 - val_accuracy: 0.8384\n",
      "Epoch 156/200\n",
      "4/4 [==============================] - 0s 10ms/step - loss: 0.2158 - accuracy: 0.9412 - val_loss: 0.5077 - val_accuracy: 0.8161\n",
      "Epoch 157/200\n",
      "4/4 [==============================] - 0s 10ms/step - loss: 0.2160 - accuracy: 0.9423 - val_loss: 0.4380 - val_accuracy: 0.8443\n",
      "Epoch 158/200\n",
      "4/4 [==============================] - 0s 11ms/step - loss: 0.2149 - accuracy: 0.9431 - val_loss: 0.4439 - val_accuracy: 0.8411\n",
      "Epoch 159/200\n",
      "4/4 [==============================] - 0s 10ms/step - loss: 0.2150 - accuracy: 0.9415 - val_loss: 0.4781 - val_accuracy: 0.8285\n",
      "Epoch 160/200\n",
      "4/4 [==============================] - 0s 11ms/step - loss: 0.2130 - accuracy: 0.9437 - val_loss: 0.4692 - val_accuracy: 0.8307\n",
      "Epoch 161/200\n",
      "4/4 [==============================] - 0s 10ms/step - loss: 0.2138 - accuracy: 0.9420 - val_loss: 0.4650 - val_accuracy: 0.8344\n",
      "Epoch 162/200\n",
      "4/4 [==============================] - 0s 10ms/step - loss: 0.2139 - accuracy: 0.9434 - val_loss: 0.4505 - val_accuracy: 0.8396\n",
      "Epoch 163/200\n",
      "4/4 [==============================] - 0s 10ms/step - loss: 0.2129 - accuracy: 0.9427 - val_loss: 0.4576 - val_accuracy: 0.8374\n",
      "Epoch 164/200\n",
      "4/4 [==============================] - 0s 10ms/step - loss: 0.2118 - accuracy: 0.9426 - val_loss: 0.4936 - val_accuracy: 0.8240\n",
      "Epoch 165/200\n",
      "4/4 [==============================] - 0s 11ms/step - loss: 0.2118 - accuracy: 0.9424 - val_loss: 0.4143 - val_accuracy: 0.8539\n",
      "Epoch 166/200\n",
      "4/4 [==============================] - 0s 11ms/step - loss: 0.2117 - accuracy: 0.9431 - val_loss: 0.4600 - val_accuracy: 0.8346\n",
      "Epoch 167/200\n",
      "4/4 [==============================] - 0s 10ms/step - loss: 0.2147 - accuracy: 0.9413 - val_loss: 0.4831 - val_accuracy: 0.8266\n",
      "Epoch 168/200\n",
      "4/4 [==============================] - 0s 11ms/step - loss: 0.2128 - accuracy: 0.9431 - val_loss: 0.4375 - val_accuracy: 0.8414\n",
      "Epoch 169/200\n",
      "4/4 [==============================] - 0s 11ms/step - loss: 0.2126 - accuracy: 0.9423 - val_loss: 0.4515 - val_accuracy: 0.8374\n",
      "Epoch 170/200\n",
      "4/4 [==============================] - 0s 10ms/step - loss: 0.2096 - accuracy: 0.9433 - val_loss: 0.4677 - val_accuracy: 0.8328\n",
      "Epoch 171/200\n",
      "4/4 [==============================] - 0s 10ms/step - loss: 0.2117 - accuracy: 0.9425 - val_loss: 0.4653 - val_accuracy: 0.8357\n",
      "Epoch 172/200\n",
      "4/4 [==============================] - 0s 11ms/step - loss: 0.2112 - accuracy: 0.9428 - val_loss: 0.4588 - val_accuracy: 0.8366\n",
      "Epoch 173/200\n",
      "4/4 [==============================] - 0s 10ms/step - loss: 0.2121 - accuracy: 0.9421 - val_loss: 0.4270 - val_accuracy: 0.8487\n",
      "Epoch 174/200\n",
      "4/4 [==============================] - 0s 10ms/step - loss: 0.2132 - accuracy: 0.9416 - val_loss: 0.4677 - val_accuracy: 0.8305\n"
     ]
    },
    {
     "name": "stdout",
     "output_type": "stream",
     "text": [
      "Epoch 175/200\n",
      "4/4 [==============================] - 0s 11ms/step - loss: 0.2110 - accuracy: 0.9433 - val_loss: 0.4354 - val_accuracy: 0.8429\n",
      "Epoch 176/200\n",
      "4/4 [==============================] - 0s 10ms/step - loss: 0.2114 - accuracy: 0.9432 - val_loss: 0.4691 - val_accuracy: 0.8295\n",
      "Epoch 177/200\n",
      "4/4 [==============================] - 0s 10ms/step - loss: 0.2096 - accuracy: 0.9423 - val_loss: 0.4527 - val_accuracy: 0.8369\n",
      "Epoch 178/200\n",
      "4/4 [==============================] - 0s 10ms/step - loss: 0.2105 - accuracy: 0.9436 - val_loss: 0.4436 - val_accuracy: 0.8421\n",
      "Epoch 179/200\n",
      "4/4 [==============================] - 0s 10ms/step - loss: 0.2099 - accuracy: 0.9428 - val_loss: 0.4713 - val_accuracy: 0.8310\n",
      "Epoch 180/200\n",
      "4/4 [==============================] - 0s 10ms/step - loss: 0.2105 - accuracy: 0.9430 - val_loss: 0.4622 - val_accuracy: 0.8349\n",
      "Epoch 181/200\n",
      "4/4 [==============================] - 0s 11ms/step - loss: 0.2093 - accuracy: 0.9429 - val_loss: 0.4471 - val_accuracy: 0.8404\n",
      "Epoch 182/200\n",
      "4/4 [==============================] - 0s 10ms/step - loss: 0.2082 - accuracy: 0.9442 - val_loss: 0.4691 - val_accuracy: 0.8331\n",
      "Epoch 183/200\n",
      "4/4 [==============================] - 0s 11ms/step - loss: 0.2098 - accuracy: 0.9419 - val_loss: 0.4646 - val_accuracy: 0.8340\n",
      "Epoch 184/200\n",
      "4/4 [==============================] - 0s 11ms/step - loss: 0.2081 - accuracy: 0.9436 - val_loss: 0.4337 - val_accuracy: 0.8468\n",
      "Epoch 185/200\n",
      "4/4 [==============================] - 0s 10ms/step - loss: 0.2083 - accuracy: 0.9435 - val_loss: 0.4579 - val_accuracy: 0.8355\n",
      "Epoch 186/200\n",
      "4/4 [==============================] - 0s 10ms/step - loss: 0.2099 - accuracy: 0.9417 - val_loss: 0.4990 - val_accuracy: 0.8214\n",
      "Epoch 187/200\n",
      "4/4 [==============================] - 0s 10ms/step - loss: 0.2086 - accuracy: 0.9418 - val_loss: 0.4300 - val_accuracy: 0.8490\n",
      "Epoch 188/200\n",
      "4/4 [==============================] - 0s 10ms/step - loss: 0.2095 - accuracy: 0.9423 - val_loss: 0.4691 - val_accuracy: 0.8315\n",
      "Epoch 189/200\n",
      "4/4 [==============================] - 0s 11ms/step - loss: 0.2090 - accuracy: 0.9418 - val_loss: 0.4506 - val_accuracy: 0.8393\n",
      "Epoch 190/200\n",
      "4/4 [==============================] - 0s 10ms/step - loss: 0.2083 - accuracy: 0.9423 - val_loss: 0.4242 - val_accuracy: 0.8484\n",
      "Epoch 191/200\n",
      "4/4 [==============================] - 0s 10ms/step - loss: 0.2074 - accuracy: 0.9433 - val_loss: 0.5333 - val_accuracy: 0.8046\n",
      "Epoch 192/200\n",
      "4/4 [==============================] - 0s 10ms/step - loss: 0.2104 - accuracy: 0.9406 - val_loss: 0.4372 - val_accuracy: 0.8416\n",
      "Epoch 193/200\n",
      "4/4 [==============================] - 0s 11ms/step - loss: 0.2079 - accuracy: 0.9431 - val_loss: 0.3982 - val_accuracy: 0.8608\n",
      "Epoch 194/200\n",
      "4/4 [==============================] - 0s 11ms/step - loss: 0.2084 - accuracy: 0.9441 - val_loss: 0.5187 - val_accuracy: 0.8119\n",
      "Epoch 195/200\n",
      "4/4 [==============================] - 0s 11ms/step - loss: 0.2075 - accuracy: 0.9423 - val_loss: 0.4305 - val_accuracy: 0.8443\n",
      "Epoch 196/200\n",
      "4/4 [==============================] - 0s 10ms/step - loss: 0.2075 - accuracy: 0.9423 - val_loss: 0.4304 - val_accuracy: 0.8462\n",
      "Epoch 197/200\n",
      "4/4 [==============================] - 0s 11ms/step - loss: 0.2092 - accuracy: 0.9414 - val_loss: 0.5011 - val_accuracy: 0.8196\n",
      "Epoch 198/200\n",
      "4/4 [==============================] - 0s 10ms/step - loss: 0.2077 - accuracy: 0.9424 - val_loss: 0.4230 - val_accuracy: 0.8480\n",
      "Epoch 199/200\n",
      "4/4 [==============================] - 0s 10ms/step - loss: 0.2079 - accuracy: 0.9422 - val_loss: 0.4509 - val_accuracy: 0.8384\n",
      "Epoch 200/200\n",
      "4/4 [==============================] - 0s 11ms/step - loss: 0.2066 - accuracy: 0.9423 - val_loss: 0.4416 - val_accuracy: 0.8415\n"
     ]
    }
   ],
   "source": [
    "history = tf.model.fit(x_data, y_one_hot, batch_size=batch_size , validation_split=0.2, epochs=training_epochs)"
   ]
  },
  {
   "cell_type": "code",
   "execution_count": 8,
   "id": "0f3f6697",
   "metadata": {},
   "outputs": [
    {
     "data": {
      "image/png": "[encoded data removed]",
      "text/plain": [
       "<Figure size 460.8x403.2 with 1 Axes>"
      ]
     },
     "metadata": {},
     "output_type": "display_data"
    }
   ],
   "source": [
    "# 모델 손실 함수 시각화\n",
    "from jupyterthemes import jtplot\n",
    "jtplot.style(theme='monokai')\n",
    "\n",
    "plt.plot(history.history['loss'], 'b-', label='loss')\n",
    "plt.plot(history.history['val_loss'], 'r-', label='val_loss')\n",
    "plt.title('Model loss')\n",
    "plt.xlabel('Epoch')\n",
    "plt.ylabel('Loss')\n",
    "plt.legend()\n",
    "plt.show()"
   ]
  },
  {
   "cell_type": "code",
   "execution_count": 9,
   "id": "83e399f2",
   "metadata": {},
   "outputs": [
    {
     "data": {
      "image/png": "[encoded data removed]",
      "text/plain": [
       "<Figure size 460.8x403.2 with 1 Axes>"
      ]
     },
     "metadata": {},
     "output_type": "display_data"
    }
   ],
   "source": [
    "# 모델 정확도 시각화\n",
    "plt.plot(history.history['accuracy'], 'g-', label='accuracy')\n",
    "plt.plot(history.history['val_accuracy'], 'r-', label='val_accuracy')\n",
    "plt.title('Model Accuracy')\n",
    "plt.xlabel('Epoch')\n",
    "plt.ylabel('Accuracy')\n",
    "plt.legend()\n",
    "plt.show()"
   ]
  },
  {
   "cell_type": "code",
   "execution_count": 10,
   "id": "f860be4f",
   "metadata": {},
   "outputs": [
    {
     "name": "stdout",
     "output_type": "stream",
     "text": [
      "(8000, 20) (8000, 4)\n"
     ]
    }
   ],
   "source": [
    "# Full x_data test\n",
    "test_data = np.loadtxt('MIMO_2_10dB_test.csv', delimiter=',', dtype=np.float32)\n",
    "x_test_data = test_data[:, 1:21]\n",
    "y_test_data = test_data[:, -4:]\n",
    "print(x_test_data.shape, y_test_data.shape)"
   ]
  },
  {
   "cell_type": "code",
   "execution_count": 11,
   "id": "1b49e243",
   "metadata": {},
   "outputs": [
    {
     "name": "stdout",
     "output_type": "stream",
     "text": [
      "[[1]\n",
      " [1]\n",
      " [1]\n",
      " ...\n",
      " [2]\n",
      " [2]\n",
      " [2]]\n"
     ]
    }
   ],
   "source": [
    "# Convert y_test_data to y_test_bit\n",
    "i=1\n",
    "y_test_merge = []\n",
    "while i <= y_test_data.shape[0]:\n",
    "    temp2 = \"\".join(str(_) for _ in y_test_data[i-1,:])\n",
    "    y_test_merge.append(temp2)\n",
    "    i = i + 1\n",
    "\n",
    "encoder = LabelEncoder()\n",
    "encoder.fit(y_test_merge)\n",
    "y_test_bit = encoder.transform(y_test_merge)\n",
    "y_test_bit = y_test_bit.reshape(-1, 1)\n",
    "print(y_test_bit)"
   ]
  },
  {
   "cell_type": "code",
   "execution_count": 12,
   "id": "02ceb9be",
   "metadata": {},
   "outputs": [
    {
     "name": "stdout",
     "output_type": "stream",
     "text": [
      "one_hot: [[0. 1. 0. 0.]\n",
      " [0. 1. 0. 0.]\n",
      " [0. 1. 0. 0.]\n",
      " ...\n",
      " [0. 0. 1. 0.]\n",
      " [0. 0. 1. 0.]\n",
      " [0. 0. 1. 0.]]\n"
     ]
    }
   ],
   "source": [
    "# Convert y_data to one_hot\n",
    "y_test_one_hot = tf.keras.utils.to_categorical(y_test_bit, nb_classes)\n",
    "print(\"one_hot:\", y_test_one_hot)"
   ]
  },
  {
   "cell_type": "code",
   "execution_count": 13,
   "id": "26d7e049",
   "metadata": {},
   "outputs": [
    {
     "name": "stdout",
     "output_type": "stream",
     "text": [
      "250/250 [==============================] - 0s 1ms/step - loss: 0.2479 - accuracy: 0.9244\n",
      "loss:  0.24794088304042816\n",
      "accuracy 0.9243749976158142\n"
     ]
    }
   ],
   "source": [
    "evaluation = tf.model.evaluate(x_test_data, y_test_one_hot)\n",
    "print('loss: ', evaluation[0])\n",
    "print('accuracy', evaluation[1])"
   ]
  },
  {
   "cell_type": "code",
   "execution_count": 14,
   "id": "d62b59fa",
   "metadata": {},
   "outputs": [],
   "source": [
    "predict_x = tf.model.predict(x_test_data) \n",
    "pred = np.argmax(predict_x,axis=1)\n",
    "# for p, y in zip(pred, y_test_bit.flatten()):\n",
    " #   print(\"[{}] Prediction: {} True Y: {}\".format(p == int(y), p, int(y)))"
   ]
  },
  {
   "cell_type": "code",
   "execution_count": 15,
   "id": "e5514203",
   "metadata": {},
   "outputs": [
    {
     "name": "stdout",
     "output_type": "stream",
     "text": [
      "Error : 605\n",
      "Error Count: 642\n"
     ]
    }
   ],
   "source": [
    "res_pred = pred.reshape(y_test_data.shape[0], 1)\n",
    "error_cnt = 0\n",
    "error = 0\n",
    "for i in range(0, y_test_data.shape[0]):\n",
    "    if res_pred[i] != y_test_bit[i]:\n",
    "        #print(\"False : {}\".format(i))\n",
    "        #print(\"[{}] data : {}\".format(i, y_test_data[i]))\n",
    "        error += 1\n",
    "        for n in range(0, y_test_data.shape[0], int(y_test_data.shape[0]/nb_classes)):\n",
    "            if y_test_bit[n] == res_pred[i]:\n",
    "                #print(\"[{}] pred data: {}\".format(n, y_test_data[n]))\n",
    "                bit_error = 0\n",
    "                for m in range(0, y_test_data.shape[1]): \n",
    "                    if y_test_data[i, m] != y_test_data[n, m]:\n",
    "                        bit_error += 1\n",
    "                        error_cnt += 1\n",
    "                #print(\"bit error count : \", bit_error)\n",
    "                break\n",
    "print(\"Error : {}\".format(error))\n",
    "print(\"Error Count: {}\".format(error_cnt))"
   ]
  },
  {
   "cell_type": "code",
   "execution_count": 16,
   "id": "979f11c4",
   "metadata": {},
   "outputs": [
    {
     "name": "stdout",
     "output_type": "stream",
     "text": [
      "BER: 0.0200625\n"
     ]
    }
   ],
   "source": [
    "BER = (error_cnt)/(y_test_data.shape[0]*2*2)\n",
    "print(\"BER: {}\".format(BER))"
   ]
  },
  {
   "cell_type": "code",
   "execution_count": null,
   "id": "5a5b98a7",
   "metadata": {},
   "outputs": [],
   "source": []
  }
 ],
 "metadata": {
  "kernelspec": {
   "display_name": "Python 3 (ipykernel)",
   "language": "python",
   "name": "python3"
  },
  "language_info": {
   "codemirror_mode": {
    "name": "ipython",
    "version": 3
   },
   "file_extension": ".py",
   "mimetype": "text/x-python",
   "name": "python",
   "nbconvert_exporter": "python",
   "pygments_lexer": "ipython3",
   "version": "3.8.12"
  }
 },
 "nbformat": 4,
 "nbformat_minor": 5
}
